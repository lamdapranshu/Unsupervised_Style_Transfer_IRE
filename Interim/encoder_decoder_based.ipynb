{
  "nbformat": 4,
  "nbformat_minor": 0,
  "metadata": {
    "colab": {
      "provenance": [],
      "gpuType": "T4"
    },
    "kernelspec": {
      "name": "python3",
      "display_name": "Python 3"
    },
    "language_info": {
      "name": "python"
    },
    "accelerator": "GPU"
  },
  "cells": [
    {
      "cell_type": "code",
      "execution_count": 1,
      "metadata": {
        "id": "CYJZIwey04VF"
      },
      "outputs": [],
      "source": [
        "# desired imports\n",
        "import pandas as pd\n",
        "import re\n",
        "import numpy as np\n",
        "import torch\n",
        "import torch.nn as nn\n",
        "from sklearn.model_selection import train_test_split\n",
        "from torch.utils.data import Dataset, DataLoader\n",
        "from torch.nn.utils.rnn import pad_sequence, pack_padded_sequence, pad_packed_sequence\n",
        "from sklearn.metrics import accuracy_score\n",
        "from sklearn.metrics import f1_score\n",
        "import torch.nn.functional as F"
      ]
    },
    {
      "cell_type": "code",
      "source": [
        "# Select GPU\n",
        "device = torch.device(\"cuda\" if torch.cuda.is_available else \"cpu\")\n",
        "print(device)"
      ],
      "metadata": {
        "colab": {
          "base_uri": "https://localhost:8080/"
        },
        "id": "zDybXxkj0_S-",
        "outputId": "63fb8c93-2571-4af1-aff1-f3acd93d0b1c"
      },
      "execution_count": 2,
      "outputs": [
        {
          "output_type": "stream",
          "name": "stdout",
          "text": [
            "cuda\n"
          ]
        }
      ]
    },
    {
      "cell_type": "code",
      "source": [
        "from google.colab import drive\n",
        "drive.mount('/content/drive')"
      ],
      "metadata": {
        "colab": {
          "base_uri": "https://localhost:8080/"
        },
        "id": "HvKp_ArI1G-R",
        "outputId": "6b70eaaa-a5e6-4afc-fddf-213c9fee71a0"
      },
      "execution_count": 3,
      "outputs": [
        {
          "output_type": "stream",
          "name": "stdout",
          "text": [
            "Mounted at /content/drive\n"
          ]
        }
      ]
    },
    {
      "cell_type": "code",
      "source": [
        "# Per sentence sent cleaning\n",
        "def per_sent_cleaning(sent):\n",
        "  sent = sent.lower()\n",
        "  sent = re.sub('\\n', ' ', sent)\n",
        "  sent = re.sub(\"\\s+\", ' ', sent)\n",
        "  sent = re.sub(\"http[s]?://\\S+\", \" <URL> \", sent)\n",
        "  # sent = re.sub(r\"[^A-Za-z0-9<>\\s]\", '', sent)\n",
        "\n",
        "  return sent"
      ],
      "metadata": {
        "id": "khMa751r1I0q"
      },
      "execution_count": 4,
      "outputs": []
    },
    {
      "cell_type": "code",
      "source": [
        "# Clean data\n",
        "def clean_data(data):\n",
        "  cleaned_data = [per_sent_cleaning(sent) for sent in data]\n",
        "  return cleaned_data"
      ],
      "metadata": {
        "id": "vkeSxLqI1O0I"
      },
      "execution_count": 5,
      "outputs": []
    },
    {
      "cell_type": "code",
      "source": [
        "# read file\n",
        "def read_file(fname):\n",
        "  sents = []\n",
        "  with open(fname, 'r') as f:\n",
        "    sents = f.readlines()\n",
        "  return sents\n",
        "\n",
        "sents_sk = read_file(\"/content/drive/MyDrive/IRE/train_shakespeare.txt\")\n",
        "sents_en = read_file(\"/content/drive/MyDrive/IRE/train_en.txt\")"
      ],
      "metadata": {
        "id": "kHZ6qk-b1QRU"
      },
      "execution_count": 6,
      "outputs": []
    },
    {
      "cell_type": "code",
      "source": [
        "cleaned_sents_sk = np.array(clean_data(sents_sk))\n",
        "orig_cleaned_sents_sk = cleaned_sents_sk\n",
        "\n",
        "cleaned_sents_en = np.array(clean_data(sents_en))\n",
        "orig_cleaned_sents_en = cleaned_sents_en\n",
        "\n",
        "print(cleaned_sents_sk.shape, cleaned_sents_en.shape)"
      ],
      "metadata": {
        "colab": {
          "base_uri": "https://localhost:8080/"
        },
        "id": "9Bypr0or1WhX",
        "outputId": "0c3a6372-a179-4b44-f5a7-8d67dbc1923e"
      },
      "execution_count": 7,
      "outputs": [
        {
          "output_type": "stream",
          "name": "stdout",
          "text": [
            "(18395,) (18395,)\n"
          ]
        }
      ]
    },
    {
      "cell_type": "code",
      "source": [
        "def create_vocab(data):\n",
        "  vocab = {}\n",
        "  rev_vocab = {}\n",
        "  vocab[\"<pad>\"] = 0\n",
        "  vocab[\"<sos>\"] = 1\n",
        "  vocab[\"<eos>\"] = 2\n",
        "  vocab[\"<unk>\"] = 3\n",
        "\n",
        "  rev_vocab[0] = \"<pad>\"\n",
        "  rev_vocab[1] = \"<sos>\"\n",
        "  rev_vocab[2] = \"<eos>\"\n",
        "  rev_vocab[3] = \"<unk>\"\n",
        "\n",
        "  for sent in data:\n",
        "    words_arr = sent.split(\" \")\n",
        "    for word in words_arr:\n",
        "      if word not in vocab:\n",
        "        vocab[word] = len(vocab)\n",
        "        rev_vocab[len(rev_vocab)] = word\n",
        "\n",
        "  return vocab, rev_vocab"
      ],
      "metadata": {
        "id": "FC6WeROvdKgx"
      },
      "execution_count": 8,
      "outputs": []
    },
    {
      "cell_type": "code",
      "source": [
        "# vocab creation\n",
        "vocab_en, rev_vocab_en = create_vocab(cleaned_sents_en)\n",
        "vocab_sk, rev_vocab_sk = create_vocab(cleaned_sents_sk)\n",
        "print(len(vocab_sk), len(vocab_en), len(rev_vocab_sk), len(rev_vocab_en))"
      ],
      "metadata": {
        "colab": {
          "base_uri": "https://localhost:8080/"
        },
        "id": "1oYV-n_q1X0d",
        "outputId": "40c9de74-ca9d-42bb-b8ba-95cee486e5a1"
      },
      "execution_count": 9,
      "outputs": [
        {
          "output_type": "stream",
          "name": "stdout",
          "text": [
            "12399 10061 12399 10061\n"
          ]
        }
      ]
    },
    {
      "cell_type": "code",
      "source": [
        "# append <sos> and <eos> before and after each sent\n",
        "def add_sent_markers(sents):\n",
        "  new_sents = [\"<sos> \" + sent + \" <eos>\" for sent in sents]\n",
        "  return new_sents\n",
        "\n",
        "sents_sk = add_sent_markers(cleaned_sents_sk)\n",
        "sents_en = add_sent_markers(cleaned_sents_en)"
      ],
      "metadata": {
        "id": "DnY2zyAk2LAt"
      },
      "execution_count": 13,
      "outputs": []
    },
    {
      "cell_type": "code",
      "source": [
        "class CustomDataset(Dataset):\n",
        "    def __init__(self, data, vocab):\n",
        "        self.data = data\n",
        "        self.vocab = vocab\n",
        "\n",
        "    def __len__(self):\n",
        "        return len(self.data)\n",
        "\n",
        "    def __getitem__(self, index):\n",
        "        sent = self.data[index]\n",
        "        sent_numr_repr = [self.vocab[word] if word in self.vocab else self.vocab[\"<unk>\"] for word in sent.split(\" \")]\n",
        "\n",
        "        return sent_numr_repr\n",
        "\n",
        "def custom_collate_fn(seqs):\n",
        "    sorted_seqs = sorted(enumerate(seqs), key=lambda x: len(x), reverse=True)\n",
        "    padded_seqs = pad_sequence([torch.tensor(seq[1]) for seq in sorted_seqs], batch_first=True, padding_value = 0)\n",
        "    orig_sent_len = [(len(seq[1]) - 1) for seq in sorted_seqs]\n",
        "\n",
        "    return padded_seqs, orig_sent_len"
      ],
      "metadata": {
        "id": "3XzfAhgB2M8U"
      },
      "execution_count": 14,
      "outputs": []
    },
    {
      "cell_type": "code",
      "source": [
        "# split data to train, val and test\n",
        "train_data_sk = sents_sk[0:15000]\n",
        "val_data_sk = sents_sk[15000:]\n",
        "\n",
        "train_data_en = sents_en[0:15000]\n",
        "val_data_en = sents_en[15000:]\n",
        "\n",
        "print(len(train_data_en), len(val_data_en), len(train_data_sk), len(val_data_sk))"
      ],
      "metadata": {
        "colab": {
          "base_uri": "https://localhost:8080/"
        },
        "id": "uiVpHBx1217O",
        "outputId": "a7ab2e70-bba0-44d2-86cd-643e3744824e"
      },
      "execution_count": 15,
      "outputs": [
        {
          "output_type": "stream",
          "name": "stdout",
          "text": [
            "15000 3395 15000 3395\n"
          ]
        }
      ]
    },
    {
      "cell_type": "code",
      "source": [
        "batch_size = 8\n",
        "train_dataset_sk = CustomDataset(train_data_sk, vocab_sk)\n",
        "train_data_loader_sk = DataLoader(train_dataset_sk, batch_size = batch_size, collate_fn=custom_collate_fn, shuffle=True)\n",
        "\n",
        "val_dataset_sk = CustomDataset(val_data_sk, vocab_sk)\n",
        "val_data_loader_sk = DataLoader(val_dataset_sk, batch_size = batch_size, collate_fn=custom_collate_fn, shuffle=True)\n",
        "\n",
        "train_dataset_en = CustomDataset(train_data_en, vocab_en)\n",
        "train_data_loader_en = DataLoader(train_dataset_en, batch_size = batch_size, collate_fn=custom_collate_fn, shuffle=True)\n",
        "\n",
        "val_dataset_en = CustomDataset(val_data_en, vocab_en)\n",
        "val_data_loader_en = DataLoader(val_dataset_en, batch_size = batch_size, collate_fn=custom_collate_fn, shuffle=True)"
      ],
      "metadata": {
        "id": "z7IEp9E22snx"
      },
      "execution_count": 16,
      "outputs": []
    },
    {
      "cell_type": "code",
      "source": [
        "class Encode(nn.Module):\n",
        "  def __init__(self, input_dim, hidden_dim, vocab_size):\n",
        "    super(Encode, self).__init__()\n",
        "\n",
        "    self.embd_repr = nn.Embedding(vocab_size, input_dim)\n",
        "    self.bilstm = nn.LSTM(input_dim, hidden_dim, bidirectional=True, batch_first = True)\n",
        "    self.fc1 = nn.Linear(2 * hidden_dim, vocab_size)\n",
        "\n",
        "  def forward(self, input_sent, sent_lenths, init_hidden_state = None):\n",
        "    embd_input = self.embd_repr(input_sent)\n",
        "    packed_data = pack_padded_sequence(embd_input, sent_lenths, batch_first=True, enforce_sorted=False)\n",
        "    output1, (h_n, c_n) = self.bilstm(packed_data)\n",
        "    unpack_output1, unpack_lengths = pad_packed_sequence(output1, batch_first=True)\n",
        "\n",
        "    fc_op = self.fc1(unpack_output1)\n",
        "\n",
        "    return fc_op, unpack_output1\n",
        "\n",
        "input_dim_sk = 100\n",
        "hidden_dim_sk = 50\n",
        "encode_model_sk = Encode(input_dim_sk, hidden_dim_sk, len(vocab_sk)).to(device)\n",
        "loss_fn_sk = nn.CrossEntropyLoss()\n",
        "optimzr_sk = torch.optim.SGD(encode_model_sk.parameters(), lr = 0.01)"
      ],
      "metadata": {
        "id": "VGYK_Akq4XYD"
      },
      "execution_count": 17,
      "outputs": []
    },
    {
      "cell_type": "code",
      "source": [
        "class Decode(nn.Module):\n",
        "  def __init__(self, input_dim, hidden_dim, vocab_size):\n",
        "    super(Decode, self).__init__()\n",
        "\n",
        "    self.embd_repr = nn.Embedding(vocab_size, input_dim)\n",
        "    self.lstm = nn.LSTM(input_dim, hidden_dim, batch_first = True)\n",
        "    self.fc1 = nn.Linear(hidden_dim, vocab_size)\n",
        "\n",
        "  def forward(self, input_sent, sent_lenths, init_hidden_state = None):\n",
        "    embd_input = self.embd_repr(input_sent)\n",
        "\n",
        "    if(init_hidden_state != None):\n",
        "      h_n = init_hidden_state\n",
        "      c_n = torch.zeros_like(h_n)\n",
        "      output, (h_n, c_n) = self.lstm(embd_input, (h_n, c_n))\n",
        "\n",
        "    else:\n",
        "      packed_data = pack_padded_sequence(embd_input, sent_lenths, batch_first=True, enforce_sorted=False)\n",
        "      output1, (h_n, c_n) = self.lstm(packed_data)\n",
        "      unpack_output1, unpack_lengths = pad_packed_sequence(output1, batch_first=True)\n",
        "      output = unpack_output1\n",
        "\n",
        "    fc_op = self.fc1(output)\n",
        "\n",
        "    return fc_op, output\n",
        "\n",
        "input_dim = 100\n",
        "hidden_dim = 100\n",
        "decode_model_en = Decode(input_dim, hidden_dim, len(vocab_en)).to(device)\n",
        "loss_fn_en = nn.CrossEntropyLoss()\n",
        "optimzr = torch.optim.SGD(decode_model_en.parameters(), lr = 0.01)"
      ],
      "metadata": {
        "id": "eulSdLVn3ysk"
      },
      "execution_count": 18,
      "outputs": []
    },
    {
      "cell_type": "code",
      "source": [
        "# Training model\n",
        "def start_training(model, epochs, train_data_loader, val_data_loader, loss_fn, fname, optimzr, device):\n",
        "  min_val_loss = np.inf\n",
        "  train_ll, val_ll = [], []\n",
        "\n",
        "  for epoch in range(epochs):\n",
        "    print(f\"EPOCH {epoch + 1}\")\n",
        "\n",
        "    training_loss = 0.0\n",
        "    model.train(True)\n",
        "\n",
        "    for padded_data, act_sent_length in train_data_loader:\n",
        "      y_true = padded_data[:,1:].to(device)\n",
        "      input_data = padded_data[:,0:-1].to(device)\n",
        "\n",
        "      fc_op, unpack_output1 = model(input_data, act_sent_length)\n",
        "\n",
        "      fc_op = fc_op.reshape(fc_op.shape[0] * fc_op.shape[1], -1)\n",
        "      y_true = y_true.flatten()\n",
        "\n",
        "      loss = loss_fn(fc_op, y_true)\n",
        "\n",
        "      loss.backward()\n",
        "      optimzr.step()\n",
        "      optimzr.zero_grad()\n",
        "\n",
        "      training_loss += loss.item()\n",
        "\n",
        "    train_ll.append(training_loss / len(train_data_loader))\n",
        "    print(\"Average training loss (per batch) \", training_loss / len(train_data_loader))\n",
        "\n",
        "    if(epoch % 1 == 0):\n",
        "      val_loss = 0.0\n",
        "      model.eval()\n",
        "\n",
        "      with torch.no_grad():\n",
        "        for padded_data, act_sent_len in val_data_loader:\n",
        "          y_true = padded_data[:,1:].to(device)\n",
        "          input_data = padded_data[:,0:-1].to(device)\n",
        "\n",
        "          fc_op, unpack_output1 = model(input_data, act_sent_len)\n",
        "          fc_op = fc_op.reshape(fc_op.shape[0] * fc_op.shape[1], -1)\n",
        "          y_true = y_true.flatten()\n",
        "\n",
        "          loss = loss_fn(fc_op, y_true)\n",
        "          val_loss += loss.item()\n",
        "\n",
        "        avg_val_loss = val_loss / len(val_data_loader)\n",
        "        val_ll.append(avg_val_loss)\n",
        "        print(\"Average Validation loss (per batch) \", avg_val_loss)\n",
        "\n",
        "        if(avg_val_loss < min_val_loss):\n",
        "          print(\"Saving the best model\")\n",
        "          min_val_loss = avg_val_loss\n",
        "          torch.save(model.state_dict(), \"/content/drive/MyDrive/IRE/\"+fname+\".pth\")\n",
        "    print(\"----------------------------------------------------------------------------------------------------\")\n",
        "\n",
        "  return train_ll, val_ll"
      ],
      "metadata": {
        "id": "wxCp7tSn5hWt"
      },
      "execution_count": 24,
      "outputs": []
    },
    {
      "cell_type": "code",
      "source": [
        "# Train Encoder\n",
        "epochs = 20\n",
        "train_ll, val_ll = start_training(encode_model_sk, epochs, train_data_loader_sk, val_data_loader_sk, loss_fn_sk, \"encoded_model_sk\", optimzr_sk, device)"
      ],
      "metadata": {
        "colab": {
          "base_uri": "https://localhost:8080/"
        },
        "id": "FW5qKSYDAwMH",
        "outputId": "bbb75431-552c-4365-9ade-729610a9162b"
      },
      "execution_count": 25,
      "outputs": [
        {
          "output_type": "stream",
          "name": "stdout",
          "text": [
            "EPOCH 1\n",
            "Average training loss (per batch)  1.9378520163853963\n",
            "Average Validation loss (per batch)  1.9601123742496267\n",
            "Saving the best model\n",
            "----------------------------------------------------------------------------------------------------\n",
            "EPOCH 2\n",
            "Average training loss (per batch)  1.9158384941101074\n",
            "Average Validation loss (per batch)  1.9231694632418015\n",
            "Saving the best model\n",
            "----------------------------------------------------------------------------------------------------\n",
            "EPOCH 3\n",
            "Average training loss (per batch)  1.8909859426180522\n",
            "Average Validation loss (per batch)  1.9179598447855781\n",
            "Saving the best model\n",
            "----------------------------------------------------------------------------------------------------\n",
            "EPOCH 4\n",
            "Average training loss (per batch)  1.8988850664138794\n",
            "Average Validation loss (per batch)  1.906430491138907\n",
            "Saving the best model\n",
            "----------------------------------------------------------------------------------------------------\n",
            "EPOCH 5\n",
            "Average training loss (per batch)  1.8695497493108113\n",
            "Average Validation loss (per batch)  1.9241636638080373\n",
            "----------------------------------------------------------------------------------------------------\n",
            "EPOCH 6\n",
            "Average training loss (per batch)  1.8602349886258442\n",
            "Average Validation loss (per batch)  1.8719762597364538\n",
            "Saving the best model\n",
            "----------------------------------------------------------------------------------------------------\n",
            "EPOCH 7\n",
            "Average training loss (per batch)  1.8449361060460407\n",
            "Average Validation loss (per batch)  1.8931198406219483\n",
            "----------------------------------------------------------------------------------------------------\n",
            "EPOCH 8\n",
            "Average training loss (per batch)  1.825426109345754\n",
            "Average Validation loss (per batch)  1.863465375619776\n",
            "Saving the best model\n",
            "----------------------------------------------------------------------------------------------------\n",
            "EPOCH 9\n",
            "Average training loss (per batch)  1.8195755551338195\n",
            "Average Validation loss (per batch)  1.8733077103951399\n",
            "----------------------------------------------------------------------------------------------------\n",
            "EPOCH 10\n",
            "Average training loss (per batch)  1.815896281083425\n",
            "Average Validation loss (per batch)  1.8658813622418573\n",
            "----------------------------------------------------------------------------------------------------\n",
            "EPOCH 11\n",
            "Average training loss (per batch)  1.7945971702575683\n",
            "Average Validation loss (per batch)  1.8128179785784553\n",
            "Saving the best model\n",
            "----------------------------------------------------------------------------------------------------\n",
            "EPOCH 12\n",
            "Average training loss (per batch)  1.7773438402811685\n",
            "Average Validation loss (per batch)  1.8264278375401217\n",
            "----------------------------------------------------------------------------------------------------\n",
            "EPOCH 13\n",
            "Average training loss (per batch)  1.7606884771029154\n",
            "Average Validation loss (per batch)  1.82159143966787\n",
            "----------------------------------------------------------------------------------------------------\n",
            "EPOCH 14\n",
            "Average training loss (per batch)  1.7517115888913473\n",
            "Average Validation loss (per batch)  1.7829952736461865\n",
            "Saving the best model\n",
            "----------------------------------------------------------------------------------------------------\n",
            "EPOCH 15\n",
            "Average training loss (per batch)  1.7412366176923115\n",
            "Average Validation loss (per batch)  1.7716319413746104\n",
            "Saving the best model\n",
            "----------------------------------------------------------------------------------------------------\n",
            "EPOCH 16\n",
            "Average training loss (per batch)  1.734410330994924\n",
            "Average Validation loss (per batch)  1.7708324409933651\n",
            "Saving the best model\n",
            "----------------------------------------------------------------------------------------------------\n",
            "EPOCH 17\n",
            "Average training loss (per batch)  1.7256710371335346\n",
            "Average Validation loss (per batch)  1.7438590178770177\n",
            "Saving the best model\n",
            "----------------------------------------------------------------------------------------------------\n",
            "EPOCH 18\n",
            "Average training loss (per batch)  1.7078744101842245\n",
            "Average Validation loss (per batch)  1.7565080210741828\n",
            "----------------------------------------------------------------------------------------------------\n",
            "EPOCH 19\n",
            "Average training loss (per batch)  1.7008061374982197\n",
            "Average Validation loss (per batch)  1.7486068414239322\n",
            "----------------------------------------------------------------------------------------------------\n",
            "EPOCH 20\n",
            "Average training loss (per batch)  1.6931269327481588\n",
            "Average Validation loss (per batch)  1.7245229479845832\n",
            "Saving the best model\n",
            "----------------------------------------------------------------------------------------------------\n"
          ]
        }
      ]
    },
    {
      "cell_type": "code",
      "source": [
        "# Train Decoder\n",
        "train_ll_decode, val_ll_decode = start_training(decode_model_en, epochs, train_data_loader_en, val_data_loader_en, loss_fn_en, \"decoder_model_en\", optimzr, device)"
      ],
      "metadata": {
        "colab": {
          "base_uri": "https://localhost:8080/"
        },
        "id": "qcJccRzx8FrH",
        "outputId": "b6caf0b8-e6da-43a4-e243-81c02c57455a"
      },
      "execution_count": 26,
      "outputs": [
        {
          "output_type": "stream",
          "name": "stdout",
          "text": [
            "EPOCH 1\n",
            "Average training loss (per batch)  6.8852583567301435\n",
            "Average Validation loss (per batch)  4.861247600106632\n",
            "Saving the best model\n",
            "----------------------------------------------------------------------------------------------------\n",
            "EPOCH 2\n",
            "Average training loss (per batch)  4.113117764727274\n",
            "Average Validation loss (per batch)  3.608825924256269\n",
            "Saving the best model\n",
            "----------------------------------------------------------------------------------------------------\n",
            "EPOCH 3\n",
            "Average training loss (per batch)  3.3617599358876546\n",
            "Average Validation loss (per batch)  3.1872751508039587\n",
            "Saving the best model\n",
            "----------------------------------------------------------------------------------------------------\n",
            "EPOCH 4\n",
            "Average training loss (per batch)  3.1140619091033934\n",
            "Average Validation loss (per batch)  3.020490654216093\n",
            "Saving the best model\n",
            "----------------------------------------------------------------------------------------------------\n",
            "EPOCH 5\n",
            "Average training loss (per batch)  2.9749840737660724\n",
            "Average Validation loss (per batch)  2.9449078879636876\n",
            "Saving the best model\n",
            "----------------------------------------------------------------------------------------------------\n",
            "EPOCH 6\n",
            "Average training loss (per batch)  2.888199782180786\n",
            "Average Validation loss (per batch)  2.85395262409659\n",
            "Saving the best model\n",
            "----------------------------------------------------------------------------------------------------\n",
            "EPOCH 7\n",
            "Average training loss (per batch)  2.8568557956695555\n",
            "Average Validation loss (per batch)  2.8186631031597362\n",
            "Saving the best model\n",
            "----------------------------------------------------------------------------------------------------\n",
            "EPOCH 8\n",
            "Average training loss (per batch)  2.802649298477173\n",
            "Average Validation loss (per batch)  2.7920430379755357\n",
            "Saving the best model\n",
            "----------------------------------------------------------------------------------------------------\n",
            "EPOCH 9\n",
            "Average training loss (per batch)  2.7712497163772585\n",
            "Average Validation loss (per batch)  2.777103799932143\n",
            "Saving the best model\n",
            "----------------------------------------------------------------------------------------------------\n",
            "EPOCH 10\n",
            "Average training loss (per batch)  2.746101388676961\n",
            "Average Validation loss (per batch)  2.7397797065622664\n",
            "Saving the best model\n",
            "----------------------------------------------------------------------------------------------------\n",
            "EPOCH 11\n",
            "Average training loss (per batch)  2.7168732660929362\n",
            "Average Validation loss (per batch)  2.7164035244549023\n",
            "Saving the best model\n",
            "----------------------------------------------------------------------------------------------------\n",
            "EPOCH 12\n",
            "Average training loss (per batch)  2.7065730815251667\n",
            "Average Validation loss (per batch)  2.6877265913346235\n",
            "Saving the best model\n",
            "----------------------------------------------------------------------------------------------------\n",
            "EPOCH 13\n",
            "Average training loss (per batch)  2.6952502813975014\n",
            "Average Validation loss (per batch)  2.706264578594881\n",
            "----------------------------------------------------------------------------------------------------\n",
            "EPOCH 14\n",
            "Average training loss (per batch)  2.6808725720087687\n",
            "Average Validation loss (per batch)  2.696517744625316\n",
            "----------------------------------------------------------------------------------------------------\n",
            "EPOCH 15\n",
            "Average training loss (per batch)  2.671329216003418\n",
            "Average Validation loss (per batch)  2.6626885604858397\n",
            "Saving the best model\n",
            "----------------------------------------------------------------------------------------------------\n",
            "EPOCH 16\n",
            "Average training loss (per batch)  2.640963342030843\n",
            "Average Validation loss (per batch)  2.693508065448088\n",
            "----------------------------------------------------------------------------------------------------\n",
            "EPOCH 17\n",
            "Average training loss (per batch)  2.6357111658096315\n",
            "Average Validation loss (per batch)  2.643020316292258\n",
            "Saving the best model\n",
            "----------------------------------------------------------------------------------------------------\n",
            "EPOCH 18\n",
            "Average training loss (per batch)  2.6259836345036827\n",
            "Average Validation loss (per batch)  2.6329163829018087\n",
            "Saving the best model\n",
            "----------------------------------------------------------------------------------------------------\n",
            "EPOCH 19\n",
            "Average training loss (per batch)  2.603478753598531\n",
            "Average Validation loss (per batch)  2.6482974175845877\n",
            "----------------------------------------------------------------------------------------------------\n",
            "EPOCH 20\n",
            "Average training loss (per batch)  2.5980477535883586\n",
            "Average Validation loss (per batch)  2.6304853484209847\n",
            "Saving the best model\n",
            "----------------------------------------------------------------------------------------------------\n"
          ]
        }
      ]
    },
    {
      "cell_type": "code",
      "source": [
        "# Plotting the loss curves for encoder only\n",
        "import numpy as np\n",
        "import matplotlib.pyplot as plt\n",
        "\n",
        "y = np.array(train_ll)\n",
        "x = np.array([1,2,3,4,5,6,7,8,9,10,11,12,13,14,15,16,17,18,19,20])\n",
        "z = np.array(val_ll)\n",
        "\n",
        "plt.plot(x, y, label ='Train Loss')\n",
        "plt.plot(x, z, label ='Validation Loss')\n",
        "\n",
        "plt.title(\"Train and Validation Loss for Encoder\")\n",
        "plt.xlabel(\"EPOCH\")\n",
        "plt.ylabel(\"Loss value\")\n",
        "plt.show()"
      ],
      "metadata": {
        "id": "1O3Hw3hXgjYp",
        "colab": {
          "base_uri": "https://localhost:8080/",
          "height": 472
        },
        "outputId": "2e00f1f3-1762-45b0-97f3-e8a081d33405"
      },
      "execution_count": 27,
      "outputs": [
        {
          "output_type": "display_data",
          "data": {
            "text/plain": [
              "<Figure size 640x480 with 1 Axes>"
            ],
            "image/png": "[encoded data removed]"
          },
          "metadata": {}
        }
      ]
    },
    {
      "cell_type": "code",
      "source": [
        "# Plotting the loss curves for encoder only\n",
        "import numpy as np\n",
        "import matplotlib.pyplot as plt\n",
        "\n",
        "y = np.array(train_ll_decode)\n",
        "x = np.array([1,2,3,4,5,6,7,8,9,10,11,12,13,14,15,16,17,18,19,20])\n",
        "z = np.array(val_ll_decode)\n",
        "\n",
        "plt.plot(x, y, label ='Train Loss')\n",
        "plt.plot(x, z, label ='Validation Loss')\n",
        "\n",
        "plt.title(\"Train and Validation Loss for Decoder\")\n",
        "plt.xlabel(\"EPOCH\")\n",
        "plt.ylabel(\"Loss value\")\n",
        "plt.show()"
      ],
      "metadata": {
        "colab": {
          "base_uri": "https://localhost:8080/",
          "height": 472
        },
        "id": "oIXZXAAs3yHt",
        "outputId": "c693ddf4-61d1-49a1-df36-0ca6616256fe"
      },
      "execution_count": 29,
      "outputs": [
        {
          "output_type": "display_data",
          "data": {
            "text/plain": [
              "<Figure size 640x480 with 1 Axes>"
            ],
            "image/png": "[encoded data removed]"
          },
          "metadata": {}
        }
      ]
    },
    {
      "cell_type": "code",
      "source": [
        "# Start Inferencing"
      ],
      "metadata": {
        "id": "WUFrfDqDgq2A"
      },
      "execution_count": null,
      "outputs": []
    },
    {
      "cell_type": "code",
      "source": [
        "# Load the saved model and dictionaries from file\n",
        "model_sk = Encode(input_dim_sk, hidden_dim_sk, len(vocab_sk)).to(\"cpu\")\n",
        "model_en = Decode(input_dim, hidden_dim, len(vocab_en)).to(\"cpu\")"
      ],
      "metadata": {
        "id": "x0pyhzFoghVC"
      },
      "execution_count": 30,
      "outputs": []
    },
    {
      "cell_type": "code",
      "source": [
        "model_sk.load_state_dict(torch.load(\"/content/drive/MyDrive/IRE/encoded_model_sk.pth\"))\n",
        "model_en.load_state_dict(torch.load(\"/content/drive/MyDrive/IRE/decoder_model_en.pth\"))"
      ],
      "metadata": {
        "colab": {
          "base_uri": "https://localhost:8080/"
        },
        "id": "cM2cQTjP8KmT",
        "outputId": "84ca0498-5c7e-486e-b71f-3d9aed26f634"
      },
      "execution_count": 31,
      "outputs": [
        {
          "output_type": "execute_result",
          "data": {
            "text/plain": [
              "<All keys matched successfully>"
            ]
          },
          "metadata": {},
          "execution_count": 31
        }
      ]
    },
    {
      "cell_type": "code",
      "source": [
        "def get_numr_repr(vocab, sent):\n",
        "  return [vocab[word] if word in vocab else vocab[\"<unk>\"] for word in sent.split()]"
      ],
      "metadata": {
        "id": "i7WAyWpCpgy9"
      },
      "execution_count": 32,
      "outputs": []
    },
    {
      "cell_type": "code",
      "source": [
        "def word_repr(vocab, sent):\n",
        "  return ' '.join([vocab[no] for no in sent])"
      ],
      "metadata": {
        "id": "GEy2fuMzBE46"
      },
      "execution_count": 33,
      "outputs": []
    },
    {
      "cell_type": "code",
      "source": [
        "# Inference\n",
        "def convert_sent(max_sent_len, model_sk, model_en, vocab_en, sent_en, vocab_sk, sent_sk, device):\n",
        "  pred_sent = [vocab_en[\"<sos>\"]]\n",
        "  input_to_decoder_model = torch.tensor([vocab_sk[\"<sos>\"]]).unsqueeze(0)\n",
        "  input_act_len = torch.tensor([1])\n",
        "\n",
        "  numr_repr = torch.tensor(get_numr_repr(vocab_sk, sent_sk)).unsqueeze(0).to(device) # [(the cat is cute)\n",
        "\n",
        "  # get encoded repr\n",
        "  _, encoded_repr = model_sk(numr_repr, [numr_repr.shape[1]]) # ()\n",
        "  encoded_repr = encoded_repr[0] #(n, 100)\n",
        "\n",
        "  # take average of across col or last row repr\n",
        "  mean_repr = torch.mean(encoded_repr, dim = 0)\n",
        "  last_row_repr = encoded_repr[-1]\n",
        "\n",
        "  while(True):\n",
        "    fc_op, _ = model_en(input_to_decoder_model, input_act_len, last_row_repr.unsqueeze(0).unsqueeze(0))\n",
        "    next_word_logits = fc_op[0][-1]\n",
        "\n",
        "    # apply softmax\n",
        "    probs = F.softmax(next_word_logits, dim=-1)\n",
        "    word_idx = torch.argmax(probs)\n",
        "    next_word_idx = word_idx.item() # to get scaler value\n",
        "    word_idx = torch.tensor([next_word_idx]).unsqueeze(0)\n",
        "\n",
        "    if(next_word_idx == vocab_en[\"<eos>\"]):\n",
        "      break\n",
        "\n",
        "    # concat next word idx to orig one\n",
        "    input_to_decoder_model = torch.cat([input_to_decoder_model, word_idx], dim = 1)\n",
        "    pred_sent.append(next_word_idx)\n",
        "\n",
        "    if(len(pred_sent) == max_sent_len):\n",
        "      break\n",
        "\n",
        "  # got the final translated sent\n",
        "  return pred_sent"
      ],
      "metadata": {
        "id": "xrJ-f5rIflXI"
      },
      "execution_count": 34,
      "outputs": []
    },
    {
      "cell_type": "code",
      "source": [
        "ll = convert_sent(20, model_sk, model_en, vocab_en, \"\", vocab_sk, \"To be or not to be is the question\", \"cpu\")"
      ],
      "metadata": {
        "id": "6qTxXdqKvgYE"
      },
      "execution_count": 35,
      "outputs": []
    },
    {
      "cell_type": "code",
      "source": [
        "pred_en_sent = word_repr(rev_vocab_en, ll)\n",
        "pred_en_sent"
      ],
      "metadata": {
        "colab": {
          "base_uri": "https://localhost:8080/",
          "height": 36
        },
        "id": "AmoNBaTdtfxD",
        "outputId": "7421cd91-33b2-491b-cdcb-01039d3c301e"
      },
      "execution_count": 36,
      "outputs": [
        {
          "output_type": "execute_result",
          "data": {
            "text/plain": [
              "'<sos> i you , and you , and you . '"
            ],
            "application/vnd.google.colaboratory.intrinsic+json": {
              "type": "string"
            }
          },
          "metadata": {},
          "execution_count": 36
        }
      ]
    },
    {
      "cell_type": "code",
      "source": [],
      "metadata": {
        "id": "F2_COiN5EEhT"
      },
      "execution_count": null,
      "outputs": []
    }
  ]
}