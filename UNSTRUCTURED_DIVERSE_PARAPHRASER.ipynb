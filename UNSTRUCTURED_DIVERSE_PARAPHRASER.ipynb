{
  "nbformat": 4,
  "nbformat_minor": 0,
  "metadata": {
    "colab": {
      "provenance": []
    },
    "kernelspec": {
      "name": "python3",
      "display_name": "Python 3"
    },
    "language_info": {
      "name": "python"
    },
    "widgets": {
      "application/vnd.jupyter.widget-state+json": {
        "d673ae5ff00649629112cbae5052d706": {
          "model_module": "@jupyter-widgets/controls",
          "model_name": "HBoxModel",
          "model_module_version": "1.5.0",
          "state": {
            "_dom_classes": [],
            "_model_module": "@jupyter-widgets/controls",
            "_model_module_version": "1.5.0",
            "_model_name": "HBoxModel",
            "_view_count": null,
            "_view_module": "@jupyter-widgets/controls",
            "_view_module_version": "1.5.0",
            "_view_name": "HBoxView",
            "box_style": "",
            "children": [
              "IPY_MODEL_e9d4cdb944404da7884909349625bc98",
              "IPY_MODEL_13b5c59faffc44d6bcbc1ac27df97b95",
              "IPY_MODEL_25aead9fa6694f7aa9d2cf048acfb12e"
            ],
            "layout": "IPY_MODEL_8f5fc2b07423428eb723ea30ec3d52fb"
          }
        },
        "e9d4cdb944404da7884909349625bc98": {
          "model_module": "@jupyter-widgets/controls",
          "model_name": "HTMLModel",
          "model_module_version": "1.5.0",
          "state": {
            "_dom_classes": [],
            "_model_module": "@jupyter-widgets/controls",
            "_model_module_version": "1.5.0",
            "_model_name": "HTMLModel",
            "_view_count": null,
            "_view_module": "@jupyter-widgets/controls",
            "_view_module_version": "1.5.0",
            "_view_name": "HTMLView",
            "description": "",
            "description_tooltip": null,
            "layout": "IPY_MODEL_aba40704a92343a997d9196a1f5929a9",
            "placeholder": "​",
            "style": "IPY_MODEL_72a18960a4084f31bc0af3a68b3f4f8b",
            "value": "Downloading (…)lve/main/config.json: 100%"
          }
        },
        "13b5c59faffc44d6bcbc1ac27df97b95": {
          "model_module": "@jupyter-widgets/controls",
          "model_name": "FloatProgressModel",
          "model_module_version": "1.5.0",
          "state": {
            "_dom_classes": [],
            "_model_module": "@jupyter-widgets/controls",
            "_model_module_version": "1.5.0",
            "_model_name": "FloatProgressModel",
            "_view_count": null,
            "_view_module": "@jupyter-widgets/controls",
            "_view_module_version": "1.5.0",
            "_view_name": "ProgressView",
            "bar_style": "success",
            "description": "",
            "description_tooltip": null,
            "layout": "IPY_MODEL_e25bdf5994f248b4b053cc68711026eb",
            "max": 665,
            "min": 0,
            "orientation": "horizontal",
            "style": "IPY_MODEL_29832fc03f42454cafff75354b8065fd",
            "value": 665
          }
        },
        "25aead9fa6694f7aa9d2cf048acfb12e": {
          "model_module": "@jupyter-widgets/controls",
          "model_name": "HTMLModel",
          "model_module_version": "1.5.0",
          "state": {
            "_dom_classes": [],
            "_model_module": "@jupyter-widgets/controls",
            "_model_module_version": "1.5.0",
            "_model_name": "HTMLModel",
            "_view_count": null,
            "_view_module": "@jupyter-widgets/controls",
            "_view_module_version": "1.5.0",
            "_view_name": "HTMLView",
            "description": "",
            "description_tooltip": null,
            "layout": "IPY_MODEL_59403f4b2c564b66ba28e1629bf7cc7f",
            "placeholder": "​",
            "style": "IPY_MODEL_5f4eb614336d448484bb70c408991035",
            "value": " 665/665 [00:00&lt;00:00, 28.4kB/s]"
          }
        },
        "8f5fc2b07423428eb723ea30ec3d52fb": {
          "model_module": "@jupyter-widgets/base",
          "model_name": "LayoutModel",
          "model_module_version": "1.2.0",
          "state": {
            "_model_module": "@jupyter-widgets/base",
            "_model_module_version": "1.2.0",
            "_model_name": "LayoutModel",
            "_view_count": null,
            "_view_module": "@jupyter-widgets/base",
            "_view_module_version": "1.2.0",
            "_view_name": "LayoutView",
            "align_content": null,
            "align_items": null,
            "align_self": null,
            "border": null,
            "bottom": null,
            "display": null,
            "flex": null,
            "flex_flow": null,
            "grid_area": null,
            "grid_auto_columns": null,
            "grid_auto_flow": null,
            "grid_auto_rows": null,
            "grid_column": null,
            "grid_gap": null,
            "grid_row": null,
            "grid_template_areas": null,
            "grid_template_columns": null,
            "grid_template_rows": null,
            "height": null,
            "justify_content": null,
            "justify_items": null,
            "left": null,
            "margin": null,
            "max_height": null,
            "max_width": null,
            "min_height": null,
            "min_width": null,
            "object_fit": null,
            "object_position": null,
            "order": null,
            "overflow": null,
            "overflow_x": null,
            "overflow_y": null,
            "padding": null,
            "right": null,
            "top": null,
            "visibility": null,
            "width": null
          }
        },
        "aba40704a92343a997d9196a1f5929a9": {
          "model_module": "@jupyter-widgets/base",
          "model_name": "LayoutModel",
          "model_module_version": "1.2.0",
          "state": {
            "_model_module": "@jupyter-widgets/base",
            "_model_module_version": "1.2.0",
            "_model_name": "LayoutModel",
            "_view_count": null,
            "_view_module": "@jupyter-widgets/base",
            "_view_module_version": "1.2.0",
            "_view_name": "LayoutView",
            "align_content": null,
            "align_items": null,
            "align_self": null,
            "border": null,
            "bottom": null,
            "display": null,
            "flex": null,
            "flex_flow": null,
            "grid_area": null,
            "grid_auto_columns": null,
            "grid_auto_flow": null,
            "grid_auto_rows": null,
            "grid_column": null,
            "grid_gap": null,
            "grid_row": null,
            "grid_template_areas": null,
            "grid_template_columns": null,
            "grid_template_rows": null,
            "height": null,
            "justify_content": null,
            "justify_items": null,
            "left": null,
            "margin": null,
            "max_height": null,
            "max_width": null,
            "min_height": null,
            "min_width": null,
            "object_fit": null,
            "object_position": null,
            "order": null,
            "overflow": null,
            "overflow_x": null,
            "overflow_y": null,
            "padding": null,
            "right": null,
            "top": null,
            "visibility": null,
            "width": null
          }
        },
        "72a18960a4084f31bc0af3a68b3f4f8b": {
          "model_module": "@jupyter-widgets/controls",
          "model_name": "DescriptionStyleModel",
          "model_module_version": "1.5.0",
          "state": {
            "_model_module": "@jupyter-widgets/controls",
            "_model_module_version": "1.5.0",
            "_model_name": "DescriptionStyleModel",
            "_view_count": null,
            "_view_module": "@jupyter-widgets/base",
            "_view_module_version": "1.2.0",
            "_view_name": "StyleView",
            "description_width": ""
          }
        },
        "e25bdf5994f248b4b053cc68711026eb": {
          "model_module": "@jupyter-widgets/base",
          "model_name": "LayoutModel",
          "model_module_version": "1.2.0",
          "state": {
            "_model_module": "@jupyter-widgets/base",
            "_model_module_version": "1.2.0",
            "_model_name": "LayoutModel",
            "_view_count": null,
            "_view_module": "@jupyter-widgets/base",
            "_view_module_version": "1.2.0",
            "_view_name": "LayoutView",
            "align_content": null,
            "align_items": null,
            "align_self": null,
            "border": null,
            "bottom": null,
            "display": null,
            "flex": null,
            "flex_flow": null,
            "grid_area": null,
            "grid_auto_columns": null,
            "grid_auto_flow": null,
            "grid_auto_rows": null,
            "grid_column": null,
            "grid_gap": null,
            "grid_row": null,
            "grid_template_areas": null,
            "grid_template_columns": null,
            "grid_template_rows": null,
            "height": null,
            "justify_content": null,
            "justify_items": null,
            "left": null,
            "margin": null,
            "max_height": null,
            "max_width": null,
            "min_height": null,
            "min_width": null,
            "object_fit": null,
            "object_position": null,
            "order": null,
            "overflow": null,
            "overflow_x": null,
            "overflow_y": null,
            "padding": null,
            "right": null,
            "top": null,
            "visibility": null,
            "width": null
          }
        },
        "29832fc03f42454cafff75354b8065fd": {
          "model_module": "@jupyter-widgets/controls",
          "model_name": "ProgressStyleModel",
          "model_module_version": "1.5.0",
          "state": {
            "_model_module": "@jupyter-widgets/controls",
            "_model_module_version": "1.5.0",
            "_model_name": "ProgressStyleModel",
            "_view_count": null,
            "_view_module": "@jupyter-widgets/base",
            "_view_module_version": "1.2.0",
            "_view_name": "StyleView",
            "bar_color": null,
            "description_width": ""
          }
        },
        "59403f4b2c564b66ba28e1629bf7cc7f": {
          "model_module": "@jupyter-widgets/base",
          "model_name": "LayoutModel",
          "model_module_version": "1.2.0",
          "state": {
            "_model_module": "@jupyter-widgets/base",
            "_model_module_version": "1.2.0",
            "_model_name": "LayoutModel",
            "_view_count": null,
            "_view_module": "@jupyter-widgets/base",
            "_view_module_version": "1.2.0",
            "_view_name": "LayoutView",
            "align_content": null,
            "align_items": null,
            "align_self": null,
            "border": null,
            "bottom": null,
            "display": null,
            "flex": null,
            "flex_flow": null,
            "grid_area": null,
            "grid_auto_columns": null,
            "grid_auto_flow": null,
            "grid_auto_rows": null,
            "grid_column": null,
            "grid_gap": null,
            "grid_row": null,
            "grid_template_areas": null,
            "grid_template_columns": null,
            "grid_template_rows": null,
            "height": null,
            "justify_content": null,
            "justify_items": null,
            "left": null,
            "margin": null,
            "max_height": null,
            "max_width": null,
            "min_height": null,
            "min_width": null,
            "object_fit": null,
            "object_position": null,
            "order": null,
            "overflow": null,
            "overflow_x": null,
            "overflow_y": null,
            "padding": null,
            "right": null,
            "top": null,
            "visibility": null,
            "width": null
          }
        },
        "5f4eb614336d448484bb70c408991035": {
          "model_module": "@jupyter-widgets/controls",
          "model_name": "DescriptionStyleModel",
          "model_module_version": "1.5.0",
          "state": {
            "_model_module": "@jupyter-widgets/controls",
            "_model_module_version": "1.5.0",
            "_model_name": "DescriptionStyleModel",
            "_view_count": null,
            "_view_module": "@jupyter-widgets/base",
            "_view_module_version": "1.2.0",
            "_view_name": "StyleView",
            "description_width": ""
          }
        },
        "6e737790d13e44cfa971b79821132034": {
          "model_module": "@jupyter-widgets/controls",
          "model_name": "HBoxModel",
          "model_module_version": "1.5.0",
          "state": {
            "_dom_classes": [],
            "_model_module": "@jupyter-widgets/controls",
            "_model_module_version": "1.5.0",
            "_model_name": "HBoxModel",
            "_view_count": null,
            "_view_module": "@jupyter-widgets/controls",
            "_view_module_version": "1.5.0",
            "_view_name": "HBoxView",
            "box_style": "",
            "children": [
              "IPY_MODEL_6348061f21d0459396e94acb4b391d37",
              "IPY_MODEL_d0d4da30997d4e38b13de9308feb25e9",
              "IPY_MODEL_d3a4352de0ab46e0835b93852285394d"
            ],
            "layout": "IPY_MODEL_c104824ef22640b89a64657db585ea95"
          }
        },
        "6348061f21d0459396e94acb4b391d37": {
          "model_module": "@jupyter-widgets/controls",
          "model_name": "HTMLModel",
          "model_module_version": "1.5.0",
          "state": {
            "_dom_classes": [],
            "_model_module": "@jupyter-widgets/controls",
            "_model_module_version": "1.5.0",
            "_model_name": "HTMLModel",
            "_view_count": null,
            "_view_module": "@jupyter-widgets/controls",
            "_view_module_version": "1.5.0",
            "_view_name": "HTMLView",
            "description": "",
            "description_tooltip": null,
            "layout": "IPY_MODEL_24d5c3692475442e9a4cfecb650e9b9b",
            "placeholder": "​",
            "style": "IPY_MODEL_47077fd48f1548598222d4f6eb30f730",
            "value": "Downloading (…)olve/main/vocab.json: 100%"
          }
        },
        "d0d4da30997d4e38b13de9308feb25e9": {
          "model_module": "@jupyter-widgets/controls",
          "model_name": "FloatProgressModel",
          "model_module_version": "1.5.0",
          "state": {
            "_dom_classes": [],
            "_model_module": "@jupyter-widgets/controls",
            "_model_module_version": "1.5.0",
            "_model_name": "FloatProgressModel",
            "_view_count": null,
            "_view_module": "@jupyter-widgets/controls",
            "_view_module_version": "1.5.0",
            "_view_name": "ProgressView",
            "bar_style": "success",
            "description": "",
            "description_tooltip": null,
            "layout": "IPY_MODEL_7bf2c94f67924e34a7e122f8fdaa2d4a",
            "max": 1042301,
            "min": 0,
            "orientation": "horizontal",
            "style": "IPY_MODEL_67ec0c368e274901aed952a29465429b",
            "value": 1042301
          }
        },
        "d3a4352de0ab46e0835b93852285394d": {
          "model_module": "@jupyter-widgets/controls",
          "model_name": "HTMLModel",
          "model_module_version": "1.5.0",
          "state": {
            "_dom_classes": [],
            "_model_module": "@jupyter-widgets/controls",
            "_model_module_version": "1.5.0",
            "_model_name": "HTMLModel",
            "_view_count": null,
            "_view_module": "@jupyter-widgets/controls",
            "_view_module_version": "1.5.0",
            "_view_name": "HTMLView",
            "description": "",
            "description_tooltip": null,
            "layout": "IPY_MODEL_e42f3409cf724110a76ec7b258c0ec03",
            "placeholder": "​",
            "style": "IPY_MODEL_80d658687d584a33a1cabb45d5ddb1cc",
            "value": " 1.04M/1.04M [00:00&lt;00:00, 3.95MB/s]"
          }
        },
        "c104824ef22640b89a64657db585ea95": {
          "model_module": "@jupyter-widgets/base",
          "model_name": "LayoutModel",
          "model_module_version": "1.2.0",
          "state": {
            "_model_module": "@jupyter-widgets/base",
            "_model_module_version": "1.2.0",
            "_model_name": "LayoutModel",
            "_view_count": null,
            "_view_module": "@jupyter-widgets/base",
            "_view_module_version": "1.2.0",
            "_view_name": "LayoutView",
            "align_content": null,
            "align_items": null,
            "align_self": null,
            "border": null,
            "bottom": null,
            "display": null,
            "flex": null,
            "flex_flow": null,
            "grid_area": null,
            "grid_auto_columns": null,
            "grid_auto_flow": null,
            "grid_auto_rows": null,
            "grid_column": null,
            "grid_gap": null,
            "grid_row": null,
            "grid_template_areas": null,
            "grid_template_columns": null,
            "grid_template_rows": null,
            "height": null,
            "justify_content": null,
            "justify_items": null,
            "left": null,
            "margin": null,
            "max_height": null,
            "max_width": null,
            "min_height": null,
            "min_width": null,
            "object_fit": null,
            "object_position": null,
            "order": null,
            "overflow": null,
            "overflow_x": null,
            "overflow_y": null,
            "padding": null,
            "right": null,
            "top": null,
            "visibility": null,
            "width": null
          }
        },
        "24d5c3692475442e9a4cfecb650e9b9b": {
          "model_module": "@jupyter-widgets/base",
          "model_name": "LayoutModel",
          "model_module_version": "1.2.0",
          "state": {
            "_model_module": "@jupyter-widgets/base",
            "_model_module_version": "1.2.0",
            "_model_name": "LayoutModel",
            "_view_count": null,
            "_view_module": "@jupyter-widgets/base",
            "_view_module_version": "1.2.0",
            "_view_name": "LayoutView",
            "align_content": null,
            "align_items": null,
            "align_self": null,
            "border": null,
            "bottom": null,
            "display": null,
            "flex": null,
            "flex_flow": null,
            "grid_area": null,
            "grid_auto_columns": null,
            "grid_auto_flow": null,
            "grid_auto_rows": null,
            "grid_column": null,
            "grid_gap": null,
            "grid_row": null,
            "grid_template_areas": null,
            "grid_template_columns": null,
            "grid_template_rows": null,
            "height": null,
            "justify_content": null,
            "justify_items": null,
            "left": null,
            "margin": null,
            "max_height": null,
            "max_width": null,
            "min_height": null,
            "min_width": null,
            "object_fit": null,
            "object_position": null,
            "order": null,
            "overflow": null,
            "overflow_x": null,
            "overflow_y": null,
            "padding": null,
            "right": null,
            "top": null,
            "visibility": null,
            "width": null
          }
        },
        "47077fd48f1548598222d4f6eb30f730": {
          "model_module": "@jupyter-widgets/controls",
          "model_name": "DescriptionStyleModel",
          "model_module_version": "1.5.0",
          "state": {
            "_model_module": "@jupyter-widgets/controls",
            "_model_module_version": "1.5.0",
            "_model_name": "DescriptionStyleModel",
            "_view_count": null,
            "_view_module": "@jupyter-widgets/base",
            "_view_module_version": "1.2.0",
            "_view_name": "StyleView",
            "description_width": ""
          }
        },
        "7bf2c94f67924e34a7e122f8fdaa2d4a": {
          "model_module": "@jupyter-widgets/base",
          "model_name": "LayoutModel",
          "model_module_version": "1.2.0",
          "state": {
            "_model_module": "@jupyter-widgets/base",
            "_model_module_version": "1.2.0",
            "_model_name": "LayoutModel",
            "_view_count": null,
            "_view_module": "@jupyter-widgets/base",
            "_view_module_version": "1.2.0",
            "_view_name": "LayoutView",
            "align_content": null,
            "align_items": null,
            "align_self": null,
            "border": null,
            "bottom": null,
            "display": null,
            "flex": null,
            "flex_flow": null,
            "grid_area": null,
            "grid_auto_columns": null,
            "grid_auto_flow": null,
            "grid_auto_rows": null,
            "grid_column": null,
            "grid_gap": null,
            "grid_row": null,
            "grid_template_areas": null,
            "grid_template_columns": null,
            "grid_template_rows": null,
            "height": null,
            "justify_content": null,
            "justify_items": null,
            "left": null,
            "margin": null,
            "max_height": null,
            "max_width": null,
            "min_height": null,
            "min_width": null,
            "object_fit": null,
            "object_position": null,
            "order": null,
            "overflow": null,
            "overflow_x": null,
            "overflow_y": null,
            "padding": null,
            "right": null,
            "top": null,
            "visibility": null,
            "width": null
          }
        },
        "67ec0c368e274901aed952a29465429b": {
          "model_module": "@jupyter-widgets/controls",
          "model_name": "ProgressStyleModel",
          "model_module_version": "1.5.0",
          "state": {
            "_model_module": "@jupyter-widgets/controls",
            "_model_module_version": "1.5.0",
            "_model_name": "ProgressStyleModel",
            "_view_count": null,
            "_view_module": "@jupyter-widgets/base",
            "_view_module_version": "1.2.0",
            "_view_name": "StyleView",
            "bar_color": null,
            "description_width": ""
          }
        },
        "e42f3409cf724110a76ec7b258c0ec03": {
          "model_module": "@jupyter-widgets/base",
          "model_name": "LayoutModel",
          "model_module_version": "1.2.0",
          "state": {
            "_model_module": "@jupyter-widgets/base",
            "_model_module_version": "1.2.0",
            "_model_name": "LayoutModel",
            "_view_count": null,
            "_view_module": "@jupyter-widgets/base",
            "_view_module_version": "1.2.0",
            "_view_name": "LayoutView",
            "align_content": null,
            "align_items": null,
            "align_self": null,
            "border": null,
            "bottom": null,
            "display": null,
            "flex": null,
            "flex_flow": null,
            "grid_area": null,
            "grid_auto_columns": null,
            "grid_auto_flow": null,
            "grid_auto_rows": null,
            "grid_column": null,
            "grid_gap": null,
            "grid_row": null,
            "grid_template_areas": null,
            "grid_template_columns": null,
            "grid_template_rows": null,
            "height": null,
            "justify_content": null,
            "justify_items": null,
            "left": null,
            "margin": null,
            "max_height": null,
            "max_width": null,
            "min_height": null,
            "min_width": null,
            "object_fit": null,
            "object_position": null,
            "order": null,
            "overflow": null,
            "overflow_x": null,
            "overflow_y": null,
            "padding": null,
            "right": null,
            "top": null,
            "visibility": null,
            "width": null
          }
        },
        "80d658687d584a33a1cabb45d5ddb1cc": {
          "model_module": "@jupyter-widgets/controls",
          "model_name": "DescriptionStyleModel",
          "model_module_version": "1.5.0",
          "state": {
            "_model_module": "@jupyter-widgets/controls",
            "_model_module_version": "1.5.0",
            "_model_name": "DescriptionStyleModel",
            "_view_count": null,
            "_view_module": "@jupyter-widgets/base",
            "_view_module_version": "1.2.0",
            "_view_name": "StyleView",
            "description_width": ""
          }
        },
        "d856d7a0b42646fdb2f8fe98ed87321d": {
          "model_module": "@jupyter-widgets/controls",
          "model_name": "HBoxModel",
          "model_module_version": "1.5.0",
          "state": {
            "_dom_classes": [],
            "_model_module": "@jupyter-widgets/controls",
            "_model_module_version": "1.5.0",
            "_model_name": "HBoxModel",
            "_view_count": null,
            "_view_module": "@jupyter-widgets/controls",
            "_view_module_version": "1.5.0",
            "_view_name": "HBoxView",
            "box_style": "",
            "children": [
              "IPY_MODEL_02d2a48f223441a8adbb2dbb0c8b91ca",
              "IPY_MODEL_b5cb87abb069446ab614965147c479ca",
              "IPY_MODEL_3ba8ff4eabd14d22bd8934f3dd92e2d4"
            ],
            "layout": "IPY_MODEL_9e38fafb46834c0f87ea2d18de765f30"
          }
        },
        "02d2a48f223441a8adbb2dbb0c8b91ca": {
          "model_module": "@jupyter-widgets/controls",
          "model_name": "HTMLModel",
          "model_module_version": "1.5.0",
          "state": {
            "_dom_classes": [],
            "_model_module": "@jupyter-widgets/controls",
            "_model_module_version": "1.5.0",
            "_model_name": "HTMLModel",
            "_view_count": null,
            "_view_module": "@jupyter-widgets/controls",
            "_view_module_version": "1.5.0",
            "_view_name": "HTMLView",
            "description": "",
            "description_tooltip": null,
            "layout": "IPY_MODEL_3173df1c08ef4f528a0b73fede2916b9",
            "placeholder": "​",
            "style": "IPY_MODEL_dec79bdc9f0b4fdeafaa1b7c7b8f5270",
            "value": "Downloading (…)olve/main/merges.txt: 100%"
          }
        },
        "b5cb87abb069446ab614965147c479ca": {
          "model_module": "@jupyter-widgets/controls",
          "model_name": "FloatProgressModel",
          "model_module_version": "1.5.0",
          "state": {
            "_dom_classes": [],
            "_model_module": "@jupyter-widgets/controls",
            "_model_module_version": "1.5.0",
            "_model_name": "FloatProgressModel",
            "_view_count": null,
            "_view_module": "@jupyter-widgets/controls",
            "_view_module_version": "1.5.0",
            "_view_name": "ProgressView",
            "bar_style": "success",
            "description": "",
            "description_tooltip": null,
            "layout": "IPY_MODEL_ea1b10845f404f46b03b6241d7353a25",
            "max": 456318,
            "min": 0,
            "orientation": "horizontal",
            "style": "IPY_MODEL_7af4acf4b4074c539da8b8158d574a1e",
            "value": 456318
          }
        },
        "3ba8ff4eabd14d22bd8934f3dd92e2d4": {
          "model_module": "@jupyter-widgets/controls",
          "model_name": "HTMLModel",
          "model_module_version": "1.5.0",
          "state": {
            "_dom_classes": [],
            "_model_module": "@jupyter-widgets/controls",
            "_model_module_version": "1.5.0",
            "_model_name": "HTMLModel",
            "_view_count": null,
            "_view_module": "@jupyter-widgets/controls",
            "_view_module_version": "1.5.0",
            "_view_name": "HTMLView",
            "description": "",
            "description_tooltip": null,
            "layout": "IPY_MODEL_7232f6298d4841d2b9a2bc84f2620ccf",
            "placeholder": "​",
            "style": "IPY_MODEL_f308fb6887d34ec19a2b39889ad65a4a",
            "value": " 456k/456k [00:00&lt;00:00, 2.30MB/s]"
          }
        },
        "9e38fafb46834c0f87ea2d18de765f30": {
          "model_module": "@jupyter-widgets/base",
          "model_name": "LayoutModel",
          "model_module_version": "1.2.0",
          "state": {
            "_model_module": "@jupyter-widgets/base",
            "_model_module_version": "1.2.0",
            "_model_name": "LayoutModel",
            "_view_count": null,
            "_view_module": "@jupyter-widgets/base",
            "_view_module_version": "1.2.0",
            "_view_name": "LayoutView",
            "align_content": null,
            "align_items": null,
            "align_self": null,
            "border": null,
            "bottom": null,
            "display": null,
            "flex": null,
            "flex_flow": null,
            "grid_area": null,
            "grid_auto_columns": null,
            "grid_auto_flow": null,
            "grid_auto_rows": null,
            "grid_column": null,
            "grid_gap": null,
            "grid_row": null,
            "grid_template_areas": null,
            "grid_template_columns": null,
            "grid_template_rows": null,
            "height": null,
            "justify_content": null,
            "justify_items": null,
            "left": null,
            "margin": null,
            "max_height": null,
            "max_width": null,
            "min_height": null,
            "min_width": null,
            "object_fit": null,
            "object_position": null,
            "order": null,
            "overflow": null,
            "overflow_x": null,
            "overflow_y": null,
            "padding": null,
            "right": null,
            "top": null,
            "visibility": null,
            "width": null
          }
        },
        "3173df1c08ef4f528a0b73fede2916b9": {
          "model_module": "@jupyter-widgets/base",
          "model_name": "LayoutModel",
          "model_module_version": "1.2.0",
          "state": {
            "_model_module": "@jupyter-widgets/base",
            "_model_module_version": "1.2.0",
            "_model_name": "LayoutModel",
            "_view_count": null,
            "_view_module": "@jupyter-widgets/base",
            "_view_module_version": "1.2.0",
            "_view_name": "LayoutView",
            "align_content": null,
            "align_items": null,
            "align_self": null,
            "border": null,
            "bottom": null,
            "display": null,
            "flex": null,
            "flex_flow": null,
            "grid_area": null,
            "grid_auto_columns": null,
            "grid_auto_flow": null,
            "grid_auto_rows": null,
            "grid_column": null,
            "grid_gap": null,
            "grid_row": null,
            "grid_template_areas": null,
            "grid_template_columns": null,
            "grid_template_rows": null,
            "height": null,
            "justify_content": null,
            "justify_items": null,
            "left": null,
            "margin": null,
            "max_height": null,
            "max_width": null,
            "min_height": null,
            "min_width": null,
            "object_fit": null,
            "object_position": null,
            "order": null,
            "overflow": null,
            "overflow_x": null,
            "overflow_y": null,
            "padding": null,
            "right": null,
            "top": null,
            "visibility": null,
            "width": null
          }
        },
        "dec79bdc9f0b4fdeafaa1b7c7b8f5270": {
          "model_module": "@jupyter-widgets/controls",
          "model_name": "DescriptionStyleModel",
          "model_module_version": "1.5.0",
          "state": {
            "_model_module": "@jupyter-widgets/controls",
            "_model_module_version": "1.5.0",
            "_model_name": "DescriptionStyleModel",
            "_view_count": null,
            "_view_module": "@jupyter-widgets/base",
            "_view_module_version": "1.2.0",
            "_view_name": "StyleView",
            "description_width": ""
          }
        },
        "ea1b10845f404f46b03b6241d7353a25": {
          "model_module": "@jupyter-widgets/base",
          "model_name": "LayoutModel",
          "model_module_version": "1.2.0",
          "state": {
            "_model_module": "@jupyter-widgets/base",
            "_model_module_version": "1.2.0",
            "_model_name": "LayoutModel",
            "_view_count": null,
            "_view_module": "@jupyter-widgets/base",
            "_view_module_version": "1.2.0",
            "_view_name": "LayoutView",
            "align_content": null,
            "align_items": null,
            "align_self": null,
            "border": null,
            "bottom": null,
            "display": null,
            "flex": null,
            "flex_flow": null,
            "grid_area": null,
            "grid_auto_columns": null,
            "grid_auto_flow": null,
            "grid_auto_rows": null,
            "grid_column": null,
            "grid_gap": null,
            "grid_row": null,
            "grid_template_areas": null,
            "grid_template_columns": null,
            "grid_template_rows": null,
            "height": null,
            "justify_content": null,
            "justify_items": null,
            "left": null,
            "margin": null,
            "max_height": null,
            "max_width": null,
            "min_height": null,
            "min_width": null,
            "object_fit": null,
            "object_position": null,
            "order": null,
            "overflow": null,
            "overflow_x": null,
            "overflow_y": null,
            "padding": null,
            "right": null,
            "top": null,
            "visibility": null,
            "width": null
          }
        },
        "7af4acf4b4074c539da8b8158d574a1e": {
          "model_module": "@jupyter-widgets/controls",
          "model_name": "ProgressStyleModel",
          "model_module_version": "1.5.0",
          "state": {
            "_model_module": "@jupyter-widgets/controls",
            "_model_module_version": "1.5.0",
            "_model_name": "ProgressStyleModel",
            "_view_count": null,
            "_view_module": "@jupyter-widgets/base",
            "_view_module_version": "1.2.0",
            "_view_name": "StyleView",
            "bar_color": null,
            "description_width": ""
          }
        },
        "7232f6298d4841d2b9a2bc84f2620ccf": {
          "model_module": "@jupyter-widgets/base",
          "model_name": "LayoutModel",
          "model_module_version": "1.2.0",
          "state": {
            "_model_module": "@jupyter-widgets/base",
            "_model_module_version": "1.2.0",
            "_model_name": "LayoutModel",
            "_view_count": null,
            "_view_module": "@jupyter-widgets/base",
            "_view_module_version": "1.2.0",
            "_view_name": "LayoutView",
            "align_content": null,
            "align_items": null,
            "align_self": null,
            "border": null,
            "bottom": null,
            "display": null,
            "flex": null,
            "flex_flow": null,
            "grid_area": null,
            "grid_auto_columns": null,
            "grid_auto_flow": null,
            "grid_auto_rows": null,
            "grid_column": null,
            "grid_gap": null,
            "grid_row": null,
            "grid_template_areas": null,
            "grid_template_columns": null,
            "grid_template_rows": null,
            "height": null,
            "justify_content": null,
            "justify_items": null,
            "left": null,
            "margin": null,
            "max_height": null,
            "max_width": null,
            "min_height": null,
            "min_width": null,
            "object_fit": null,
            "object_position": null,
            "order": null,
            "overflow": null,
            "overflow_x": null,
            "overflow_y": null,
            "padding": null,
            "right": null,
            "top": null,
            "visibility": null,
            "width": null
          }
        },
        "f308fb6887d34ec19a2b39889ad65a4a": {
          "model_module": "@jupyter-widgets/controls",
          "model_name": "DescriptionStyleModel",
          "model_module_version": "1.5.0",
          "state": {
            "_model_module": "@jupyter-widgets/controls",
            "_model_module_version": "1.5.0",
            "_model_name": "DescriptionStyleModel",
            "_view_count": null,
            "_view_module": "@jupyter-widgets/base",
            "_view_module_version": "1.2.0",
            "_view_name": "StyleView",
            "description_width": ""
          }
        },
        "60e02573ab9b4dcaa173852789a0a812": {
          "model_module": "@jupyter-widgets/controls",
          "model_name": "HBoxModel",
          "model_module_version": "1.5.0",
          "state": {
            "_dom_classes": [],
            "_model_module": "@jupyter-widgets/controls",
            "_model_module_version": "1.5.0",
            "_model_name": "HBoxModel",
            "_view_count": null,
            "_view_module": "@jupyter-widgets/controls",
            "_view_module_version": "1.5.0",
            "_view_name": "HBoxView",
            "box_style": "",
            "children": [
              "IPY_MODEL_7ce9b9ed3ee84ed6a161201467f6a641",
              "IPY_MODEL_6263a71291e94351b8314d1b3a8a67cd",
              "IPY_MODEL_7deaf5b0236e4859bbed63a2d5888435"
            ],
            "layout": "IPY_MODEL_6dcdded554184321896906191f662d4a"
          }
        },
        "7ce9b9ed3ee84ed6a161201467f6a641": {
          "model_module": "@jupyter-widgets/controls",
          "model_name": "HTMLModel",
          "model_module_version": "1.5.0",
          "state": {
            "_dom_classes": [],
            "_model_module": "@jupyter-widgets/controls",
            "_model_module_version": "1.5.0",
            "_model_name": "HTMLModel",
            "_view_count": null,
            "_view_module": "@jupyter-widgets/controls",
            "_view_module_version": "1.5.0",
            "_view_name": "HTMLView",
            "description": "",
            "description_tooltip": null,
            "layout": "IPY_MODEL_14bfbfc2454042338613a2baaabba9c8",
            "placeholder": "​",
            "style": "IPY_MODEL_36ab0f6f08e7423bb9e7111a08c249a7",
            "value": "Downloading (…)/main/tokenizer.json: 100%"
          }
        },
        "6263a71291e94351b8314d1b3a8a67cd": {
          "model_module": "@jupyter-widgets/controls",
          "model_name": "FloatProgressModel",
          "model_module_version": "1.5.0",
          "state": {
            "_dom_classes": [],
            "_model_module": "@jupyter-widgets/controls",
            "_model_module_version": "1.5.0",
            "_model_name": "FloatProgressModel",
            "_view_count": null,
            "_view_module": "@jupyter-widgets/controls",
            "_view_module_version": "1.5.0",
            "_view_name": "ProgressView",
            "bar_style": "success",
            "description": "",
            "description_tooltip": null,
            "layout": "IPY_MODEL_fb1ca2837172434495c494e548aca7a5",
            "max": 1355256,
            "min": 0,
            "orientation": "horizontal",
            "style": "IPY_MODEL_04da1f53b8d04066ab11441df0d62923",
            "value": 1355256
          }
        },
        "7deaf5b0236e4859bbed63a2d5888435": {
          "model_module": "@jupyter-widgets/controls",
          "model_name": "HTMLModel",
          "model_module_version": "1.5.0",
          "state": {
            "_dom_classes": [],
            "_model_module": "@jupyter-widgets/controls",
            "_model_module_version": "1.5.0",
            "_model_name": "HTMLModel",
            "_view_count": null,
            "_view_module": "@jupyter-widgets/controls",
            "_view_module_version": "1.5.0",
            "_view_name": "HTMLView",
            "description": "",
            "description_tooltip": null,
            "layout": "IPY_MODEL_750bdf0feb39436d9b4438dcf4f9797e",
            "placeholder": "​",
            "style": "IPY_MODEL_a5a9152683b74a5a9f6621268a47523c",
            "value": " 1.36M/1.36M [00:00&lt;00:00, 4.07MB/s]"
          }
        },
        "6dcdded554184321896906191f662d4a": {
          "model_module": "@jupyter-widgets/base",
          "model_name": "LayoutModel",
          "model_module_version": "1.2.0",
          "state": {
            "_model_module": "@jupyter-widgets/base",
            "_model_module_version": "1.2.0",
            "_model_name": "LayoutModel",
            "_view_count": null,
            "_view_module": "@jupyter-widgets/base",
            "_view_module_version": "1.2.0",
            "_view_name": "LayoutView",
            "align_content": null,
            "align_items": null,
            "align_self": null,
            "border": null,
            "bottom": null,
            "display": null,
            "flex": null,
            "flex_flow": null,
            "grid_area": null,
            "grid_auto_columns": null,
            "grid_auto_flow": null,
            "grid_auto_rows": null,
            "grid_column": null,
            "grid_gap": null,
            "grid_row": null,
            "grid_template_areas": null,
            "grid_template_columns": null,
            "grid_template_rows": null,
            "height": null,
            "justify_content": null,
            "justify_items": null,
            "left": null,
            "margin": null,
            "max_height": null,
            "max_width": null,
            "min_height": null,
            "min_width": null,
            "object_fit": null,
            "object_position": null,
            "order": null,
            "overflow": null,
            "overflow_x": null,
            "overflow_y": null,
            "padding": null,
            "right": null,
            "top": null,
            "visibility": null,
            "width": null
          }
        },
        "14bfbfc2454042338613a2baaabba9c8": {
          "model_module": "@jupyter-widgets/base",
          "model_name": "LayoutModel",
          "model_module_version": "1.2.0",
          "state": {
            "_model_module": "@jupyter-widgets/base",
            "_model_module_version": "1.2.0",
            "_model_name": "LayoutModel",
            "_view_count": null,
            "_view_module": "@jupyter-widgets/base",
            "_view_module_version": "1.2.0",
            "_view_name": "LayoutView",
            "align_content": null,
            "align_items": null,
            "align_self": null,
            "border": null,
            "bottom": null,
            "display": null,
            "flex": null,
            "flex_flow": null,
            "grid_area": null,
            "grid_auto_columns": null,
            "grid_auto_flow": null,
            "grid_auto_rows": null,
            "grid_column": null,
            "grid_gap": null,
            "grid_row": null,
            "grid_template_areas": null,
            "grid_template_columns": null,
            "grid_template_rows": null,
            "height": null,
            "justify_content": null,
            "justify_items": null,
            "left": null,
            "margin": null,
            "max_height": null,
            "max_width": null,
            "min_height": null,
            "min_width": null,
            "object_fit": null,
            "object_position": null,
            "order": null,
            "overflow": null,
            "overflow_x": null,
            "overflow_y": null,
            "padding": null,
            "right": null,
            "top": null,
            "visibility": null,
            "width": null
          }
        },
        "36ab0f6f08e7423bb9e7111a08c249a7": {
          "model_module": "@jupyter-widgets/controls",
          "model_name": "DescriptionStyleModel",
          "model_module_version": "1.5.0",
          "state": {
            "_model_module": "@jupyter-widgets/controls",
            "_model_module_version": "1.5.0",
            "_model_name": "DescriptionStyleModel",
            "_view_count": null,
            "_view_module": "@jupyter-widgets/base",
            "_view_module_version": "1.2.0",
            "_view_name": "StyleView",
            "description_width": ""
          }
        },
        "fb1ca2837172434495c494e548aca7a5": {
          "model_module": "@jupyter-widgets/base",
          "model_name": "LayoutModel",
          "model_module_version": "1.2.0",
          "state": {
            "_model_module": "@jupyter-widgets/base",
            "_model_module_version": "1.2.0",
            "_model_name": "LayoutModel",
            "_view_count": null,
            "_view_module": "@jupyter-widgets/base",
            "_view_module_version": "1.2.0",
            "_view_name": "LayoutView",
            "align_content": null,
            "align_items": null,
            "align_self": null,
            "border": null,
            "bottom": null,
            "display": null,
            "flex": null,
            "flex_flow": null,
            "grid_area": null,
            "grid_auto_columns": null,
            "grid_auto_flow": null,
            "grid_auto_rows": null,
            "grid_column": null,
            "grid_gap": null,
            "grid_row": null,
            "grid_template_areas": null,
            "grid_template_columns": null,
            "grid_template_rows": null,
            "height": null,
            "justify_content": null,
            "justify_items": null,
            "left": null,
            "margin": null,
            "max_height": null,
            "max_width": null,
            "min_height": null,
            "min_width": null,
            "object_fit": null,
            "object_position": null,
            "order": null,
            "overflow": null,
            "overflow_x": null,
            "overflow_y": null,
            "padding": null,
            "right": null,
            "top": null,
            "visibility": null,
            "width": null
          }
        },
        "04da1f53b8d04066ab11441df0d62923": {
          "model_module": "@jupyter-widgets/controls",
          "model_name": "ProgressStyleModel",
          "model_module_version": "1.5.0",
          "state": {
            "_model_module": "@jupyter-widgets/controls",
            "_model_module_version": "1.5.0",
            "_model_name": "ProgressStyleModel",
            "_view_count": null,
            "_view_module": "@jupyter-widgets/base",
            "_view_module_version": "1.2.0",
            "_view_name": "StyleView",
            "bar_color": null,
            "description_width": ""
          }
        },
        "750bdf0feb39436d9b4438dcf4f9797e": {
          "model_module": "@jupyter-widgets/base",
          "model_name": "LayoutModel",
          "model_module_version": "1.2.0",
          "state": {
            "_model_module": "@jupyter-widgets/base",
            "_model_module_version": "1.2.0",
            "_model_name": "LayoutModel",
            "_view_count": null,
            "_view_module": "@jupyter-widgets/base",
            "_view_module_version": "1.2.0",
            "_view_name": "LayoutView",
            "align_content": null,
            "align_items": null,
            "align_self": null,
            "border": null,
            "bottom": null,
            "display": null,
            "flex": null,
            "flex_flow": null,
            "grid_area": null,
            "grid_auto_columns": null,
            "grid_auto_flow": null,
            "grid_auto_rows": null,
            "grid_column": null,
            "grid_gap": null,
            "grid_row": null,
            "grid_template_areas": null,
            "grid_template_columns": null,
            "grid_template_rows": null,
            "height": null,
            "justify_content": null,
            "justify_items": null,
            "left": null,
            "margin": null,
            "max_height": null,
            "max_width": null,
            "min_height": null,
            "min_width": null,
            "object_fit": null,
            "object_position": null,
            "order": null,
            "overflow": null,
            "overflow_x": null,
            "overflow_y": null,
            "padding": null,
            "right": null,
            "top": null,
            "visibility": null,
            "width": null
          }
        },
        "a5a9152683b74a5a9f6621268a47523c": {
          "model_module": "@jupyter-widgets/controls",
          "model_name": "DescriptionStyleModel",
          "model_module_version": "1.5.0",
          "state": {
            "_model_module": "@jupyter-widgets/controls",
            "_model_module_version": "1.5.0",
            "_model_name": "DescriptionStyleModel",
            "_view_count": null,
            "_view_module": "@jupyter-widgets/base",
            "_view_module_version": "1.2.0",
            "_view_name": "StyleView",
            "description_width": ""
          }
        },
        "ef33d928c75c46df9072ddf1f7ae9bf7": {
          "model_module": "@jupyter-widgets/controls",
          "model_name": "HBoxModel",
          "model_module_version": "1.5.0",
          "state": {
            "_dom_classes": [],
            "_model_module": "@jupyter-widgets/controls",
            "_model_module_version": "1.5.0",
            "_model_name": "HBoxModel",
            "_view_count": null,
            "_view_module": "@jupyter-widgets/controls",
            "_view_module_version": "1.5.0",
            "_view_name": "HBoxView",
            "box_style": "",
            "children": [
              "IPY_MODEL_97a40f0108664e55bacb48a3acf1eef8",
              "IPY_MODEL_71a28a0da9fa4bf58ef2fe7fb9ffd9a9",
              "IPY_MODEL_1dd9ebaf5aac4435ac40075a3096253b"
            ],
            "layout": "IPY_MODEL_ec2e156d7fdf417185e13b796b859c34"
          }
        },
        "97a40f0108664e55bacb48a3acf1eef8": {
          "model_module": "@jupyter-widgets/controls",
          "model_name": "HTMLModel",
          "model_module_version": "1.5.0",
          "state": {
            "_dom_classes": [],
            "_model_module": "@jupyter-widgets/controls",
            "_model_module_version": "1.5.0",
            "_model_name": "HTMLModel",
            "_view_count": null,
            "_view_module": "@jupyter-widgets/controls",
            "_view_module_version": "1.5.0",
            "_view_name": "HTMLView",
            "description": "",
            "description_tooltip": null,
            "layout": "IPY_MODEL_af79b71dda604f698c4b81633d8378e6",
            "placeholder": "​",
            "style": "IPY_MODEL_5ad99d9dc4834e68b00f2d4974983653",
            "value": "Downloading model.safetensors: 100%"
          }
        },
        "71a28a0da9fa4bf58ef2fe7fb9ffd9a9": {
          "model_module": "@jupyter-widgets/controls",
          "model_name": "FloatProgressModel",
          "model_module_version": "1.5.0",
          "state": {
            "_dom_classes": [],
            "_model_module": "@jupyter-widgets/controls",
            "_model_module_version": "1.5.0",
            "_model_name": "FloatProgressModel",
            "_view_count": null,
            "_view_module": "@jupyter-widgets/controls",
            "_view_module_version": "1.5.0",
            "_view_name": "ProgressView",
            "bar_style": "success",
            "description": "",
            "description_tooltip": null,
            "layout": "IPY_MODEL_4c15008e9aab49c9abedc85bb1b9020a",
            "max": 548105171,
            "min": 0,
            "orientation": "horizontal",
            "style": "IPY_MODEL_f57086e2d5ef41fd8c926366270c5a6b",
            "value": 548105171
          }
        },
        "1dd9ebaf5aac4435ac40075a3096253b": {
          "model_module": "@jupyter-widgets/controls",
          "model_name": "HTMLModel",
          "model_module_version": "1.5.0",
          "state": {
            "_dom_classes": [],
            "_model_module": "@jupyter-widgets/controls",
            "_model_module_version": "1.5.0",
            "_model_name": "HTMLModel",
            "_view_count": null,
            "_view_module": "@jupyter-widgets/controls",
            "_view_module_version": "1.5.0",
            "_view_name": "HTMLView",
            "description": "",
            "description_tooltip": null,
            "layout": "IPY_MODEL_0dc250a2a1f746c7921388e35cb82444",
            "placeholder": "​",
            "style": "IPY_MODEL_09f1baafc4cf47fe8ba44b519c0c4b8b",
            "value": " 548M/548M [00:02&lt;00:00, 239MB/s]"
          }
        },
        "ec2e156d7fdf417185e13b796b859c34": {
          "model_module": "@jupyter-widgets/base",
          "model_name": "LayoutModel",
          "model_module_version": "1.2.0",
          "state": {
            "_model_module": "@jupyter-widgets/base",
            "_model_module_version": "1.2.0",
            "_model_name": "LayoutModel",
            "_view_count": null,
            "_view_module": "@jupyter-widgets/base",
            "_view_module_version": "1.2.0",
            "_view_name": "LayoutView",
            "align_content": null,
            "align_items": null,
            "align_self": null,
            "border": null,
            "bottom": null,
            "display": null,
            "flex": null,
            "flex_flow": null,
            "grid_area": null,
            "grid_auto_columns": null,
            "grid_auto_flow": null,
            "grid_auto_rows": null,
            "grid_column": null,
            "grid_gap": null,
            "grid_row": null,
            "grid_template_areas": null,
            "grid_template_columns": null,
            "grid_template_rows": null,
            "height": null,
            "justify_content": null,
            "justify_items": null,
            "left": null,
            "margin": null,
            "max_height": null,
            "max_width": null,
            "min_height": null,
            "min_width": null,
            "object_fit": null,
            "object_position": null,
            "order": null,
            "overflow": null,
            "overflow_x": null,
            "overflow_y": null,
            "padding": null,
            "right": null,
            "top": null,
            "visibility": null,
            "width": null
          }
        },
        "af79b71dda604f698c4b81633d8378e6": {
          "model_module": "@jupyter-widgets/base",
          "model_name": "LayoutModel",
          "model_module_version": "1.2.0",
          "state": {
            "_model_module": "@jupyter-widgets/base",
            "_model_module_version": "1.2.0",
            "_model_name": "LayoutModel",
            "_view_count": null,
            "_view_module": "@jupyter-widgets/base",
            "_view_module_version": "1.2.0",
            "_view_name": "LayoutView",
            "align_content": null,
            "align_items": null,
            "align_self": null,
            "border": null,
            "bottom": null,
            "display": null,
            "flex": null,
            "flex_flow": null,
            "grid_area": null,
            "grid_auto_columns": null,
            "grid_auto_flow": null,
            "grid_auto_rows": null,
            "grid_column": null,
            "grid_gap": null,
            "grid_row": null,
            "grid_template_areas": null,
            "grid_template_columns": null,
            "grid_template_rows": null,
            "height": null,
            "justify_content": null,
            "justify_items": null,
            "left": null,
            "margin": null,
            "max_height": null,
            "max_width": null,
            "min_height": null,
            "min_width": null,
            "object_fit": null,
            "object_position": null,
            "order": null,
            "overflow": null,
            "overflow_x": null,
            "overflow_y": null,
            "padding": null,
            "right": null,
            "top": null,
            "visibility": null,
            "width": null
          }
        },
        "5ad99d9dc4834e68b00f2d4974983653": {
          "model_module": "@jupyter-widgets/controls",
          "model_name": "DescriptionStyleModel",
          "model_module_version": "1.5.0",
          "state": {
            "_model_module": "@jupyter-widgets/controls",
            "_model_module_version": "1.5.0",
            "_model_name": "DescriptionStyleModel",
            "_view_count": null,
            "_view_module": "@jupyter-widgets/base",
            "_view_module_version": "1.2.0",
            "_view_name": "StyleView",
            "description_width": ""
          }
        },
        "4c15008e9aab49c9abedc85bb1b9020a": {
          "model_module": "@jupyter-widgets/base",
          "model_name": "LayoutModel",
          "model_module_version": "1.2.0",
          "state": {
            "_model_module": "@jupyter-widgets/base",
            "_model_module_version": "1.2.0",
            "_model_name": "LayoutModel",
            "_view_count": null,
            "_view_module": "@jupyter-widgets/base",
            "_view_module_version": "1.2.0",
            "_view_name": "LayoutView",
            "align_content": null,
            "align_items": null,
            "align_self": null,
            "border": null,
            "bottom": null,
            "display": null,
            "flex": null,
            "flex_flow": null,
            "grid_area": null,
            "grid_auto_columns": null,
            "grid_auto_flow": null,
            "grid_auto_rows": null,
            "grid_column": null,
            "grid_gap": null,
            "grid_row": null,
            "grid_template_areas": null,
            "grid_template_columns": null,
            "grid_template_rows": null,
            "height": null,
            "justify_content": null,
            "justify_items": null,
            "left": null,
            "margin": null,
            "max_height": null,
            "max_width": null,
            "min_height": null,
            "min_width": null,
            "object_fit": null,
            "object_position": null,
            "order": null,
            "overflow": null,
            "overflow_x": null,
            "overflow_y": null,
            "padding": null,
            "right": null,
            "top": null,
            "visibility": null,
            "width": null
          }
        },
        "f57086e2d5ef41fd8c926366270c5a6b": {
          "model_module": "@jupyter-widgets/controls",
          "model_name": "ProgressStyleModel",
          "model_module_version": "1.5.0",
          "state": {
            "_model_module": "@jupyter-widgets/controls",
            "_model_module_version": "1.5.0",
            "_model_name": "ProgressStyleModel",
            "_view_count": null,
            "_view_module": "@jupyter-widgets/base",
            "_view_module_version": "1.2.0",
            "_view_name": "StyleView",
            "bar_color": null,
            "description_width": ""
          }
        },
        "0dc250a2a1f746c7921388e35cb82444": {
          "model_module": "@jupyter-widgets/base",
          "model_name": "LayoutModel",
          "model_module_version": "1.2.0",
          "state": {
            "_model_module": "@jupyter-widgets/base",
            "_model_module_version": "1.2.0",
            "_model_name": "LayoutModel",
            "_view_count": null,
            "_view_module": "@jupyter-widgets/base",
            "_view_module_version": "1.2.0",
            "_view_name": "LayoutView",
            "align_content": null,
            "align_items": null,
            "align_self": null,
            "border": null,
            "bottom": null,
            "display": null,
            "flex": null,
            "flex_flow": null,
            "grid_area": null,
            "grid_auto_columns": null,
            "grid_auto_flow": null,
            "grid_auto_rows": null,
            "grid_column": null,
            "grid_gap": null,
            "grid_row": null,
            "grid_template_areas": null,
            "grid_template_columns": null,
            "grid_template_rows": null,
            "height": null,
            "justify_content": null,
            "justify_items": null,
            "left": null,
            "margin": null,
            "max_height": null,
            "max_width": null,
            "min_height": null,
            "min_width": null,
            "object_fit": null,
            "object_position": null,
            "order": null,
            "overflow": null,
            "overflow_x": null,
            "overflow_y": null,
            "padding": null,
            "right": null,
            "top": null,
            "visibility": null,
            "width": null
          }
        },
        "09f1baafc4cf47fe8ba44b519c0c4b8b": {
          "model_module": "@jupyter-widgets/controls",
          "model_name": "DescriptionStyleModel",
          "model_module_version": "1.5.0",
          "state": {
            "_model_module": "@jupyter-widgets/controls",
            "_model_module_version": "1.5.0",
            "_model_name": "DescriptionStyleModel",
            "_view_count": null,
            "_view_module": "@jupyter-widgets/base",
            "_view_module_version": "1.2.0",
            "_view_name": "StyleView",
            "description_width": ""
          }
        },
        "fe97355ff95445d7bb85326b87c12ff6": {
          "model_module": "@jupyter-widgets/controls",
          "model_name": "HBoxModel",
          "model_module_version": "1.5.0",
          "state": {
            "_dom_classes": [],
            "_model_module": "@jupyter-widgets/controls",
            "_model_module_version": "1.5.0",
            "_model_name": "HBoxModel",
            "_view_count": null,
            "_view_module": "@jupyter-widgets/controls",
            "_view_module_version": "1.5.0",
            "_view_name": "HBoxView",
            "box_style": "",
            "children": [
              "IPY_MODEL_57dd8c017e8145578d011cfe29f80e99",
              "IPY_MODEL_0790b17abccd4e82a331bce0d9899617",
              "IPY_MODEL_a7b5ca04914d4380bcb3e36398484e18"
            ],
            "layout": "IPY_MODEL_4b770fca46834d9fb3a656529dd4c1b7"
          }
        },
        "57dd8c017e8145578d011cfe29f80e99": {
          "model_module": "@jupyter-widgets/controls",
          "model_name": "HTMLModel",
          "model_module_version": "1.5.0",
          "state": {
            "_dom_classes": [],
            "_model_module": "@jupyter-widgets/controls",
            "_model_module_version": "1.5.0",
            "_model_name": "HTMLModel",
            "_view_count": null,
            "_view_module": "@jupyter-widgets/controls",
            "_view_module_version": "1.5.0",
            "_view_name": "HTMLView",
            "description": "",
            "description_tooltip": null,
            "layout": "IPY_MODEL_fbcb3f1118d4442b9be3068042aecab4",
            "placeholder": "​",
            "style": "IPY_MODEL_a26a862b777a423996143610022fe583",
            "value": "Downloading (…)neration_config.json: 100%"
          }
        },
        "0790b17abccd4e82a331bce0d9899617": {
          "model_module": "@jupyter-widgets/controls",
          "model_name": "FloatProgressModel",
          "model_module_version": "1.5.0",
          "state": {
            "_dom_classes": [],
            "_model_module": "@jupyter-widgets/controls",
            "_model_module_version": "1.5.0",
            "_model_name": "FloatProgressModel",
            "_view_count": null,
            "_view_module": "@jupyter-widgets/controls",
            "_view_module_version": "1.5.0",
            "_view_name": "ProgressView",
            "bar_style": "success",
            "description": "",
            "description_tooltip": null,
            "layout": "IPY_MODEL_3889c6904c414d368313d090b7fded4d",
            "max": 124,
            "min": 0,
            "orientation": "horizontal",
            "style": "IPY_MODEL_ac7be967a65a42aa95a813ff9238f5ee",
            "value": 124
          }
        },
        "a7b5ca04914d4380bcb3e36398484e18": {
          "model_module": "@jupyter-widgets/controls",
          "model_name": "HTMLModel",
          "model_module_version": "1.5.0",
          "state": {
            "_dom_classes": [],
            "_model_module": "@jupyter-widgets/controls",
            "_model_module_version": "1.5.0",
            "_model_name": "HTMLModel",
            "_view_count": null,
            "_view_module": "@jupyter-widgets/controls",
            "_view_module_version": "1.5.0",
            "_view_name": "HTMLView",
            "description": "",
            "description_tooltip": null,
            "layout": "IPY_MODEL_7ffac8cc1c2a4ea698c0c1f2eed2caf3",
            "placeholder": "​",
            "style": "IPY_MODEL_924eb40a3a534e9e986e9b215033d9fe",
            "value": " 124/124 [00:00&lt;00:00, 3.93kB/s]"
          }
        },
        "4b770fca46834d9fb3a656529dd4c1b7": {
          "model_module": "@jupyter-widgets/base",
          "model_name": "LayoutModel",
          "model_module_version": "1.2.0",
          "state": {
            "_model_module": "@jupyter-widgets/base",
            "_model_module_version": "1.2.0",
            "_model_name": "LayoutModel",
            "_view_count": null,
            "_view_module": "@jupyter-widgets/base",
            "_view_module_version": "1.2.0",
            "_view_name": "LayoutView",
            "align_content": null,
            "align_items": null,
            "align_self": null,
            "border": null,
            "bottom": null,
            "display": null,
            "flex": null,
            "flex_flow": null,
            "grid_area": null,
            "grid_auto_columns": null,
            "grid_auto_flow": null,
            "grid_auto_rows": null,
            "grid_column": null,
            "grid_gap": null,
            "grid_row": null,
            "grid_template_areas": null,
            "grid_template_columns": null,
            "grid_template_rows": null,
            "height": null,
            "justify_content": null,
            "justify_items": null,
            "left": null,
            "margin": null,
            "max_height": null,
            "max_width": null,
            "min_height": null,
            "min_width": null,
            "object_fit": null,
            "object_position": null,
            "order": null,
            "overflow": null,
            "overflow_x": null,
            "overflow_y": null,
            "padding": null,
            "right": null,
            "top": null,
            "visibility": null,
            "width": null
          }
        },
        "fbcb3f1118d4442b9be3068042aecab4": {
          "model_module": "@jupyter-widgets/base",
          "model_name": "LayoutModel",
          "model_module_version": "1.2.0",
          "state": {
            "_model_module": "@jupyter-widgets/base",
            "_model_module_version": "1.2.0",
            "_model_name": "LayoutModel",
            "_view_count": null,
            "_view_module": "@jupyter-widgets/base",
            "_view_module_version": "1.2.0",
            "_view_name": "LayoutView",
            "align_content": null,
            "align_items": null,
            "align_self": null,
            "border": null,
            "bottom": null,
            "display": null,
            "flex": null,
            "flex_flow": null,
            "grid_area": null,
            "grid_auto_columns": null,
            "grid_auto_flow": null,
            "grid_auto_rows": null,
            "grid_column": null,
            "grid_gap": null,
            "grid_row": null,
            "grid_template_areas": null,
            "grid_template_columns": null,
            "grid_template_rows": null,
            "height": null,
            "justify_content": null,
            "justify_items": null,
            "left": null,
            "margin": null,
            "max_height": null,
            "max_width": null,
            "min_height": null,
            "min_width": null,
            "object_fit": null,
            "object_position": null,
            "order": null,
            "overflow": null,
            "overflow_x": null,
            "overflow_y": null,
            "padding": null,
            "right": null,
            "top": null,
            "visibility": null,
            "width": null
          }
        },
        "a26a862b777a423996143610022fe583": {
          "model_module": "@jupyter-widgets/controls",
          "model_name": "DescriptionStyleModel",
          "model_module_version": "1.5.0",
          "state": {
            "_model_module": "@jupyter-widgets/controls",
            "_model_module_version": "1.5.0",
            "_model_name": "DescriptionStyleModel",
            "_view_count": null,
            "_view_module": "@jupyter-widgets/base",
            "_view_module_version": "1.2.0",
            "_view_name": "StyleView",
            "description_width": ""
          }
        },
        "3889c6904c414d368313d090b7fded4d": {
          "model_module": "@jupyter-widgets/base",
          "model_name": "LayoutModel",
          "model_module_version": "1.2.0",
          "state": {
            "_model_module": "@jupyter-widgets/base",
            "_model_module_version": "1.2.0",
            "_model_name": "LayoutModel",
            "_view_count": null,
            "_view_module": "@jupyter-widgets/base",
            "_view_module_version": "1.2.0",
            "_view_name": "LayoutView",
            "align_content": null,
            "align_items": null,
            "align_self": null,
            "border": null,
            "bottom": null,
            "display": null,
            "flex": null,
            "flex_flow": null,
            "grid_area": null,
            "grid_auto_columns": null,
            "grid_auto_flow": null,
            "grid_auto_rows": null,
            "grid_column": null,
            "grid_gap": null,
            "grid_row": null,
            "grid_template_areas": null,
            "grid_template_columns": null,
            "grid_template_rows": null,
            "height": null,
            "justify_content": null,
            "justify_items": null,
            "left": null,
            "margin": null,
            "max_height": null,
            "max_width": null,
            "min_height": null,
            "min_width": null,
            "object_fit": null,
            "object_position": null,
            "order": null,
            "overflow": null,
            "overflow_x": null,
            "overflow_y": null,
            "padding": null,
            "right": null,
            "top": null,
            "visibility": null,
            "width": null
          }
        },
        "ac7be967a65a42aa95a813ff9238f5ee": {
          "model_module": "@jupyter-widgets/controls",
          "model_name": "ProgressStyleModel",
          "model_module_version": "1.5.0",
          "state": {
            "_model_module": "@jupyter-widgets/controls",
            "_model_module_version": "1.5.0",
            "_model_name": "ProgressStyleModel",
            "_view_count": null,
            "_view_module": "@jupyter-widgets/base",
            "_view_module_version": "1.2.0",
            "_view_name": "StyleView",
            "bar_color": null,
            "description_width": ""
          }
        },
        "7ffac8cc1c2a4ea698c0c1f2eed2caf3": {
          "model_module": "@jupyter-widgets/base",
          "model_name": "LayoutModel",
          "model_module_version": "1.2.0",
          "state": {
            "_model_module": "@jupyter-widgets/base",
            "_model_module_version": "1.2.0",
            "_model_name": "LayoutModel",
            "_view_count": null,
            "_view_module": "@jupyter-widgets/base",
            "_view_module_version": "1.2.0",
            "_view_name": "LayoutView",
            "align_content": null,
            "align_items": null,
            "align_self": null,
            "border": null,
            "bottom": null,
            "display": null,
            "flex": null,
            "flex_flow": null,
            "grid_area": null,
            "grid_auto_columns": null,
            "grid_auto_flow": null,
            "grid_auto_rows": null,
            "grid_column": null,
            "grid_gap": null,
            "grid_row": null,
            "grid_template_areas": null,
            "grid_template_columns": null,
            "grid_template_rows": null,
            "height": null,
            "justify_content": null,
            "justify_items": null,
            "left": null,
            "margin": null,
            "max_height": null,
            "max_width": null,
            "min_height": null,
            "min_width": null,
            "object_fit": null,
            "object_position": null,
            "order": null,
            "overflow": null,
            "overflow_x": null,
            "overflow_y": null,
            "padding": null,
            "right": null,
            "top": null,
            "visibility": null,
            "width": null
          }
        },
        "924eb40a3a534e9e986e9b215033d9fe": {
          "model_module": "@jupyter-widgets/controls",
          "model_name": "DescriptionStyleModel",
          "model_module_version": "1.5.0",
          "state": {
            "_model_module": "@jupyter-widgets/controls",
            "_model_module_version": "1.5.0",
            "_model_name": "DescriptionStyleModel",
            "_view_count": null,
            "_view_module": "@jupyter-widgets/base",
            "_view_module_version": "1.2.0",
            "_view_name": "StyleView",
            "description_width": ""
          }
        }
      }
    }
  },
  "cells": [
    {
      "cell_type": "code",
      "source": [
        "# Building Diverse Paraphraser"
      ],
      "metadata": {
        "id": "TE1633kfMq6X"
      },
      "execution_count": null,
      "outputs": []
    },
    {
      "cell_type": "code",
      "source": [
        "import torch\n",
        "import tqdm"
      ],
      "metadata": {
        "id": "xpx3FMxVvdoh"
      },
      "execution_count": 1,
      "outputs": []
    },
    {
      "cell_type": "code",
      "source": [
        "# declaring variables\n",
        "model_type = \"gpt2\"\n",
        "model_name_or_path = \"gpt2\" #gpt2-large\n",
        "data_dir = \"\"\n",
        "save_steps = 500\n",
        "num_epochs = 3\n",
        "gradient_accumulation_steps = 2\n",
        "per_gpu_train_batch_size = 5\n",
        "learning_rt = 5e-5\n",
        "prefix_input_type = \"original\"\n",
        "extra_embedding_dim = 768 # Size of linear layer used for projecting extra embeddings.\n",
        "global_dense_feature_list = None"
      ],
      "metadata": {
        "id": "_4WDzcqUvmxU"
      },
      "execution_count": 2,
      "outputs": []
    },
    {
      "cell_type": "code",
      "source": [
        "device = torch.device(\"cuda\" if torch.cuda.is_available() else \"cpu\")\n",
        "n_gpus = torch.cuda.device_count()\n",
        "\n",
        "print(device, n_gpus)"
      ],
      "metadata": {
        "colab": {
          "base_uri": "https://localhost:8080/"
        },
        "id": "LI8aY6sINiOZ",
        "outputId": "254190b7-1030-4dd2-e80d-45d98560b826"
      },
      "execution_count": 3,
      "outputs": [
        {
          "output_type": "stream",
          "name": "stdout",
          "text": [
            "cpu 0\n"
          ]
        }
      ]
    },
    {
      "cell_type": "code",
      "source": [
        "!pip install transformers"
      ],
      "metadata": {
        "colab": {
          "base_uri": "https://localhost:8080/"
        },
        "id": "cjO0VHxROnyZ",
        "outputId": "1a004ce1-f114-499d-d3e3-9cc0b896945f"
      },
      "execution_count": 4,
      "outputs": [
        {
          "output_type": "stream",
          "name": "stdout",
          "text": [
            "Collecting transformers\n",
            "  Downloading transformers-4.35.1-py3-none-any.whl (7.9 MB)\n",
            "\u001b[2K     \u001b[90m━━━━━━━━━━━━━━━━━━━━━━━━━━━━━━━━━━━━━━━━\u001b[0m \u001b[32m7.9/7.9 MB\u001b[0m \u001b[31m22.6 MB/s\u001b[0m eta \u001b[36m0:00:00\u001b[0m\n",
            "\u001b[?25hRequirement already satisfied: filelock in /usr/local/lib/python3.10/dist-packages (from transformers) (3.13.1)\n",
            "Collecting huggingface-hub<1.0,>=0.16.4 (from transformers)\n",
            "  Downloading huggingface_hub-0.19.3-py3-none-any.whl (311 kB)\n",
            "\u001b[2K     \u001b[90m━━━━━━━━━━━━━━━━━━━━━━━━━━━━━━━━━━━━━━━━\u001b[0m \u001b[32m311.2/311.2 kB\u001b[0m \u001b[31m36.8 MB/s\u001b[0m eta \u001b[36m0:00:00\u001b[0m\n",
            "\u001b[?25hRequirement already satisfied: numpy>=1.17 in /usr/local/lib/python3.10/dist-packages (from transformers) (1.23.5)\n",
            "Requirement already satisfied: packaging>=20.0 in /usr/local/lib/python3.10/dist-packages (from transformers) (23.2)\n",
            "Requirement already satisfied: pyyaml>=5.1 in /usr/local/lib/python3.10/dist-packages (from transformers) (6.0.1)\n",
            "Requirement already satisfied: regex!=2019.12.17 in /usr/local/lib/python3.10/dist-packages (from transformers) (2023.6.3)\n",
            "Requirement already satisfied: requests in /usr/local/lib/python3.10/dist-packages (from transformers) (2.31.0)\n",
            "Collecting tokenizers<0.15,>=0.14 (from transformers)\n",
            "  Downloading tokenizers-0.14.1-cp310-cp310-manylinux_2_17_x86_64.manylinux2014_x86_64.whl (3.8 MB)\n",
            "\u001b[2K     \u001b[90m━━━━━━━━━━━━━━━━━━━━━━━━━━━━━━━━━━━━━━━━\u001b[0m \u001b[32m3.8/3.8 MB\u001b[0m \u001b[31m52.5 MB/s\u001b[0m eta \u001b[36m0:00:00\u001b[0m\n",
            "\u001b[?25hCollecting safetensors>=0.3.1 (from transformers)\n",
            "  Downloading safetensors-0.4.0-cp310-cp310-manylinux_2_17_x86_64.manylinux2014_x86_64.whl (1.3 MB)\n",
            "\u001b[2K     \u001b[90m━━━━━━━━━━━━━━━━━━━━━━━━━━━━━━━━━━━━━━━━\u001b[0m \u001b[32m1.3/1.3 MB\u001b[0m \u001b[31m55.3 MB/s\u001b[0m eta \u001b[36m0:00:00\u001b[0m\n",
            "\u001b[?25hRequirement already satisfied: tqdm>=4.27 in /usr/local/lib/python3.10/dist-packages (from transformers) (4.66.1)\n",
            "Requirement already satisfied: fsspec>=2023.5.0 in /usr/local/lib/python3.10/dist-packages (from huggingface-hub<1.0,>=0.16.4->transformers) (2023.6.0)\n",
            "Requirement already satisfied: typing-extensions>=3.7.4.3 in /usr/local/lib/python3.10/dist-packages (from huggingface-hub<1.0,>=0.16.4->transformers) (4.5.0)\n",
            "Collecting huggingface-hub<1.0,>=0.16.4 (from transformers)\n",
            "  Downloading huggingface_hub-0.17.3-py3-none-any.whl (295 kB)\n",
            "\u001b[2K     \u001b[90m━━━━━━━━━━━━━━━━━━━━━━━━━━━━━━━━━━━━━━━━\u001b[0m \u001b[32m295.0/295.0 kB\u001b[0m \u001b[31m26.8 MB/s\u001b[0m eta \u001b[36m0:00:00\u001b[0m\n",
            "\u001b[?25hRequirement already satisfied: charset-normalizer<4,>=2 in /usr/local/lib/python3.10/dist-packages (from requests->transformers) (3.3.2)\n",
            "Requirement already satisfied: idna<4,>=2.5 in /usr/local/lib/python3.10/dist-packages (from requests->transformers) (3.4)\n",
            "Requirement already satisfied: urllib3<3,>=1.21.1 in /usr/local/lib/python3.10/dist-packages (from requests->transformers) (2.0.7)\n",
            "Requirement already satisfied: certifi>=2017.4.17 in /usr/local/lib/python3.10/dist-packages (from requests->transformers) (2023.7.22)\n",
            "Installing collected packages: safetensors, huggingface-hub, tokenizers, transformers\n",
            "Successfully installed huggingface-hub-0.17.3 safetensors-0.4.0 tokenizers-0.14.1 transformers-4.35.1\n"
          ]
        }
      ]
    },
    {
      "cell_type": "code",
      "source": [
        "from transformers import (AdamW, GPT2Config, GPT2LMHeadModel, GPT2Tokenizer, get_linear_schedule_with_warmup)"
      ],
      "metadata": {
        "id": "p9FKMMF1OlY2"
      },
      "execution_count": 5,
      "outputs": []
    },
    {
      "cell_type": "code",
      "source": [
        "MODEL_CLASSES = {\n",
        "    'gpt2': (GPT2Config, GPT2LMHeadModel, GPT2Tokenizer),\n",
        "}"
      ],
      "metadata": {
        "id": "tHsF8MWMOUoF"
      },
      "execution_count": 6,
      "outputs": []
    },
    {
      "cell_type": "code",
      "source": [
        "config_class, model_class, tokenizer_class = MODEL_CLASSES[model_type]\n",
        "print(config_class, model_class, tokenizer_class, sep=\"\\n\")"
      ],
      "metadata": {
        "colab": {
          "base_uri": "https://localhost:8080/"
        },
        "id": "vWWZHLT5O1ZX",
        "outputId": "6847bc68-8a08-46b3-841a-666fceb4d910"
      },
      "execution_count": 7,
      "outputs": [
        {
          "output_type": "stream",
          "name": "stdout",
          "text": [
            "<class 'transformers.models.gpt2.configuration_gpt2.GPT2Config'>\n",
            "<class 'transformers.models.gpt2.modeling_gpt2.GPT2LMHeadModel'>\n",
            "<class 'transformers.models.gpt2.tokenization_gpt2.GPT2Tokenizer'>\n"
          ]
        }
      ]
    },
    {
      "cell_type": "code",
      "source": [
        "config = config_class.from_pretrained(model_name_or_path)"
      ],
      "metadata": {
        "colab": {
          "base_uri": "https://localhost:8080/",
          "height": 49,
          "referenced_widgets": [
            "d673ae5ff00649629112cbae5052d706",
            "e9d4cdb944404da7884909349625bc98",
            "13b5c59faffc44d6bcbc1ac27df97b95",
            "25aead9fa6694f7aa9d2cf048acfb12e",
            "8f5fc2b07423428eb723ea30ec3d52fb",
            "aba40704a92343a997d9196a1f5929a9",
            "72a18960a4084f31bc0af3a68b3f4f8b",
            "e25bdf5994f248b4b053cc68711026eb",
            "29832fc03f42454cafff75354b8065fd",
            "59403f4b2c564b66ba28e1629bf7cc7f",
            "5f4eb614336d448484bb70c408991035"
          ]
        },
        "id": "ZnV0NIxNO90T",
        "outputId": "d133c65f-7e89-46df-e2dd-63f326c20efa"
      },
      "execution_count": 8,
      "outputs": [
        {
          "output_type": "display_data",
          "data": {
            "text/plain": [
              "Downloading (…)lve/main/config.json:   0%|          | 0.00/665 [00:00<?, ?B/s]"
            ],
            "application/vnd.jupyter.widget-view+json": {
              "version_major": 2,
              "version_minor": 0,
              "model_id": "d673ae5ff00649629112cbae5052d706"
            }
          },
          "metadata": {}
        }
      ]
    },
    {
      "cell_type": "code",
      "source": [
        "config.extra_embedding_dim = extra_embedding_dim # don't know why we are using it; -- explore it"
      ],
      "metadata": {
        "id": "gzWKRY9hP0rX"
      },
      "execution_count": 9,
      "outputs": []
    },
    {
      "cell_type": "code",
      "source": [
        "tokenizer = tokenizer_class.from_pretrained(model_name_or_path,do_lower_case = False)"
      ],
      "metadata": {
        "colab": {
          "base_uri": "https://localhost:8080/",
          "height": 113,
          "referenced_widgets": [
            "6e737790d13e44cfa971b79821132034",
            "6348061f21d0459396e94acb4b391d37",
            "d0d4da30997d4e38b13de9308feb25e9",
            "d3a4352de0ab46e0835b93852285394d",
            "c104824ef22640b89a64657db585ea95",
            "24d5c3692475442e9a4cfecb650e9b9b",
            "47077fd48f1548598222d4f6eb30f730",
            "7bf2c94f67924e34a7e122f8fdaa2d4a",
            "67ec0c368e274901aed952a29465429b",
            "e42f3409cf724110a76ec7b258c0ec03",
            "80d658687d584a33a1cabb45d5ddb1cc",
            "d856d7a0b42646fdb2f8fe98ed87321d",
            "02d2a48f223441a8adbb2dbb0c8b91ca",
            "b5cb87abb069446ab614965147c479ca",
            "3ba8ff4eabd14d22bd8934f3dd92e2d4",
            "9e38fafb46834c0f87ea2d18de765f30",
            "3173df1c08ef4f528a0b73fede2916b9",
            "dec79bdc9f0b4fdeafaa1b7c7b8f5270",
            "ea1b10845f404f46b03b6241d7353a25",
            "7af4acf4b4074c539da8b8158d574a1e",
            "7232f6298d4841d2b9a2bc84f2620ccf",
            "f308fb6887d34ec19a2b39889ad65a4a",
            "60e02573ab9b4dcaa173852789a0a812",
            "7ce9b9ed3ee84ed6a161201467f6a641",
            "6263a71291e94351b8314d1b3a8a67cd",
            "7deaf5b0236e4859bbed63a2d5888435",
            "6dcdded554184321896906191f662d4a",
            "14bfbfc2454042338613a2baaabba9c8",
            "36ab0f6f08e7423bb9e7111a08c249a7",
            "fb1ca2837172434495c494e548aca7a5",
            "04da1f53b8d04066ab11441df0d62923",
            "750bdf0feb39436d9b4438dcf4f9797e",
            "a5a9152683b74a5a9f6621268a47523c"
          ]
        },
        "id": "Jr514npOQXyb",
        "outputId": "bb77b276-c3a9-4e56-aa7a-8c2c54f918be"
      },
      "execution_count": 10,
      "outputs": [
        {
          "output_type": "display_data",
          "data": {
            "text/plain": [
              "Downloading (…)olve/main/vocab.json:   0%|          | 0.00/1.04M [00:00<?, ?B/s]"
            ],
            "application/vnd.jupyter.widget-view+json": {
              "version_major": 2,
              "version_minor": 0,
              "model_id": "6e737790d13e44cfa971b79821132034"
            }
          },
          "metadata": {}
        },
        {
          "output_type": "display_data",
          "data": {
            "text/plain": [
              "Downloading (…)olve/main/merges.txt:   0%|          | 0.00/456k [00:00<?, ?B/s]"
            ],
            "application/vnd.jupyter.widget-view+json": {
              "version_major": 2,
              "version_minor": 0,
              "model_id": "d856d7a0b42646fdb2f8fe98ed87321d"
            }
          },
          "metadata": {}
        },
        {
          "output_type": "display_data",
          "data": {
            "text/plain": [
              "Downloading (…)/main/tokenizer.json:   0%|          | 0.00/1.36M [00:00<?, ?B/s]"
            ],
            "application/vnd.jupyter.widget-view+json": {
              "version_major": 2,
              "version_minor": 0,
              "model_id": "60e02573ab9b4dcaa173852789a0a812"
            }
          },
          "metadata": {}
        }
      ]
    },
    {
      "cell_type": "code",
      "source": [
        "model = model_class.from_pretrained(model_name_or_path, config=config)"
      ],
      "metadata": {
        "colab": {
          "base_uri": "https://localhost:8080/",
          "height": 81,
          "referenced_widgets": [
            "ef33d928c75c46df9072ddf1f7ae9bf7",
            "97a40f0108664e55bacb48a3acf1eef8",
            "71a28a0da9fa4bf58ef2fe7fb9ffd9a9",
            "1dd9ebaf5aac4435ac40075a3096253b",
            "ec2e156d7fdf417185e13b796b859c34",
            "af79b71dda604f698c4b81633d8378e6",
            "5ad99d9dc4834e68b00f2d4974983653",
            "4c15008e9aab49c9abedc85bb1b9020a",
            "f57086e2d5ef41fd8c926366270c5a6b",
            "0dc250a2a1f746c7921388e35cb82444",
            "09f1baafc4cf47fe8ba44b519c0c4b8b",
            "fe97355ff95445d7bb85326b87c12ff6",
            "57dd8c017e8145578d011cfe29f80e99",
            "0790b17abccd4e82a331bce0d9899617",
            "a7b5ca04914d4380bcb3e36398484e18",
            "4b770fca46834d9fb3a656529dd4c1b7",
            "fbcb3f1118d4442b9be3068042aecab4",
            "a26a862b777a423996143610022fe583",
            "3889c6904c414d368313d090b7fded4d",
            "ac7be967a65a42aa95a813ff9238f5ee",
            "7ffac8cc1c2a4ea698c0c1f2eed2caf3",
            "924eb40a3a534e9e986e9b215033d9fe"
          ]
        },
        "id": "iR9zF36SY3TX",
        "outputId": "f5914f1a-2c6d-4f95-e090-5562ccd84c4b"
      },
      "execution_count": 11,
      "outputs": [
        {
          "output_type": "display_data",
          "data": {
            "text/plain": [
              "Downloading model.safetensors:   0%|          | 0.00/548M [00:00<?, ?B/s]"
            ],
            "application/vnd.jupyter.widget-view+json": {
              "version_major": 2,
              "version_minor": 0,
              "model_id": "ef33d928c75c46df9072ddf1f7ae9bf7"
            }
          },
          "metadata": {}
        },
        {
          "output_type": "display_data",
          "data": {
            "text/plain": [
              "Downloading (…)neration_config.json:   0%|          | 0.00/124 [00:00<?, ?B/s]"
            ],
            "application/vnd.jupyter.widget-view+json": {
              "version_major": 2,
              "version_minor": 0,
              "model_id": "fe97355ff95445d7bb85326b87c12ff6"
            }
          },
          "metadata": {}
        }
      ]
    },
    {
      "cell_type": "code",
      "source": [
        "SPECIAL_TOKENS = {\n",
        "    \"additional_special_tokens\": [\"<dense-vectors>\", \"<tokens>\", \"<vercourb>\", \"<ARG0>\", \"<ARG1>\", \"<global-dense-vectors>\"],\n",
        "    \"pad_token\": \"<pad>\",\n",
        "    \"bos_token\": \"<bos>\",\n",
        "    \"eos_token\": \"<eos>\"\n",
        "} # total 9 tokens"
      ],
      "metadata": {
        "id": "DN4SAN38ZfjE"
      },
      "execution_count": 12,
      "outputs": []
    },
    {
      "cell_type": "code",
      "source": [
        "tokenizer.add_special_tokens(SPECIAL_TOKENS)"
      ],
      "metadata": {
        "colab": {
          "base_uri": "https://localhost:8080/"
        },
        "id": "FpYHs093ZDaN",
        "outputId": "fee4391d-a610-426f-8c9c-2b4bff83d7d4"
      },
      "execution_count": 13,
      "outputs": [
        {
          "output_type": "execute_result",
          "data": {
            "text/plain": [
              "9"
            ]
          },
          "metadata": {},
          "execution_count": 13
        }
      ]
    },
    {
      "cell_type": "code",
      "source": [
        "len(tokenizer) # in general 50257; but 9 are added so becomes 50266"
      ],
      "metadata": {
        "colab": {
          "base_uri": "https://localhost:8080/"
        },
        "id": "2e2m6QxvZtAR",
        "outputId": "98be0f06-304a-409a-ecec-0e83e3cec5ab"
      },
      "execution_count": 14,
      "outputs": [
        {
          "output_type": "execute_result",
          "data": {
            "text/plain": [
              "50266"
            ]
          },
          "metadata": {},
          "execution_count": 14
        }
      ]
    },
    {
      "cell_type": "code",
      "source": [
        "model.resize_token_embeddings(len(tokenizer)) # each token of size-> 1280"
      ],
      "metadata": {
        "colab": {
          "base_uri": "https://localhost:8080/"
        },
        "id": "SufD0vmJZiqe",
        "outputId": "591aefce-a1b7-401b-c9b2-b89a1de47a5a"
      },
      "execution_count": 15,
      "outputs": [
        {
          "output_type": "execute_result",
          "data": {
            "text/plain": [
              "Embedding(50266, 768)"
            ]
          },
          "metadata": {},
          "execution_count": 15
        }
      ]
    },
    {
      "cell_type": "code",
      "source": [
        "# move model to gpu\n",
        "# model.to(device)"
      ],
      "metadata": {
        "id": "zgeapSjWZsON"
      },
      "execution_count": 16,
      "outputs": []
    },
    {
      "cell_type": "code",
      "source": [
        "import tqdm\n",
        "from torch.utils.data import Dataset\n",
        "import pickle\n",
        "import numpy as np"
      ],
      "metadata": {
        "id": "acGbe2D5dGzG"
      },
      "execution_count": 16,
      "outputs": []
    },
    {
      "cell_type": "code",
      "source": [
        "from collections import defaultdict\n",
        "\n",
        "BATCH_SIZE = 128\n",
        "MAX_LENGTH = 502\n",
        "MAX_GPT2_LENGTH = 1000\n",
        "\n",
        "MAX_PARAPHRASE_LENGTH = 10\n",
        "\n",
        "BASE_CONFIG = {\n",
        "    \"keys\": [\n",
        "        {\"key\": \"sent1_tokens\", \"position\": 3, \"tokenize\": True, \"metadata\": False},\n",
        "        {\"key\": \"sent2_tokens\", \"position\": 4, \"tokenize\": True, \"metadata\": False},\n",
        "        {\"key\": \"f1_score\", \"position\": 5, \"tokenize\": False, \"metadata\": True},\n",
        "        {\"key\": \"kt_score\", \"position\": 6, \"tokenize\": False, \"metadata\": True},\n",
        "        {\"key\": \"ed_score\", \"position\": 7, \"tokenize\": False, \"metadata\": True},\n",
        "        {\"key\": \"langid\", \"position\": 8, \"tokenize\": False, \"metadata\": True},\n",
        "    ],\n",
        "    \"max_total_length\": MAX_PARAPHRASE_LENGTH,\n",
        "    \"max_prefix_length\": int(MAX_PARAPHRASE_LENGTH / 2),\n",
        "    \"max_suffix_length\": int(MAX_PARAPHRASE_LENGTH / 2),\n",
        "    \"max_dense_length\": 2\n",
        "}"
      ],
      "metadata": {
        "id": "1sW7sWbeehdi"
      },
      "execution_count": 17,
      "outputs": []
    },
    {
      "cell_type": "code",
      "source": [
        "DATASET_CONFIG = {\n",
        "\"datasets/test_custom\": BASE_CONFIG,\n",
        "\"datasets/paranmt_filtered\": BASE_CONFIG,\n",
        "    \"datasets/shakespeare\": BASE_CONFIG,\n",
        "    \"datasets/formality\": BASE_CONFIG,\n",
        "    \"datasets/shakespeare_aae_tweets_bible_romantic-poetry_switchboard_coha_3_bins_lyrics_full\": BASE_CONFIG,\n",
        "    \"datasets/aae\": BASE_CONFIG,\n",
        "    \"datasets/bible\": BASE_CONFIG,\n",
        "    \"datasets/poetry\": BASE_CONFIG,\n",
        "    \"datasets/switchboard\": BASE_CONFIG,\n",
        "    \"datasets/english_tweets\": BASE_CONFIG,\n",
        "    \"datasets/lyrics_full\": BASE_CONFIG,\n",
        "    \"datasets/joyce\": BASE_CONFIG,\n",
        "    \"datasets/congress-bills\": BASE_CONFIG,\n",
        "    \"datasets/shakespeare\": BASE_CONFIG,\n",
        "    \"datasets/coha_3_bins_1810s-1820s\": BASE_CONFIG,\n",
        "    \"datasets/coha_3_bins_1890s-1900s\": BASE_CONFIG,\n",
        "    \"datasets/coha_3_bins_1990s-2000s\": BASE_CONFIG\n",
        "}"
      ],
      "metadata": {
        "id": "oT_O5yKrdQpo"
      },
      "execution_count": 18,
      "outputs": []
    },
    {
      "cell_type": "code",
      "source": [
        "def string_to_ids(text, tokenizer):\n",
        "  return tokenizer.convert_tokens_to_ids(tokenizer.tokenize(text))"
      ],
      "metadata": {
        "id": "1eLqfPN-fbg5"
      },
      "execution_count": 19,
      "outputs": []
    },
    {
      "cell_type": "code",
      "source": [
        "tokenizer.pad_token_id"
      ],
      "metadata": {
        "colab": {
          "base_uri": "https://localhost:8080/"
        },
        "id": "X9bITx5aBL-O",
        "outputId": "802dc982-91d8-43a7-efe7-b3aefbec1e54"
      },
      "execution_count": 20,
      "outputs": [
        {
          "output_type": "execute_result",
          "data": {
            "text/plain": [
              "50263"
            ]
          },
          "metadata": {},
          "execution_count": 20
        }
      ]
    },
    {
      "cell_type": "code",
      "source": [
        "def datum_to_dict(config, datum, tokenizer):\n",
        "    instance_dict = {\"metadata\": \"\"}\n",
        "\n",
        "    for key in config[\"keys\"]:\n",
        "        element_value = datum[key[\"position\"]]\n",
        "        instance_dict[key[\"key\"]] = string_to_ids(element_value, tokenizer) if key[\"tokenize\"] else element_value\n",
        "        if key[\"metadata\"]:\n",
        "            instance_dict[\"metadata\"] += \"%s = %s, \" % (key[\"key\"], str(element_value))\n",
        "\n",
        "    # print(\"Instance dict metadata:- \", instance_dict[\"metadata\"])\n",
        "    # strip off trailing , from metadata\n",
        "    instance_dict[\"metadata\"] = instance_dict[\"metadata\"][:-2] # just to remove last space and comma\n",
        "    # print(\"Instance dict metadata after trailing off :- \", instance_dict[\"metadata\"])\n",
        "\n",
        "    return instance_dict"
      ],
      "metadata": {
        "id": "dyM5VRmgfKEX"
      },
      "execution_count": 21,
      "outputs": []
    },
    {
      "cell_type": "code",
      "source": [
        "limit_examples = 10"
      ],
      "metadata": {
        "id": "KVhuUGldt57H"
      },
      "execution_count": 22,
      "outputs": []
    },
    {
      "cell_type": "code",
      "source": [
        "def preprocess(exp, tokenizer, do_tokenize=True):\n",
        "  # truncate\n",
        "  max_prefix_len = BASE_CONFIG[\"max_prefix_length\"]\n",
        "  max_suffix_len = BASE_CONFIG[\"max_suffix_length\"]\n",
        "\n",
        "  sent1 = np.array(exp[\"sent1_tokens\"])\n",
        "  sent2 = np.array(exp[\"sent2_tokens\"])\n",
        "\n",
        "  if(len(sent1) > max_prefix_len):\n",
        "    sent1 = sent1[:max_prefix_len]\n",
        "\n",
        "  if(len(sent2) > max_suffix_len):\n",
        "    sent2 = sent2[:max_suffix_len]\n",
        "\n",
        "  # shuffle (prefix and suffix; we will not do this)\n",
        "\n",
        "  # add padding; left padding to prefix and right padding to suffix\n",
        "  count_pad_tokens_prefix = max_prefix_len - len(sent1)\n",
        "  sent1 = np.pad(sent1, (count_pad_tokens_prefix, 0), constant_values = tokenizer.pad_token_id)\n",
        "\n",
        "  # add <eos> to suffix\n",
        "  sent2 = np.append(sent2, tokenizer.eos_token_id)\n",
        "\n",
        "  count_pad_tokens_suffix = (max_suffix_len + 1) - len(sent2)\n",
        "  sent2 = np.pad(sent2, (0, count_pad_tokens_suffix), constant_values = tokenizer.pad_token_id)\n",
        "\n",
        "  # sentence to input gpt2\n",
        "  sentence_to_input_gpt2 = np.concatenate([sent1, [tokenizer.bos_token_id], sent2]).astype(np.int64) # [sent1, <bos> sent2]\n",
        "\n",
        "  # label/gt to predict\n",
        "  gt = np.concatenate([\n",
        "      [-100 for _ in sent1],\n",
        "      [-100],\n",
        "      [val if val != tokenizer.pad_token_id else -100 for val in sent2]\n",
        "  ]).astype(np.int64)\n",
        "\n",
        "  # segment\n",
        "  segment = np.concatenate([\n",
        "      [tokenizer.additional_special_tokens_ids[1] for _ in sent1],\n",
        "      [tokenizer.additional_special_tokens_ids[2]],\n",
        "      [tokenizer.additional_special_tokens_ids[2] for _ in sent2]\n",
        "  ]).astype(np.int64)\n",
        "\n",
        "  exp[\"prefix_sent\"] = sent1\n",
        "  exp[\"suffix_sent\"] = sent2\n",
        "\n",
        "  exp[\"input\"] = sentence_to_input_gpt2\n",
        "  exp[\"label\"] = gt\n",
        "  exp[\"segment\"] = segment\n",
        "\n",
        "  return exp"
      ],
      "metadata": {
        "id": "CHinenTkJvtU"
      },
      "execution_count": 1,
      "outputs": []
    },
    {
      "cell_type": "code",
      "source": [
        "# custom dataset\n",
        "class ParaphraseDatasetText(Dataset):\n",
        "    def __init__(self, tokenizer, evaluate=False, split=\"train\"):\n",
        "        data_dir = \"/content/drive/MyDrive/IRE_Project/style_transfer_paraphrase/datasets/paranmt_filtered/\"+split+\".pickle\"\n",
        "        # self.args = args\n",
        "\n",
        "        if data_dir in DATASET_CONFIG:\n",
        "            self.config = DATASET_CONFIG[data_dir]\n",
        "        else:\n",
        "            self.config = BASE_CONFIG\n",
        "\n",
        "        # update_config(self.args, self.config)\n",
        "\n",
        "        self.examples = []\n",
        "\n",
        "        # Caching is important since it can avoid slow tokenization\n",
        "        with open(data_dir, \"rb\") as handle:\n",
        "          parse_data = pickle.load(handle)\n",
        "\n",
        "        print(\"Original raw data- \", parse_data[0])\n",
        "\n",
        "        self.examples = [datum_to_dict(self.config, datum, tokenizer) for datum in tqdm.tqdm(parse_data)]\n",
        "\n",
        "        print(\"\\n------------------ After conversion- \", self.examples[0])\n",
        "\n",
        "        # in case we are using a fraction of the dataset, reduce the size of the dataset here\n",
        "        self.examples = self.examples[:limit_examples]\n",
        "\n",
        "        # convert the dataset into the Instance class\n",
        "        # self.examples = [Instance(args, self.config, datum_dict) for datum_dict in self.examples]\n",
        "        self.examples = [preprocess(exp, tokenizer) for exp in self.examples]\n",
        "        print(self.examples[0])\n",
        "        # print(\"Metadata\", self.examples[0].dict[\"metadata\"])\n",
        "\n",
        "        # num_truncated = sum([x.truncated for x in self.examples]) # to get truncated count in examples\n",
        "\n",
        "    def __len__(self):\n",
        "        return len(self.examples)\n",
        "\n",
        "    def __getitem__(self, item):\n",
        "        sentence = self.examples[item][\"input\"]\n",
        "        label = self.examples[item][\"label\"]\n",
        "        segment = self.examples[item][\"segment\"]\n",
        "        suffix_style = 0\n",
        "        original_style = 0 # since in paraphrase, both will remain in the same style\n",
        "        init_context_size = 1 + BASE_CONFIG[\"max_prefix_length\"]\n",
        "\n",
        "        global_dense_vectors = np.zeros((1, 768), dtype=np.float32)\n",
        "\n",
        "        return {\n",
        "            \"sentence\": torch.tensor(sentence),\n",
        "            \"instance_number\": item,\n",
        "            \"label\": torch.tensor(label),\n",
        "            \"segment\": torch.tensor(segment),\n",
        "            \"suffix_style\": suffix_style,\n",
        "            \"original_style\": original_style,\n",
        "            \"init_context_size\": init_context_size,\n",
        "            \"global_dense_vectors\": global_dense_vectors,\n",
        "            # \"metadata\": self.examples[item].dict[\"metadata\"],\n",
        "        }"
      ],
      "metadata": {
        "id": "pPYp3-yqa_xj"
      },
      "execution_count": 24,
      "outputs": []
    },
    {
      "cell_type": "code",
      "source": [
        "train_dataset = ParaphraseDatasetText(tokenizer=tokenizer)"
      ],
      "metadata": {
        "colab": {
          "base_uri": "https://localhost:8080/"
        },
        "id": "aPbbwmZMaTF0",
        "outputId": "0124aee5-2635-42f8-d7df-8a00ef07216f"
      },
      "execution_count": 25,
      "outputs": [
        {
          "output_type": "stream",
          "name": "stdout",
          "text": [
            "Original raw data-  ('S > NP VP .', 'S > SBAR , NP VP .', False, 'Mr. Whetstone is goingto speak to you after I finish.', \"after I'm done, Mr. Whetstone will be speaking.\", (0.3, 0.375, 0.33333333333333326), (-0.33333333333333337, False), 2, ('en', 'en'))\n"
          ]
        },
        {
          "output_type": "stream",
          "name": "stderr",
          "text": [
            "100%|██████████| 73062/73062 [00:30<00:00, 2432.01it/s]\n"
          ]
        },
        {
          "output_type": "stream",
          "name": "stdout",
          "text": [
            "\n",
            "------------------ After conversion-  {'metadata': \"f1_score = (0.3, 0.375, 0.33333333333333326), kt_score = (-0.33333333333333337, False), ed_score = 2, langid = ('en', 'en')\", 'sent1_tokens': [5246, 13, 370, 3202, 6440, 318, 1016, 1462, 2740, 284, 345, 706, 314, 5461, 13], 'sent2_tokens': [8499, 314, 1101, 1760, 11, 1770, 13, 370, 3202, 6440, 481, 307, 5486, 13], 'f1_score': (0.3, 0.375, 0.33333333333333326), 'kt_score': (-0.33333333333333337, False), 'ed_score': 2, 'langid': ('en', 'en')}\n",
            "{'metadata': \"f1_score = (0.3, 0.375, 0.33333333333333326), kt_score = (-0.33333333333333337, False), ed_score = 2, langid = ('en', 'en')\", 'sent1_tokens': [5246, 13, 370, 3202, 6440, 318, 1016, 1462, 2740, 284, 345, 706, 314, 5461, 13], 'sent2_tokens': [8499, 314, 1101, 1760, 11, 1770, 13, 370, 3202, 6440, 481, 307, 5486, 13], 'f1_score': (0.3, 0.375, 0.33333333333333326), 'kt_score': (-0.33333333333333337, False), 'ed_score': 2, 'langid': ('en', 'en'), 'prefix_sent': array([5246,   13,  370, 3202, 6440]), 'suffix_sent': array([ 8499,   314,  1101,  1760,    11, 50265]), 'input': array([ 5246,    13,   370,  3202,  6440, 50264,  8499,   314,  1101,\n",
            "        1760,    11, 50265]), 'label': array([ -100,  -100,  -100,  -100,  -100,  -100,  8499,   314,  1101,\n",
            "        1760,    11, 50265]), 'segment': array([50258, 50258, 50258, 50258, 50258, 50259, 50259, 50259, 50259,\n",
            "       50259, 50259, 50259])}\n"
          ]
        }
      ]
    },
    {
      "cell_type": "code",
      "source": [
        "next(iter(train_dataset))"
      ],
      "metadata": {
        "colab": {
          "base_uri": "https://localhost:8080/"
        },
        "id": "mYsNFhonYBLl",
        "outputId": "52d0714d-fda4-435a-a882-f791f5b4380f"
      },
      "execution_count": 26,
      "outputs": [
        {
          "output_type": "execute_result",
          "data": {
            "text/plain": [
              "{'sentence': tensor([ 5246,    13,   370,  3202,  6440, 50264,  8499,   314,  1101,  1760,\n",
              "            11, 50265]),\n",
              " 'instance_number': 0,\n",
              " 'label': tensor([ -100,  -100,  -100,  -100,  -100,  -100,  8499,   314,  1101,  1760,\n",
              "            11, 50265]),\n",
              " 'segment': tensor([50258, 50258, 50258, 50258, 50258, 50259, 50259, 50259, 50259, 50259,\n",
              "         50259, 50259]),\n",
              " 'suffix_style': 0,\n",
              " 'original_style': 0,\n",
              " 'init_context_size': 6,\n",
              " 'global_dense_vectors': array([[0., 0., 0., 0., 0., 0., 0., 0., 0., 0., 0., 0., 0., 0., 0., 0.,\n",
              "         0., 0., 0., 0., 0., 0., 0., 0., 0., 0., 0., 0., 0., 0., 0., 0.,\n",
              "         0., 0., 0., 0., 0., 0., 0., 0., 0., 0., 0., 0., 0., 0., 0., 0.,\n",
              "         0., 0., 0., 0., 0., 0., 0., 0., 0., 0., 0., 0., 0., 0., 0., 0.,\n",
              "         0., 0., 0., 0., 0., 0., 0., 0., 0., 0., 0., 0., 0., 0., 0., 0.,\n",
              "         0., 0., 0., 0., 0., 0., 0., 0., 0., 0., 0., 0., 0., 0., 0., 0.,\n",
              "         0., 0., 0., 0., 0., 0., 0., 0., 0., 0., 0., 0., 0., 0., 0., 0.,\n",
              "         0., 0., 0., 0., 0., 0., 0., 0., 0., 0., 0., 0., 0., 0., 0., 0.,\n",
              "         0., 0., 0., 0., 0., 0., 0., 0., 0., 0., 0., 0., 0., 0., 0., 0.,\n",
              "         0., 0., 0., 0., 0., 0., 0., 0., 0., 0., 0., 0., 0., 0., 0., 0.,\n",
              "         0., 0., 0., 0., 0., 0., 0., 0., 0., 0., 0., 0., 0., 0., 0., 0.,\n",
              "         0., 0., 0., 0., 0., 0., 0., 0., 0., 0., 0., 0., 0., 0., 0., 0.,\n",
              "         0., 0., 0., 0., 0., 0., 0., 0., 0., 0., 0., 0., 0., 0., 0., 0.,\n",
              "         0., 0., 0., 0., 0., 0., 0., 0., 0., 0., 0., 0., 0., 0., 0., 0.,\n",
              "         0., 0., 0., 0., 0., 0., 0., 0., 0., 0., 0., 0., 0., 0., 0., 0.,\n",
              "         0., 0., 0., 0., 0., 0., 0., 0., 0., 0., 0., 0., 0., 0., 0., 0.,\n",
              "         0., 0., 0., 0., 0., 0., 0., 0., 0., 0., 0., 0., 0., 0., 0., 0.,\n",
              "         0., 0., 0., 0., 0., 0., 0., 0., 0., 0., 0., 0., 0., 0., 0., 0.,\n",
              "         0., 0., 0., 0., 0., 0., 0., 0., 0., 0., 0., 0., 0., 0., 0., 0.,\n",
              "         0., 0., 0., 0., 0., 0., 0., 0., 0., 0., 0., 0., 0., 0., 0., 0.,\n",
              "         0., 0., 0., 0., 0., 0., 0., 0., 0., 0., 0., 0., 0., 0., 0., 0.,\n",
              "         0., 0., 0., 0., 0., 0., 0., 0., 0., 0., 0., 0., 0., 0., 0., 0.,\n",
              "         0., 0., 0., 0., 0., 0., 0., 0., 0., 0., 0., 0., 0., 0., 0., 0.,\n",
              "         0., 0., 0., 0., 0., 0., 0., 0., 0., 0., 0., 0., 0., 0., 0., 0.,\n",
              "         0., 0., 0., 0., 0., 0., 0., 0., 0., 0., 0., 0., 0., 0., 0., 0.,\n",
              "         0., 0., 0., 0., 0., 0., 0., 0., 0., 0., 0., 0., 0., 0., 0., 0.,\n",
              "         0., 0., 0., 0., 0., 0., 0., 0., 0., 0., 0., 0., 0., 0., 0., 0.,\n",
              "         0., 0., 0., 0., 0., 0., 0., 0., 0., 0., 0., 0., 0., 0., 0., 0.,\n",
              "         0., 0., 0., 0., 0., 0., 0., 0., 0., 0., 0., 0., 0., 0., 0., 0.,\n",
              "         0., 0., 0., 0., 0., 0., 0., 0., 0., 0., 0., 0., 0., 0., 0., 0.,\n",
              "         0., 0., 0., 0., 0., 0., 0., 0., 0., 0., 0., 0., 0., 0., 0., 0.,\n",
              "         0., 0., 0., 0., 0., 0., 0., 0., 0., 0., 0., 0., 0., 0., 0., 0.,\n",
              "         0., 0., 0., 0., 0., 0., 0., 0., 0., 0., 0., 0., 0., 0., 0., 0.,\n",
              "         0., 0., 0., 0., 0., 0., 0., 0., 0., 0., 0., 0., 0., 0., 0., 0.,\n",
              "         0., 0., 0., 0., 0., 0., 0., 0., 0., 0., 0., 0., 0., 0., 0., 0.,\n",
              "         0., 0., 0., 0., 0., 0., 0., 0., 0., 0., 0., 0., 0., 0., 0., 0.,\n",
              "         0., 0., 0., 0., 0., 0., 0., 0., 0., 0., 0., 0., 0., 0., 0., 0.,\n",
              "         0., 0., 0., 0., 0., 0., 0., 0., 0., 0., 0., 0., 0., 0., 0., 0.,\n",
              "         0., 0., 0., 0., 0., 0., 0., 0., 0., 0., 0., 0., 0., 0., 0., 0.,\n",
              "         0., 0., 0., 0., 0., 0., 0., 0., 0., 0., 0., 0., 0., 0., 0., 0.,\n",
              "         0., 0., 0., 0., 0., 0., 0., 0., 0., 0., 0., 0., 0., 0., 0., 0.,\n",
              "         0., 0., 0., 0., 0., 0., 0., 0., 0., 0., 0., 0., 0., 0., 0., 0.,\n",
              "         0., 0., 0., 0., 0., 0., 0., 0., 0., 0., 0., 0., 0., 0., 0., 0.,\n",
              "         0., 0., 0., 0., 0., 0., 0., 0., 0., 0., 0., 0., 0., 0., 0., 0.,\n",
              "         0., 0., 0., 0., 0., 0., 0., 0., 0., 0., 0., 0., 0., 0., 0., 0.,\n",
              "         0., 0., 0., 0., 0., 0., 0., 0., 0., 0., 0., 0., 0., 0., 0., 0.,\n",
              "         0., 0., 0., 0., 0., 0., 0., 0., 0., 0., 0., 0., 0., 0., 0., 0.,\n",
              "         0., 0., 0., 0., 0., 0., 0., 0., 0., 0., 0., 0., 0., 0., 0., 0.]],\n",
              "       dtype=float32)}"
            ]
          },
          "metadata": {},
          "execution_count": 26
        }
      ]
    },
    {
      "cell_type": "code",
      "source": [
        "from torch.utils.data import DataLoader, RandomSampler, SequentialSampler\n",
        "from tqdm import tqdm, trange"
      ],
      "metadata": {
        "id": "EfI9QFCsZHDx"
      },
      "execution_count": 27,
      "outputs": []
    },
    {
      "cell_type": "code",
      "source": [
        "# start training\n",
        "train_batch_size = per_gpu_train_batch_size\n",
        "train_sampler = RandomSampler(train_dataset)\n",
        "train_dataloader = DataLoader(train_dataset, sampler=train_sampler, batch_size=train_batch_size)"
      ],
      "metadata": {
        "id": "d4GmuCaagv58"
      },
      "execution_count": 28,
      "outputs": []
    },
    {
      "cell_type": "code",
      "source": [
        "len(train_dataloader)  # basically how many batches will be formed"
      ],
      "metadata": {
        "colab": {
          "base_uri": "https://localhost:8080/"
        },
        "id": "hjkzHCuv_-Mz",
        "outputId": "9eb7980c-43a2-4e1c-9333-671cdd3f89f6"
      },
      "execution_count": 29,
      "outputs": [
        {
          "output_type": "execute_result",
          "data": {
            "text/plain": [
              "2"
            ]
          },
          "metadata": {},
          "execution_count": 29
        }
      ]
    },
    {
      "cell_type": "code",
      "source": [
        "per_gpu_train_batch_size"
      ],
      "metadata": {
        "colab": {
          "base_uri": "https://localhost:8080/"
        },
        "id": "DQ33NdSfAcRk",
        "outputId": "f11f5118-4308-499b-8417-95d4ecb0a874"
      },
      "execution_count": 30,
      "outputs": [
        {
          "output_type": "execute_result",
          "data": {
            "text/plain": [
              "5"
            ]
          },
          "metadata": {},
          "execution_count": 30
        }
      ]
    },
    {
      "cell_type": "code",
      "source": [
        "# total gradient descent steps\n",
        "t_total = len(train_dataloader) // gradient_accumulation_steps * num_epochs\n",
        "t_total"
      ],
      "metadata": {
        "colab": {
          "base_uri": "https://localhost:8080/"
        },
        "id": "0Epzz_02AfeY",
        "outputId": "4ce503ca-4e52-42fb-8c85-3a2ab4399e0e"
      },
      "execution_count": 31,
      "outputs": [
        {
          "output_type": "execute_result",
          "data": {
            "text/plain": [
              "3"
            ]
          },
          "metadata": {},
          "execution_count": 31
        }
      ]
    },
    {
      "cell_type": "code",
      "source": [
        "adam_epsilon = 1e-8\n",
        "warmup_steps = 0"
      ],
      "metadata": {
        "id": "lbVOTrAlCg4B"
      },
      "execution_count": 32,
      "outputs": []
    },
    {
      "cell_type": "code",
      "source": [
        "# setting up optimizer and scheduler for training\n",
        "no_decay = ['bias', 'LayerNorm.weight', 'layer_norm.weight']\n",
        "\n",
        "grouped_parameters = [\n",
        "    {\n",
        "        'params': [p for n, p in model.named_parameters()],\n",
        "        'weight_decay': 0.0\n",
        "    }\n",
        "]\n",
        "\n",
        "optimizer = AdamW(grouped_parameters,\n",
        "                lr=float(learning_rt),\n",
        "                eps=adam_epsilon)\n",
        "\n",
        "scheduler = get_linear_schedule_with_warmup(optimizer,\n",
        "                                            num_warmup_steps=warmup_steps,\n",
        "                                            num_training_steps=t_total)"
      ],
      "metadata": {
        "id": "fYZu6_J_BJFh",
        "colab": {
          "base_uri": "https://localhost:8080/"
        },
        "outputId": "c0ccb490-f11d-4ffd-b256-6e5938477f0c"
      },
      "execution_count": 33,
      "outputs": [
        {
          "output_type": "stream",
          "name": "stderr",
          "text": [
            "/usr/local/lib/python3.10/dist-packages/transformers/optimization.py:411: FutureWarning: This implementation of AdamW is deprecated and will be removed in a future version. Use the PyTorch implementation torch.optim.AdamW instead, or set `no_deprecation_warning=True` to disable this warning\n",
            "  warnings.warn(\n"
          ]
        }
      ]
    },
    {
      "cell_type": "code",
      "source": [
        "# total information before training\n",
        "print(\"Num of examples- \", len(train_dataset))\n",
        "print(\"Num of epochs- \", num_epochs)\n",
        "print(\"Batch size- \", train_batch_size)\n",
        "print(\"Gradient acculmulation steps- \", gradient_accumulation_steps)\n",
        "print(\"Total optimization steps- \", t_total)"
      ],
      "metadata": {
        "colab": {
          "base_uri": "https://localhost:8080/"
        },
        "id": "VQm5sjtADH5e",
        "outputId": "836e684c-b302-4fa5-a7b5-7ee9d4104685"
      },
      "execution_count": 34,
      "outputs": [
        {
          "output_type": "stream",
          "name": "stdout",
          "text": [
            "Num of examples-  10\n",
            "Num of epochs-  3\n",
            "Batch size-  5\n",
            "Gradient acculmulation steps-  2\n",
            "Total optimization steps-  3\n"
          ]
        }
      ]
    },
    {
      "cell_type": "code",
      "source": [
        "model.zero_grad()"
      ],
      "metadata": {
        "id": "IEpwAeYCEuvB"
      },
      "execution_count": 35,
      "outputs": []
    },
    {
      "cell_type": "code",
      "source": [
        "train_iterator = trange(int(num_epochs), desc=\"Epoch\")"
      ],
      "metadata": {
        "colab": {
          "base_uri": "https://localhost:8080/"
        },
        "id": "VZNTMMrWE3DT",
        "outputId": "c1467c01-f283-498e-ce92-b0c345791588"
      },
      "execution_count": 36,
      "outputs": [
        {
          "output_type": "stream",
          "name": "stderr",
          "text": [
            "\rEpoch:   0%|          | 0/3 [00:00<?, ?it/s]"
          ]
        }
      ]
    },
    {
      "cell_type": "code",
      "source": [
        "for epoch in train_iterator:\n",
        "    epoch_iterator = tqdm(train_dataloader, desc=\"Iteration\")\n",
        "    for batch_idx, batch in enumerate(epoch_iterator):\n",
        "      # print(batch_idx)\n",
        "      print((batch))\n",
        "      break\n",
        "      # loss = model(batch)"
      ],
      "metadata": {
        "colab": {
          "base_uri": "https://localhost:8080/"
        },
        "id": "cY2_4gCKFZ1L",
        "outputId": "3587117b-4c83-4d08-bacf-6ca3fe5c961b"
      },
      "execution_count": 37,
      "outputs": [
        {
          "output_type": "stream",
          "name": "stderr",
          "text": [
            "\n",
            "Iteration:   0%|          | 0/2 [00:00<?, ?it/s]\n"
          ]
        },
        {
          "output_type": "stream",
          "name": "stdout",
          "text": [
            "{'sentence': tensor([[   40,  1101,  1342,   621,  1315, 50264,    40,  1183,   307,   351,\n",
            "          6550, 50265],\n",
            "        [   40,  4724,   340,   338,   510, 50264,   568,  8914,   616,  1641,\n",
            "           318, 50265],\n",
            "        [ 5246,    13,   370,  3202,  6440, 50264,  8499,   314,  1101,  1760,\n",
            "            11, 50265],\n",
            "        [ 1026,  1183,  2866,  6082,   618, 50264,   732,   561, 13604,   578,\n",
            "           884, 50265],\n",
            "        [41481,   399,  1268,  2767,    36, 50264, 12518,  1709,   504, 49325,\n",
            "           338, 50265]]), 'instance_number': tensor([3, 1, 0, 2, 7]), 'label': tensor([[ -100,  -100,  -100,  -100,  -100,  -100,    40,  1183,   307,   351,\n",
            "          6550, 50265],\n",
            "        [ -100,  -100,  -100,  -100,  -100,  -100,   568,  8914,   616,  1641,\n",
            "           318, 50265],\n",
            "        [ -100,  -100,  -100,  -100,  -100,  -100,  8499,   314,  1101,  1760,\n",
            "            11, 50265],\n",
            "        [ -100,  -100,  -100,  -100,  -100,  -100,   732,   561, 13604,   578,\n",
            "           884, 50265],\n",
            "        [ -100,  -100,  -100,  -100,  -100,  -100, 12518,  1709,   504, 49325,\n",
            "           338, 50265]]), 'segment': tensor([[50258, 50258, 50258, 50258, 50258, 50259, 50259, 50259, 50259, 50259,\n",
            "         50259, 50259],\n",
            "        [50258, 50258, 50258, 50258, 50258, 50259, 50259, 50259, 50259, 50259,\n",
            "         50259, 50259],\n",
            "        [50258, 50258, 50258, 50258, 50258, 50259, 50259, 50259, 50259, 50259,\n",
            "         50259, 50259],\n",
            "        [50258, 50258, 50258, 50258, 50258, 50259, 50259, 50259, 50259, 50259,\n",
            "         50259, 50259],\n",
            "        [50258, 50258, 50258, 50258, 50258, 50259, 50259, 50259, 50259, 50259,\n",
            "         50259, 50259]]), 'suffix_style': tensor([0, 0, 0, 0, 0]), 'original_style': tensor([0, 0, 0, 0, 0]), 'init_context_size': tensor([6, 6, 6, 6, 6]), 'global_dense_vectors': tensor([[[0., 0., 0.,  ..., 0., 0., 0.]],\n",
            "\n",
            "        [[0., 0., 0.,  ..., 0., 0., 0.]],\n",
            "\n",
            "        [[0., 0., 0.,  ..., 0., 0., 0.]],\n",
            "\n",
            "        [[0., 0., 0.,  ..., 0., 0., 0.]],\n",
            "\n",
            "        [[0., 0., 0.,  ..., 0., 0., 0.]]])}\n"
          ]
        },
        {
          "output_type": "stream",
          "name": "stderr",
          "text": [
            "\n",
            "Iteration:   0%|          | 0/2 [00:00<?, ?it/s]\n"
          ]
        },
        {
          "output_type": "stream",
          "name": "stdout",
          "text": [
            "{'sentence': tensor([[ 1639,  1053,  1760,   257,  1049, 50264,  5832,  4376,   674,  4957,\n",
            "          1049, 50265],\n",
            "        [ 1532,   340,  1549,  2152,    11, 50264,   361,   339,  1107, 11196,\n",
            "            11, 50265],\n",
            "        [ 1026,   743,  2291,    11,   379, 50264, 38169,   284,   262,  3572,\n",
            "            11, 50265],\n",
            "        [ 1026,  1183,  2866,  6082,   618, 50264,   732,   561, 13604,   578,\n",
            "           884, 50265],\n",
            "        [ 5246,    13,   370,  3202,  6440, 50264,  8499,   314,  1101,  1760,\n",
            "            11, 50265]]), 'instance_number': tensor([8, 4, 6, 2, 0]), 'label': tensor([[ -100,  -100,  -100,  -100,  -100,  -100,  5832,  4376,   674,  4957,\n",
            "          1049, 50265],\n",
            "        [ -100,  -100,  -100,  -100,  -100,  -100,   361,   339,  1107, 11196,\n",
            "            11, 50265],\n",
            "        [ -100,  -100,  -100,  -100,  -100,  -100, 38169,   284,   262,  3572,\n",
            "            11, 50265],\n",
            "        [ -100,  -100,  -100,  -100,  -100,  -100,   732,   561, 13604,   578,\n",
            "           884, 50265],\n",
            "        [ -100,  -100,  -100,  -100,  -100,  -100,  8499,   314,  1101,  1760,\n",
            "            11, 50265]]), 'segment': tensor([[50258, 50258, 50258, 50258, 50258, 50259, 50259, 50259, 50259, 50259,\n",
            "         50259, 50259],\n",
            "        [50258, 50258, 50258, 50258, 50258, 50259, 50259, 50259, 50259, 50259,\n",
            "         50259, 50259],\n",
            "        [50258, 50258, 50258, 50258, 50258, 50259, 50259, 50259, 50259, 50259,\n",
            "         50259, 50259],\n",
            "        [50258, 50258, 50258, 50258, 50258, 50259, 50259, 50259, 50259, 50259,\n",
            "         50259, 50259],\n",
            "        [50258, 50258, 50258, 50258, 50258, 50259, 50259, 50259, 50259, 50259,\n",
            "         50259, 50259]]), 'suffix_style': tensor([0, 0, 0, 0, 0]), 'original_style': tensor([0, 0, 0, 0, 0]), 'init_context_size': tensor([6, 6, 6, 6, 6]), 'global_dense_vectors': tensor([[[0., 0., 0.,  ..., 0., 0., 0.]],\n",
            "\n",
            "        [[0., 0., 0.,  ..., 0., 0., 0.]],\n",
            "\n",
            "        [[0., 0., 0.,  ..., 0., 0., 0.]],\n",
            "\n",
            "        [[0., 0., 0.,  ..., 0., 0., 0.]],\n",
            "\n",
            "        [[0., 0., 0.,  ..., 0., 0., 0.]]])}\n"
          ]
        },
        {
          "output_type": "stream",
          "name": "stderr",
          "text": [
            "\n",
            "Iteration:   0%|          | 0/2 [00:00<?, ?it/s]\n",
            "Epoch: 100%|██████████| 3/3 [00:00<00:00, 19.87it/s]"
          ]
        },
        {
          "output_type": "stream",
          "name": "stdout",
          "text": [
            "{'sentence': tensor([[18380,  1310,   645,   310, 35735, 50264,  1169, 10296,  7838,   286,\n",
            "           262, 50265],\n",
            "        [   40,  1101,  1342,   621,  1315, 50264,    40,  1183,   307,   351,\n",
            "          6550, 50265],\n",
            "        [ 1026,   743,  2291,    11,   379, 50264, 38169,   284,   262,  3572,\n",
            "            11, 50265],\n",
            "        [    1,  2484,   439,   484,   307, 50264,     1,  4598,   345,  1577,\n",
            "           606, 50265],\n",
            "        [ 5246,    13,   370,  3202,  6440, 50264,  8499,   314,  1101,  1760,\n",
            "            11, 50265]]), 'instance_number': tensor([9, 3, 6, 5, 0]), 'label': tensor([[ -100,  -100,  -100,  -100,  -100,  -100,  1169, 10296,  7838,   286,\n",
            "           262, 50265],\n",
            "        [ -100,  -100,  -100,  -100,  -100,  -100,    40,  1183,   307,   351,\n",
            "          6550, 50265],\n",
            "        [ -100,  -100,  -100,  -100,  -100,  -100, 38169,   284,   262,  3572,\n",
            "            11, 50265],\n",
            "        [ -100,  -100,  -100,  -100,  -100,  -100,     1,  4598,   345,  1577,\n",
            "           606, 50265],\n",
            "        [ -100,  -100,  -100,  -100,  -100,  -100,  8499,   314,  1101,  1760,\n",
            "            11, 50265]]), 'segment': tensor([[50258, 50258, 50258, 50258, 50258, 50259, 50259, 50259, 50259, 50259,\n",
            "         50259, 50259],\n",
            "        [50258, 50258, 50258, 50258, 50258, 50259, 50259, 50259, 50259, 50259,\n",
            "         50259, 50259],\n",
            "        [50258, 50258, 50258, 50258, 50258, 50259, 50259, 50259, 50259, 50259,\n",
            "         50259, 50259],\n",
            "        [50258, 50258, 50258, 50258, 50258, 50259, 50259, 50259, 50259, 50259,\n",
            "         50259, 50259],\n",
            "        [50258, 50258, 50258, 50258, 50258, 50259, 50259, 50259, 50259, 50259,\n",
            "         50259, 50259]]), 'suffix_style': tensor([0, 0, 0, 0, 0]), 'original_style': tensor([0, 0, 0, 0, 0]), 'init_context_size': tensor([6, 6, 6, 6, 6]), 'global_dense_vectors': tensor([[[0., 0., 0.,  ..., 0., 0., 0.]],\n",
            "\n",
            "        [[0., 0., 0.,  ..., 0., 0., 0.]],\n",
            "\n",
            "        [[0., 0., 0.,  ..., 0., 0., 0.]],\n",
            "\n",
            "        [[0., 0., 0.,  ..., 0., 0., 0.]],\n",
            "\n",
            "        [[0., 0., 0.,  ..., 0., 0., 0.]]])}\n"
          ]
        },
        {
          "output_type": "stream",
          "name": "stderr",
          "text": [
            "\n"
          ]
        }
      ]
    },
    {
      "cell_type": "code",
      "source": [
        "batch[\"sentence\"].shape"
      ],
      "metadata": {
        "colab": {
          "base_uri": "https://localhost:8080/"
        },
        "id": "kSteGKzvM_EH",
        "outputId": "e2aff0ab-a3e3-4ae3-8d49-50bf02cc1f6c"
      },
      "execution_count": 38,
      "outputs": [
        {
          "output_type": "execute_result",
          "data": {
            "text/plain": [
              "torch.Size([5, 12])"
            ]
          },
          "metadata": {},
          "execution_count": 38
        }
      ]
    },
    {
      "cell_type": "code",
      "source": [
        "max_grad_norm = 1.0\n",
        "save_steps = 2\n",
        "global_step = 0\n",
        "loss_val = 0.0"
      ],
      "metadata": {
        "id": "0DdVGwyTTMbW"
      },
      "execution_count": 39,
      "outputs": []
    },
    {
      "cell_type": "code",
      "source": [
        "import os"
      ],
      "metadata": {
        "id": "dj2MTIcVfCs9"
      },
      "execution_count": 40,
      "outputs": []
    },
    {
      "cell_type": "code",
      "source": [
        "def save_model(model, tokenizer, chkpt_dir):\n",
        "  if not os.path.exists(chkpt_dir):\n",
        "    os.makedirs(chkpt_dir)\n",
        "\n",
        "  print(\"Directory created\")\n",
        "  model.save_pretrained(chkpt_dir)\n",
        "  tokenizer.save_pretrained(chkpt_dir)\n",
        "\n",
        "  # save training arguments also\n",
        "\n",
        "  with open(os.path.join(chkpt_dir, \"global_step.txt\"), \"w\") as f:\n",
        "    f.write(str(global_step) + \"\\n\")\n",
        "\n",
        "  print(\"Model saved\")"
      ],
      "metadata": {
        "id": "Hgw4lBLcbTQW"
      },
      "execution_count": 41,
      "outputs": []
    },
    {
      "cell_type": "code",
      "source": [
        "for epoch in train_iterator:\n",
        "    epoch_iterator = tqdm(train_dataloader, desc=\"Iteration\")\n",
        "\n",
        "    for batch_idx, batch in enumerate(epoch_iterator):\n",
        "      sentences = batch[\"sentence\"].to(device)\n",
        "      labels = batch[\"label\"].to(device)\n",
        "      segments = batch[\"segment\"].to(device)\n",
        "      global_dense_vectors = batch[\"global_dense_vectors\"].to(device)\n",
        "\n",
        "      # print(sentences.shape)\n",
        "      model.train()\n",
        "\n",
        "      outputs = model(\n",
        "                input_ids=sentences,\n",
        "                token_type_ids=segments,\n",
        "                labels=labels\n",
        "            )\n",
        "\n",
        "      loss = outputs.loss\n",
        "      loss = loss / gradient_accumulation_steps\n",
        "      loss_val += loss.item()\n",
        "\n",
        "      # chkpt_dir = \"/content/drive/MyDrive/IRE/chkkpt_\"+str(global_step)\n",
        "      # save_model(model, tokenizer, chkpt_dir)\n",
        "\n",
        "      loss.backward()\n",
        "\n",
        "      if (((batch_idx + 1) % gradient_accumulation_steps) == 0):\n",
        "        # do gradient descent after gradient clipping\n",
        "        torch.nn.utils.clip_grad_norm_(model.parameters(), max_grad_norm)\n",
        "        optimizer.step()\n",
        "        scheduler.step()\n",
        "\n",
        "        model.zero_grad()\n",
        "        global_step += 1\n",
        "\n",
        "        if (global_step % save_steps == 0):\n",
        "          # save model here\n",
        "          chkpt_dir = \"/content/drive/MyDrive/IRE/chkpt_\"+str(global_step)\n",
        "          save_model(model, tokenizer, chkpt_dir)\n",
        "\n",
        "      break"
      ],
      "metadata": {
        "colab": {
          "base_uri": "https://localhost:8080/"
        },
        "id": "XhuuSsnxG3H8",
        "outputId": "3b5d7d10-550c-4181-bed8-2d5e51fd6c8a"
      },
      "execution_count": 42,
      "outputs": [
        {
          "output_type": "stream",
          "name": "stderr",
          "text": [
            "Iteration:   0%|          | 0/2 [00:06<?, ?it/s]\n",
            "Iteration:   0%|          | 0/2 [00:06<?, ?it/s]\n",
            "Iteration:   0%|          | 0/2 [00:06<?, ?it/s]\n"
          ]
        }
      ]
    },
    {
      "cell_type": "code",
      "source": [
        "# loss_val\n",
        "# avg_loss_per_step = loss_val / global_step\n",
        "global_step, tr_loss = global_step, loss_val / (global_step+1) # +1 only while testing"
      ],
      "metadata": {
        "id": "ysA8aQK-XO5R"
      },
      "execution_count": 43,
      "outputs": []
    },
    {
      "cell_type": "code",
      "source": [
        "global_step = 3"
      ],
      "metadata": {
        "id": "dxwYrhkX0QnC"
      },
      "execution_count": 63,
      "outputs": []
    },
    {
      "cell_type": "code",
      "source": [
        "# save the last state also\n",
        "chkpt_dir = \"/content/drive/MyDrive/IRE/chkpt_\"+str(global_step)\n",
        "save_model(model, tokenizer, chkpt_dir)"
      ],
      "metadata": {
        "colab": {
          "base_uri": "https://localhost:8080/"
        },
        "id": "vQeKAyUbSkey",
        "outputId": "c85acdda-3926-46bf-9b85-070094f52b52"
      },
      "execution_count": 42,
      "outputs": [
        {
          "output_type": "stream",
          "name": "stdout",
          "text": [
            "Directory created\n",
            "Model saved\n"
          ]
        }
      ]
    },
    {
      "cell_type": "code",
      "source": [
        "# load from the checkpoints for evaluation\n",
        "chkpt_to_load = chkpt_dir\n",
        "model = model_class.from_pretrained(chkpt_to_load)\n",
        "model.to(device)\n",
        "\n",
        "tokenizer = tokenizer_class.from_pretrained(chkpt_to_load, do_lower_case = True)"
      ],
      "metadata": {
        "colab": {
          "base_uri": "https://localhost:8080/"
        },
        "id": "v-hTTOw0ju-i",
        "outputId": "2be38d75-488f-46b0-86a1-cc95a287007e"
      },
      "execution_count": 43,
      "outputs": [
        {
          "output_type": "stream",
          "name": "stderr",
          "text": [
            "Special tokens have been added in the vocabulary, make sure the associated word embeddings are fine-tuned or trained.\n"
          ]
        }
      ]
    },
    {
      "cell_type": "code",
      "source": [
        "# do evaluation\n"
      ],
      "metadata": {
        "id": "9JPd-rP4sUGp"
      },
      "execution_count": 49,
      "outputs": []
    },
    {
      "cell_type": "code",
      "source": [
        "from transformers import WEIGHTS_NAME\n",
        "from tqdm import  tqdm\n",
        "import glob"
      ],
      "metadata": {
        "id": "n1fO4zDKsY8k"
      },
      "execution_count": 44,
      "outputs": []
    },
    {
      "cell_type": "code",
      "source": [
        "chkpts = [\"chkpt_3\"]"
      ],
      "metadata": {
        "id": "kp5uPISqxTQj"
      },
      "execution_count": 45,
      "outputs": []
    },
    {
      "cell_type": "code",
      "source": [
        "print(chkpts)"
      ],
      "metadata": {
        "colab": {
          "base_uri": "https://localhost:8080/"
        },
        "id": "BZzv1Sf_yIU-",
        "outputId": "32e09ce1-9190-4dbd-a2a8-7c1c2c09794d"
      },
      "execution_count": 46,
      "outputs": [
        {
          "output_type": "stream",
          "name": "stdout",
          "text": [
            "['chkpt_3']\n"
          ]
        }
      ]
    },
    {
      "cell_type": "code",
      "source": [
        "perplexity_list = []"
      ],
      "metadata": {
        "id": "TNOFj3SKzyAj"
      },
      "execution_count": 47,
      "outputs": []
    },
    {
      "cell_type": "code",
      "source": [
        "import tqdm"
      ],
      "metadata": {
        "id": "mXv-YdpnwfKY"
      },
      "execution_count": 50,
      "outputs": []
    },
    {
      "cell_type": "code",
      "source": [
        "# create val dataloader; same way as in train dataloader\n",
        "val_dataset = ParaphraseDatasetText(tokenizer=tokenizer, evaluate=True, split=\"dev\")"
      ],
      "metadata": {
        "colab": {
          "base_uri": "https://localhost:8080/"
        },
        "id": "BnNOyd6I8s3y",
        "outputId": "23994fd3-e739-4830-ed66-c70921c40ff4"
      },
      "execution_count": 51,
      "outputs": [
        {
          "output_type": "stream",
          "name": "stdout",
          "text": [
            "Original raw data-  ('FRAG > CD , CD , CD , CD , CC VP .', 'FRAG > CD , CD , CD , CD CC VBP .', False, '1, 2, 3, 4, and get the hell out of there!', 'one, two, three, four and fall!', (0.1, 0.16666666666666666, 0.125), (-1.0, True), 2, ('en', 'en'))\n"
          ]
        },
        {
          "output_type": "stream",
          "name": "stderr",
          "text": [
            "100%|██████████| 1492/1492 [00:01<00:00, 1288.72it/s]"
          ]
        },
        {
          "output_type": "stream",
          "name": "stdout",
          "text": [
            "\n",
            "------------------ After conversion-  {'metadata': \"f1_score = (0.1, 0.16666666666666666, 0.125), kt_score = (-1.0, True), ed_score = 2, langid = ('en', 'en')\", 'sent1_tokens': [16, 11, 362, 11, 513, 11, 604, 11, 290, 651, 262, 5968, 503, 286, 612, 0], 'sent2_tokens': [505, 11, 734, 11, 1115, 11, 1440, 290, 2121, 0], 'f1_score': (0.1, 0.16666666666666666, 0.125), 'kt_score': (-1.0, True), 'ed_score': 2, 'langid': ('en', 'en')}\n",
            "{'metadata': \"f1_score = (0.1, 0.16666666666666666, 0.125), kt_score = (-1.0, True), ed_score = 2, langid = ('en', 'en')\", 'sent1_tokens': [16, 11, 362, 11, 513, 11, 604, 11, 290, 651, 262, 5968, 503, 286, 612, 0], 'sent2_tokens': [505, 11, 734, 11, 1115, 11, 1440, 290, 2121, 0], 'f1_score': (0.1, 0.16666666666666666, 0.125), 'kt_score': (-1.0, True), 'ed_score': 2, 'langid': ('en', 'en'), 'prefix_sent': array([ 16,  11, 362,  11, 513]), 'suffix_sent': array([  505,    11,   734,    11,  1115, 50265]), 'input': array([   16,    11,   362,    11,   513, 50264,   505,    11,   734,\n",
            "          11,  1115, 50265]), 'label': array([ -100,  -100,  -100,  -100,  -100,  -100,   505,    11,   734,\n",
            "          11,  1115, 50265]), 'segment': array([50258, 50258, 50258, 50258, 50258, 50259, 50259, 50259, 50259,\n",
            "       50259, 50259, 50259])}\n"
          ]
        },
        {
          "output_type": "stream",
          "name": "stderr",
          "text": [
            "\n"
          ]
        }
      ]
    },
    {
      "cell_type": "code",
      "source": [
        "per_gpu_eval_batch_size = 2\n",
        "eval_batch_size = per_gpu_eval_batch_size"
      ],
      "metadata": {
        "id": "BEqUpAoE-uB4"
      },
      "execution_count": 52,
      "outputs": []
    },
    {
      "cell_type": "code",
      "source": [
        "# create val dataloader\n",
        "val_sampler = SequentialSampler(val_dataset)\n",
        "val_dataloader = DataLoader(val_dataset, sampler=val_sampler, batch_size=eval_batch_size)"
      ],
      "metadata": {
        "id": "4ZhxyHKy-j9y"
      },
      "execution_count": 55,
      "outputs": []
    },
    {
      "cell_type": "code",
      "source": [
        "next(iter(val_dataloader))"
      ],
      "metadata": {
        "colab": {
          "base_uri": "https://localhost:8080/"
        },
        "id": "30bQIXcnyNaa",
        "outputId": "90e7a857-84cb-4d63-979a-a85413d8f20f"
      },
      "execution_count": 60,
      "outputs": [
        {
          "output_type": "execute_result",
          "data": {
            "text/plain": [
              "{'sentence': tensor([[   16,    11,   362,    11,   513, 50264,   505,    11,   734,    11,\n",
              "           1115, 50265],\n",
              "         [   32,  1048,   338,  2095,   318, 50264,   259,   262,   266,  6696,\n",
              "             11, 50265]]),\n",
              " 'instance_number': tensor([0, 1]),\n",
              " 'label': tensor([[ -100,  -100,  -100,  -100,  -100,  -100,   505,    11,   734,    11,\n",
              "           1115, 50265],\n",
              "         [ -100,  -100,  -100,  -100,  -100,  -100,   259,   262,   266,  6696,\n",
              "             11, 50265]]),\n",
              " 'segment': tensor([[50258, 50258, 50258, 50258, 50258, 50259, 50259, 50259, 50259, 50259,\n",
              "          50259, 50259],\n",
              "         [50258, 50258, 50258, 50258, 50258, 50259, 50259, 50259, 50259, 50259,\n",
              "          50259, 50259]]),\n",
              " 'suffix_style': tensor([0, 0]),\n",
              " 'original_style': tensor([0, 0]),\n",
              " 'init_context_size': tensor([6, 6]),\n",
              " 'global_dense_vectors': tensor([[[0., 0., 0.,  ..., 0., 0., 0.]],\n",
              " \n",
              "         [[0., 0., 0.,  ..., 0., 0., 0.]]])}"
            ]
          },
          "metadata": {},
          "execution_count": 60
        }
      ]
    },
    {
      "cell_type": "code",
      "source": [
        "# validation info\n",
        "print(\"Num of examples- \", len(val_dataset))\n",
        "print(\"Batch size- \", eval_batch_size)"
      ],
      "metadata": {
        "colab": {
          "base_uri": "https://localhost:8080/"
        },
        "id": "2zf44fe7wyRJ",
        "outputId": "efb3ab61-a238-4c5b-c3b9-3eb716d64bd7"
      },
      "execution_count": 57,
      "outputs": [
        {
          "output_type": "stream",
          "name": "stdout",
          "text": [
            "Num of examples-  10\n",
            "Batch size-  2\n"
          ]
        }
      ]
    },
    {
      "cell_type": "code",
      "source": [
        "def evaluate(model, tokenizer, chkpt_name, val_dataloader):\n",
        "  perplexity = 1.0\n",
        "  val_loss = 0.0\n",
        "  model.eval()\n",
        "\n",
        "  for i, batch in enumerate(val_dataloader):\n",
        "    sentences = batch[\"sentence\"].to(device)\n",
        "    labels = batch[\"label\"].to(device)\n",
        "    segments = batch[\"segment\"].to(device)\n",
        "    global_dense_vectors = batch[\"global_dense_vectors\"].to(device)\n",
        "\n",
        "    with torch.no_grad():\n",
        "      op = model(\n",
        "          input_ids=sentences,\n",
        "          token_type_ids=segments,\n",
        "          labels=labels\n",
        "      )\n",
        "\n",
        "      loss_val = op.loss.item()\n",
        "\n",
        "    val_loss += loss_val\n",
        "    break\n",
        "\n",
        "  avg_val_loss = val_loss / (i + 1) # per batch average loss\n",
        "  perplexity = torch.exp(torch.tensor(avg_val_loss))\n",
        "\n",
        "  return perplexity"
      ],
      "metadata": {
        "id": "OmbFmP8oxG87"
      },
      "execution_count": 71,
      "outputs": []
    },
    {
      "cell_type": "code",
      "source": [
        "perplexity_list = []\n",
        "for chkpt in chkpts:\n",
        "  # load chkpoint\n",
        "  chkpt_to_load = \"/content/drive/MyDrive/IRE/\" + chkpt\n",
        "  model = model_class.from_pretrained(chkpt_to_load)\n",
        "  model.to(device)\n",
        "\n",
        "  # no need to load tokenizer again and again; as it remains same across all the chkpoints\n",
        "  perplexity = evaluate(model, tokenizer, chkpt_dir, val_dataloader)\n",
        "  perplexity_list.append((chkpt, perplexity))\n",
        "\n",
        "# get sorted list\n",
        "perplexity_list.sort(key=lambda x: x[1].item())\n",
        "top_chkpt = perplexity_list[0][0]\n",
        "\n",
        "# we can also delete the save points that are not needed\n",
        "# can also move best checkpt to some other directory also for segregation"
      ],
      "metadata": {
        "id": "xz3f_6_yyN4V"
      },
      "execution_count": 75,
      "outputs": []
    },
    {
      "cell_type": "code",
      "source": [
        "perplexity_list"
      ],
      "metadata": {
        "colab": {
          "base_uri": "https://localhost:8080/"
        },
        "id": "B42Olpya-jF6",
        "outputId": "45d03097-7310-44bc-896f-b0c954c03726"
      },
      "execution_count": 76,
      "outputs": [
        {
          "output_type": "execute_result",
          "data": {
            "text/plain": [
              "[('chkpt_3', tensor(1.6906e+28))]"
            ]
          },
          "metadata": {},
          "execution_count": 76
        }
      ]
    },
    {
      "cell_type": "code",
      "source": [
        "# done evaluation part also"
      ],
      "metadata": {
        "id": "Qc8_Qx7E0Af-"
      },
      "execution_count": null,
      "outputs": []
    },
    {
      "cell_type": "code",
      "source": [
        "# create paraphrased model\n",
        "\n",
        "# 1. load the best DVP model\n",
        "\n",
        "# 2. Convert shakespeare sentences to their paraphrased version\n",
        "\n",
        "# 3. Convert sentences to their bpe files"
      ],
      "metadata": {
        "id": "0tK-rhpaDMeV"
      },
      "execution_count": null,
      "outputs": []
    },
    {
      "cell_type": "code",
      "source": [
        "# 1. load the best DVP model and its tokenizer\n",
        "chkpt_to_load = \"/content/drive/MyDrive/IRE/chkpt_3/\"\n",
        "paraphraser = model_class.from_pretrained(chkpt_to_load)\n",
        "paraphraser.to(device)\n",
        "\n",
        "tokenizer = tokenizer_class.from_pretrained(chkpt_to_load, do_lower_case = True)\n",
        "\n",
        "# load arguments also from file\n",
        "config = BASE_CONFIG\n",
        "\n",
        "# init some more variables for generation\n",
        "upper_length = \"same_5\" # defautl is same_10\n",
        "beam_size = 1 #default\n",
        "num_samples = 1\n",
        "temparature = 0\n",
        "top_p = 0.0\n",
        "device = device\n",
        "top_k = 1\n",
        "batch_size = 64"
      ],
      "metadata": {
        "id": "VZ5ekxaaDU0J"
      },
      "execution_count": null,
      "outputs": []
    },
    {
      "cell_type": "code",
      "source": [
        "def get_logits(model, iteration, generated, segments, style_content_vectors, past):\n",
        "    if iteration == 0:\n",
        "        if style_content_vectors is None:\n",
        "            pred = model(\n",
        "                input_ids=generated,\n",
        "                token_type_ids=segments,\n",
        "                return_dict=True\n",
        "            )\n",
        "        else:\n",
        "            pred = model(\n",
        "                input_ids=generated,\n",
        "                token_type_ids=segments,\n",
        "                prefix_input_vectors=style_content_vectors,\n",
        "                return_dict=True\n",
        "            )\n",
        "    else:\n",
        "        # used the cached representations to speed up decoding\n",
        "        pred = model(\n",
        "            input_ids=generated[:, -1:],\n",
        "            token_type_ids=segments[:, -1:],\n",
        "            past_key_values=past,\n",
        "            return_dict=True\n",
        "        )\n",
        "    logits = pred['logits']\n",
        "    past = pred['past_key_values']\n",
        "    return logits, past"
      ],
      "metadata": {
        "id": "2Xe1R7Ayu1pY"
      },
      "execution_count": 1,
      "outputs": []
    },
    {
      "cell_type": "code",
      "source": [
        "def top_k_top_p_filtering(logits, top_k=0, top_p=0.0, filter_value=-float('Inf')):\n",
        "  top_k = min(top_k, logits.size(-1))  # Safety check\n",
        "  if top_p > 0.0:\n",
        "      sorted_logits, sorted_indices = torch.sort(logits, descending=True)\n",
        "      cumulative_probs = torch.cumsum(F.softmax(sorted_logits, dim=-1), dim=-1)\n",
        "      # Remove tokens with cumulative probability above the threshold\n",
        "      sorted_indices_to_remove = cumulative_probs > top_p\n",
        "      # Shift the indices to the right to keep also the first token above the threshold\n",
        "      sorted_indices_to_remove[..., 1:] = sorted_indices_to_remove[..., :-1].clone()\n",
        "      sorted_indices_to_remove[..., 0] = 0\n",
        "\n",
        "      # scatter sorted tensors to original indexing\n",
        "      indices_to_remove = sorted_indices_to_remove.scatter(dim=1, index=sorted_indices, src=sorted_indices_to_remove)\n",
        "      logits[indices_to_remove] = filter_value\n",
        "\n",
        "  elif top_k > 0:\n",
        "      # Remove all tokens with a probability less than the last token of the top-k\n",
        "      indices_to_remove = logits < torch.topk(logits, top_k)[0][..., -1, None]\n",
        "      logits[indices_to_remove] = filter_value\n",
        "\n",
        "  return logits"
      ],
      "metadata": {
        "id": "qm4vcOFFvb0Q"
      },
      "execution_count": null,
      "outputs": []
    },
    {
      "cell_type": "code",
      "source": [
        "def sample_sequence(model, length, context, style_content_vectors, segments, eos_token_id,\n",
        "                    num_samples=1, temperature=1, top_k=0, top_p=0.0, get_scores=False,\n",
        "                    interpolation=None):\n",
        "  new_gen_length = length\n",
        "  batch_size = context.shape[0] # total sents\n",
        "  eos_emitted = [False for _ in range(batch_size)]\n",
        "\n",
        "  generated = context\n",
        "  scores = [{\"score\": 0, \"sequence\": []} for _ in range(batch_size)]\n",
        "\n",
        "  with torch.no_grad():\n",
        "    past = None\n",
        "\n",
        "    for i in range(new_gen_length):\n",
        "\n",
        "      logits, past = get_logits(model, i, generated, segments, style_content_vectors, past)\n",
        "      next_token_logits = logits[:, -1, :] / (temperature if temperature > 0 else 1.)\n",
        "      original_scores = F.log_softmax(next_token_logits, dim=-1)\n",
        "\n",
        "      filtered_logits = top_k_top_p_filtering(next_token_logits, top_k=top_k, top_p=top_p)\n",
        "\n",
        "      if temperature == 0 and top_k in [0, 1] and top_p == 0.0:\n",
        "        # greedy sampling\n",
        "        next_token = torch.argmax(filtered_logits, dim=-1).unsqueeze(-1)\n",
        "\n",
        "      if get_scores:\n",
        "        for batch_elem in range(batch_size):\n",
        "            if eos_emitted[batch_elem]:\n",
        "                continue\n",
        "            scores[batch_elem][\"score\"] += original_scores[batch_elem, next_token[batch_elem].item()].item()\n",
        "            scores[batch_elem][\"sequence\"].append(\"token\")\n",
        "\n",
        "      generated = torch.cat((generated, next_token), dim=1)\n",
        "      segments = torch.cat((segments, segments[:, -1:]), dim=1)\n",
        "\n",
        "      for batch_elem in range(batch_size):\n",
        "        if next_token[batch_elem].item() == eos_token_id:\n",
        "            eos_emitted[batch_elem] = True\n",
        "\n",
        "      if length is None and all(eos_emitted):\n",
        "        break\n",
        "\n",
        "  if get_scores:\n",
        "    scores = [x[\"score\"] / len(x[\"sequence\"]) for x in scores]\n",
        "\n",
        "  return generated, scores"
      ],
      "metadata": {
        "id": "YGGJ1j81r7bq"
      },
      "execution_count": null,
      "outputs": []
    },
    {
      "cell_type": "code",
      "source": [
        "def generate(paraphraser, gpt2_sentences, segments, global_dense_vectors=None,\n",
        "                 init_context_size=1, eos_token_id=None, get_scores=False,\n",
        "                 interpolation=None, top_p=None):\n",
        "\n",
        "  style_content_vectors = None\n",
        "  generation_length = len(gpt2_sentences[0]) - init_context_size\n",
        "  dense_length = 0\n",
        "\n",
        "  out, scores = sample_sequence(\n",
        "                model = paraphraser,\n",
        "                context = gpt2_sentences[:, 0:init_context_size], # till <bos>\n",
        "                style_content_vectors = style_content_vectors,  # None,\n",
        "                segments = segments[:, 0:init_context_size],# till <bos>\n",
        "                eos_token_id = eos_token_id, # <eos>\n",
        "                num_samples = num_samples, # 1\n",
        "                length = generation_length,\n",
        "                temperature = temparature,\n",
        "                top_k = top_k,\n",
        "                top_p = top_p,\n",
        "                get_scores = True,\n",
        "                interpolation = interpolation\n",
        "            )\n",
        "\n",
        "  return out, 0, scores"
      ],
      "metadata": {
        "id": "_yw6Q2NLpD2F"
      },
      "execution_count": null,
      "outputs": []
    },
    {
      "cell_type": "code",
      "source": [
        "def generate_batch(paraphraser, contexts, tokenizer):\n",
        "  # global dense feature is none for every sample\n",
        "  global_dense_features = [None for _ in contexts]\n",
        "\n",
        "  examples = []\n",
        "\n",
        "  for context, gdf in zip(contexts, global_dense_features):\n",
        "    context_ids = tokenizer.convert_tokens_to_ids(tokenizer.tokenize(context))\n",
        "    dd = {\"sent1_tokens\":context_ids, \"sent2_tokens\":context_ids}\n",
        "    global_dense_vectors = np.zeros((1, 768), dtype=np.float32)\n",
        "\n",
        "    dd_process = preprocess(dd, tokenizer, do_tokenize=False)\n",
        "    dd_process[\"gdv\"] = global_dense_vectors\n",
        "    examples.append(dd_process)\n",
        "\n",
        "  #-\n",
        "  init_context_size = 1 + BASE_CONFIG[\"max_prefix_length\"]\n",
        "\n",
        "  output, _, scores = generate(\n",
        "      paraphraser,\n",
        "      sents = torch.tensor([inst[\"sentence\"] for inst in examples]).to(device)\n",
        "      segments = torch.tensor([inst[\"segment\"] for inst in examples]).to(device),\n",
        "      global_dense_vectors = torch.tensor([inst[\"gdv\"] for inst in examples]).to(device),\n",
        "      init_context_size = init_context_size\n",
        "      eos_token_id = tokenizer.eos_token_id,\n",
        "      get_scores = False,\n",
        "      interpolation = None,\n",
        "      top_p = top_p\n",
        "  )\n",
        "\n",
        "  all_ops = []\n",
        "  for idx in range(len(output)):\n",
        "    exmp = examples[idx]\n",
        "    curr_out = output[idx, init_context_size:].tolist()\n",
        "\n",
        "    if tokenizer.eos_token_id in curr_out:\n",
        "      curr_out = curr_out[:curr_out.index(tokenizer.eos_token_id)]\n",
        "\n",
        "    if upper_length.startswith(\"same\"):\n",
        "      extra = int(upper_length.split(\"_\")[-1])\n",
        "      curr_out = curr_out[:len(exmp[\"sent1_tokens\"]) + extra]\n",
        "\n",
        "    all_ops.append(\n",
        "      tokenizer.decode(curr_out, clean_up_tokenization_spaces=True, skip_special_tokens=True)\n",
        "            )\n",
        "\n",
        "    return all_ops, scores"
      ],
      "metadata": {
        "id": "Hfa8VKaFL9YF"
      },
      "execution_count": null,
      "outputs": []
    },
    {
      "cell_type": "code",
      "source": [
        "# 2. Convert shakespeare sentences to their paraphrased version\n",
        "for split in [\"train\", \"test\", \"dev\"]:\n",
        "  file_dir = \"\" # that contains the sentences in shakesperean style\n",
        "  label_dir = \"\" # that contains the style sentences like original, modern, romantic_peotry\n",
        "\n",
        "  with open(file_dir, \"r\") as f:\n",
        "    data = f.read().strip().split(\"\\n\")\n",
        "\n",
        "  paraphrased_sents = []\n",
        "  for i in tqdm.tqdm(range(0, len(data), batch_size), desc=\"minibatches of {} split done...\".format(split)):\n",
        "      generations, _ = generate_batch(paraphraser, data[i:i + batch_size], tokenizer)\n",
        "      paraphrased_sents.extend(generations)"
      ],
      "metadata": {
        "id": "O42YXcXlDWgg"
      },
      "execution_count": null,
      "outputs": []
    },
    {
      "cell_type": "code",
      "source": [
        "# 3. Convert sentences to their bpe files\n",
        "roberta = torch.hub.load('pytorch/fairseq', 'roberta.base')\n",
        "bpe_outputs = [roberta.bpe.encode(x) for x in outputs]"
      ],
      "metadata": {
        "id": "sLxHB4Z3DWne"
      },
      "execution_count": null,
      "outputs": []
    },
    {
      "cell_type": "code",
      "source": [
        "# save as train.paraphrase_250_input0.bpe"
      ],
      "metadata": {
        "id": "lmqqQUST9qll"
      },
      "execution_count": null,
      "outputs": []
    },
    {
      "cell_type": "code",
      "source": [
        "# convert actual sents to .bpe file so that they can be directly use in inverse_paraphraser"
      ],
      "metadata": {
        "id": "ONMaXe5b-DJj"
      },
      "execution_count": null,
      "outputs": []
    }
  ]
}