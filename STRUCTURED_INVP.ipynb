{
  "nbformat": 4,
  "nbformat_minor": 0,
  "metadata": {
    "colab": {
      "provenance": []
    },
    "kernelspec": {
      "name": "python3",
      "display_name": "Python 3"
    },
    "language_info": {
      "name": "python"
    },
    "widgets": {
      "application/vnd.jupyter.widget-state+json": {
        "e28dcfdba6124328a73a2d8b0fc3525b": {
          "model_module": "@jupyter-widgets/controls",
          "model_name": "HBoxModel",
          "model_module_version": "1.5.0",
          "state": {
            "_dom_classes": [],
            "_model_module": "@jupyter-widgets/controls",
            "_model_module_version": "1.5.0",
            "_model_name": "HBoxModel",
            "_view_count": null,
            "_view_module": "@jupyter-widgets/controls",
            "_view_module_version": "1.5.0",
            "_view_name": "HBoxView",
            "box_style": "",
            "children": [
              "IPY_MODEL_08244ab3de594ab697cac6ca757533b4",
              "IPY_MODEL_724e3244ed194b57bcdf4ac22f479684",
              "IPY_MODEL_248e0902b05d40348823fdeca64ccbc9"
            ],
            "layout": "IPY_MODEL_9a2c305c80a94ee689342b92aa2c9989"
          }
        },
        "08244ab3de594ab697cac6ca757533b4": {
          "model_module": "@jupyter-widgets/controls",
          "model_name": "HTMLModel",
          "model_module_version": "1.5.0",
          "state": {
            "_dom_classes": [],
            "_model_module": "@jupyter-widgets/controls",
            "_model_module_version": "1.5.0",
            "_model_name": "HTMLModel",
            "_view_count": null,
            "_view_module": "@jupyter-widgets/controls",
            "_view_module_version": "1.5.0",
            "_view_name": "HTMLView",
            "description": "",
            "description_tooltip": null,
            "layout": "IPY_MODEL_daf924f856fe40f886b8390fc686b5e8",
            "placeholder": "​",
            "style": "IPY_MODEL_03ceca3e743542dca9f8e86b668588e3",
            "value": "config.json: 100%"
          }
        },
        "724e3244ed194b57bcdf4ac22f479684": {
          "model_module": "@jupyter-widgets/controls",
          "model_name": "FloatProgressModel",
          "model_module_version": "1.5.0",
          "state": {
            "_dom_classes": [],
            "_model_module": "@jupyter-widgets/controls",
            "_model_module_version": "1.5.0",
            "_model_name": "FloatProgressModel",
            "_view_count": null,
            "_view_module": "@jupyter-widgets/controls",
            "_view_module_version": "1.5.0",
            "_view_name": "ProgressView",
            "bar_style": "success",
            "description": "",
            "description_tooltip": null,
            "layout": "IPY_MODEL_7500e839a6b14295b75cb65ee1705a98",
            "max": 665,
            "min": 0,
            "orientation": "horizontal",
            "style": "IPY_MODEL_577e4e57418a43eba4f76e720480b090",
            "value": 665
          }
        },
        "248e0902b05d40348823fdeca64ccbc9": {
          "model_module": "@jupyter-widgets/controls",
          "model_name": "HTMLModel",
          "model_module_version": "1.5.0",
          "state": {
            "_dom_classes": [],
            "_model_module": "@jupyter-widgets/controls",
            "_model_module_version": "1.5.0",
            "_model_name": "HTMLModel",
            "_view_count": null,
            "_view_module": "@jupyter-widgets/controls",
            "_view_module_version": "1.5.0",
            "_view_name": "HTMLView",
            "description": "",
            "description_tooltip": null,
            "layout": "IPY_MODEL_052be329c75b4c028aba6c07c8211174",
            "placeholder": "​",
            "style": "IPY_MODEL_3063af51101547cfa45dfd392797fa08",
            "value": " 665/665 [00:00&lt;00:00, 10.2kB/s]"
          }
        },
        "9a2c305c80a94ee689342b92aa2c9989": {
          "model_module": "@jupyter-widgets/base",
          "model_name": "LayoutModel",
          "model_module_version": "1.2.0",
          "state": {
            "_model_module": "@jupyter-widgets/base",
            "_model_module_version": "1.2.0",
            "_model_name": "LayoutModel",
            "_view_count": null,
            "_view_module": "@jupyter-widgets/base",
            "_view_module_version": "1.2.0",
            "_view_name": "LayoutView",
            "align_content": null,
            "align_items": null,
            "align_self": null,
            "border": null,
            "bottom": null,
            "display": null,
            "flex": null,
            "flex_flow": null,
            "grid_area": null,
            "grid_auto_columns": null,
            "grid_auto_flow": null,
            "grid_auto_rows": null,
            "grid_column": null,
            "grid_gap": null,
            "grid_row": null,
            "grid_template_areas": null,
            "grid_template_columns": null,
            "grid_template_rows": null,
            "height": null,
            "justify_content": null,
            "justify_items": null,
            "left": null,
            "margin": null,
            "max_height": null,
            "max_width": null,
            "min_height": null,
            "min_width": null,
            "object_fit": null,
            "object_position": null,
            "order": null,
            "overflow": null,
            "overflow_x": null,
            "overflow_y": null,
            "padding": null,
            "right": null,
            "top": null,
            "visibility": null,
            "width": null
          }
        },
        "daf924f856fe40f886b8390fc686b5e8": {
          "model_module": "@jupyter-widgets/base",
          "model_name": "LayoutModel",
          "model_module_version": "1.2.0",
          "state": {
            "_model_module": "@jupyter-widgets/base",
            "_model_module_version": "1.2.0",
            "_model_name": "LayoutModel",
            "_view_count": null,
            "_view_module": "@jupyter-widgets/base",
            "_view_module_version": "1.2.0",
            "_view_name": "LayoutView",
            "align_content": null,
            "align_items": null,
            "align_self": null,
            "border": null,
            "bottom": null,
            "display": null,
            "flex": null,
            "flex_flow": null,
            "grid_area": null,
            "grid_auto_columns": null,
            "grid_auto_flow": null,
            "grid_auto_rows": null,
            "grid_column": null,
            "grid_gap": null,
            "grid_row": null,
            "grid_template_areas": null,
            "grid_template_columns": null,
            "grid_template_rows": null,
            "height": null,
            "justify_content": null,
            "justify_items": null,
            "left": null,
            "margin": null,
            "max_height": null,
            "max_width": null,
            "min_height": null,
            "min_width": null,
            "object_fit": null,
            "object_position": null,
            "order": null,
            "overflow": null,
            "overflow_x": null,
            "overflow_y": null,
            "padding": null,
            "right": null,
            "top": null,
            "visibility": null,
            "width": null
          }
        },
        "03ceca3e743542dca9f8e86b668588e3": {
          "model_module": "@jupyter-widgets/controls",
          "model_name": "DescriptionStyleModel",
          "model_module_version": "1.5.0",
          "state": {
            "_model_module": "@jupyter-widgets/controls",
            "_model_module_version": "1.5.0",
            "_model_name": "DescriptionStyleModel",
            "_view_count": null,
            "_view_module": "@jupyter-widgets/base",
            "_view_module_version": "1.2.0",
            "_view_name": "StyleView",
            "description_width": ""
          }
        },
        "7500e839a6b14295b75cb65ee1705a98": {
          "model_module": "@jupyter-widgets/base",
          "model_name": "LayoutModel",
          "model_module_version": "1.2.0",
          "state": {
            "_model_module": "@jupyter-widgets/base",
            "_model_module_version": "1.2.0",
            "_model_name": "LayoutModel",
            "_view_count": null,
            "_view_module": "@jupyter-widgets/base",
            "_view_module_version": "1.2.0",
            "_view_name": "LayoutView",
            "align_content": null,
            "align_items": null,
            "align_self": null,
            "border": null,
            "bottom": null,
            "display": null,
            "flex": null,
            "flex_flow": null,
            "grid_area": null,
            "grid_auto_columns": null,
            "grid_auto_flow": null,
            "grid_auto_rows": null,
            "grid_column": null,
            "grid_gap": null,
            "grid_row": null,
            "grid_template_areas": null,
            "grid_template_columns": null,
            "grid_template_rows": null,
            "height": null,
            "justify_content": null,
            "justify_items": null,
            "left": null,
            "margin": null,
            "max_height": null,
            "max_width": null,
            "min_height": null,
            "min_width": null,
            "object_fit": null,
            "object_position": null,
            "order": null,
            "overflow": null,
            "overflow_x": null,
            "overflow_y": null,
            "padding": null,
            "right": null,
            "top": null,
            "visibility": null,
            "width": null
          }
        },
        "577e4e57418a43eba4f76e720480b090": {
          "model_module": "@jupyter-widgets/controls",
          "model_name": "ProgressStyleModel",
          "model_module_version": "1.5.0",
          "state": {
            "_model_module": "@jupyter-widgets/controls",
            "_model_module_version": "1.5.0",
            "_model_name": "ProgressStyleModel",
            "_view_count": null,
            "_view_module": "@jupyter-widgets/base",
            "_view_module_version": "1.2.0",
            "_view_name": "StyleView",
            "bar_color": null,
            "description_width": ""
          }
        },
        "052be329c75b4c028aba6c07c8211174": {
          "model_module": "@jupyter-widgets/base",
          "model_name": "LayoutModel",
          "model_module_version": "1.2.0",
          "state": {
            "_model_module": "@jupyter-widgets/base",
            "_model_module_version": "1.2.0",
            "_model_name": "LayoutModel",
            "_view_count": null,
            "_view_module": "@jupyter-widgets/base",
            "_view_module_version": "1.2.0",
            "_view_name": "LayoutView",
            "align_content": null,
            "align_items": null,
            "align_self": null,
            "border": null,
            "bottom": null,
            "display": null,
            "flex": null,
            "flex_flow": null,
            "grid_area": null,
            "grid_auto_columns": null,
            "grid_auto_flow": null,
            "grid_auto_rows": null,
            "grid_column": null,
            "grid_gap": null,
            "grid_row": null,
            "grid_template_areas": null,
            "grid_template_columns": null,
            "grid_template_rows": null,
            "height": null,
            "justify_content": null,
            "justify_items": null,
            "left": null,
            "margin": null,
            "max_height": null,
            "max_width": null,
            "min_height": null,
            "min_width": null,
            "object_fit": null,
            "object_position": null,
            "order": null,
            "overflow": null,
            "overflow_x": null,
            "overflow_y": null,
            "padding": null,
            "right": null,
            "top": null,
            "visibility": null,
            "width": null
          }
        },
        "3063af51101547cfa45dfd392797fa08": {
          "model_module": "@jupyter-widgets/controls",
          "model_name": "DescriptionStyleModel",
          "model_module_version": "1.5.0",
          "state": {
            "_model_module": "@jupyter-widgets/controls",
            "_model_module_version": "1.5.0",
            "_model_name": "DescriptionStyleModel",
            "_view_count": null,
            "_view_module": "@jupyter-widgets/base",
            "_view_module_version": "1.2.0",
            "_view_name": "StyleView",
            "description_width": ""
          }
        },
        "b3de5e9d13cc4805bf888f5259b785c7": {
          "model_module": "@jupyter-widgets/controls",
          "model_name": "HBoxModel",
          "model_module_version": "1.5.0",
          "state": {
            "_dom_classes": [],
            "_model_module": "@jupyter-widgets/controls",
            "_model_module_version": "1.5.0",
            "_model_name": "HBoxModel",
            "_view_count": null,
            "_view_module": "@jupyter-widgets/controls",
            "_view_module_version": "1.5.0",
            "_view_name": "HBoxView",
            "box_style": "",
            "children": [
              "IPY_MODEL_494fc1d1244842bb8983d48c1ab94532",
              "IPY_MODEL_4c282c0eebfc42c398bfd20b4d7b9636",
              "IPY_MODEL_364d4ecfd49841ab9776213011c4529a"
            ],
            "layout": "IPY_MODEL_f12a90f294a24447957f9831aa9f3407"
          }
        },
        "494fc1d1244842bb8983d48c1ab94532": {
          "model_module": "@jupyter-widgets/controls",
          "model_name": "HTMLModel",
          "model_module_version": "1.5.0",
          "state": {
            "_dom_classes": [],
            "_model_module": "@jupyter-widgets/controls",
            "_model_module_version": "1.5.0",
            "_model_name": "HTMLModel",
            "_view_count": null,
            "_view_module": "@jupyter-widgets/controls",
            "_view_module_version": "1.5.0",
            "_view_name": "HTMLView",
            "description": "",
            "description_tooltip": null,
            "layout": "IPY_MODEL_0fbfcdb69a99489a870c71f0cd0abe07",
            "placeholder": "​",
            "style": "IPY_MODEL_4d6b8150658a431689b153fa685d6871",
            "value": "model.safetensors: 100%"
          }
        },
        "4c282c0eebfc42c398bfd20b4d7b9636": {
          "model_module": "@jupyter-widgets/controls",
          "model_name": "FloatProgressModel",
          "model_module_version": "1.5.0",
          "state": {
            "_dom_classes": [],
            "_model_module": "@jupyter-widgets/controls",
            "_model_module_version": "1.5.0",
            "_model_name": "FloatProgressModel",
            "_view_count": null,
            "_view_module": "@jupyter-widgets/controls",
            "_view_module_version": "1.5.0",
            "_view_name": "ProgressView",
            "bar_style": "success",
            "description": "",
            "description_tooltip": null,
            "layout": "IPY_MODEL_d919c382e0294570b896db7b8b89e45d",
            "max": 548105171,
            "min": 0,
            "orientation": "horizontal",
            "style": "IPY_MODEL_e5b3aa1230e4490395b99c51e0f92ca4",
            "value": 548105171
          }
        },
        "364d4ecfd49841ab9776213011c4529a": {
          "model_module": "@jupyter-widgets/controls",
          "model_name": "HTMLModel",
          "model_module_version": "1.5.0",
          "state": {
            "_dom_classes": [],
            "_model_module": "@jupyter-widgets/controls",
            "_model_module_version": "1.5.0",
            "_model_name": "HTMLModel",
            "_view_count": null,
            "_view_module": "@jupyter-widgets/controls",
            "_view_module_version": "1.5.0",
            "_view_name": "HTMLView",
            "description": "",
            "description_tooltip": null,
            "layout": "IPY_MODEL_cd1cb6ff0f0a49c9a79c1a712ca597a0",
            "placeholder": "​",
            "style": "IPY_MODEL_97e7baf8b55f444c812f44d333fd64c6",
            "value": " 548M/548M [00:05&lt;00:00, 139MB/s]"
          }
        },
        "f12a90f294a24447957f9831aa9f3407": {
          "model_module": "@jupyter-widgets/base",
          "model_name": "LayoutModel",
          "model_module_version": "1.2.0",
          "state": {
            "_model_module": "@jupyter-widgets/base",
            "_model_module_version": "1.2.0",
            "_model_name": "LayoutModel",
            "_view_count": null,
            "_view_module": "@jupyter-widgets/base",
            "_view_module_version": "1.2.0",
            "_view_name": "LayoutView",
            "align_content": null,
            "align_items": null,
            "align_self": null,
            "border": null,
            "bottom": null,
            "display": null,
            "flex": null,
            "flex_flow": null,
            "grid_area": null,
            "grid_auto_columns": null,
            "grid_auto_flow": null,
            "grid_auto_rows": null,
            "grid_column": null,
            "grid_gap": null,
            "grid_row": null,
            "grid_template_areas": null,
            "grid_template_columns": null,
            "grid_template_rows": null,
            "height": null,
            "justify_content": null,
            "justify_items": null,
            "left": null,
            "margin": null,
            "max_height": null,
            "max_width": null,
            "min_height": null,
            "min_width": null,
            "object_fit": null,
            "object_position": null,
            "order": null,
            "overflow": null,
            "overflow_x": null,
            "overflow_y": null,
            "padding": null,
            "right": null,
            "top": null,
            "visibility": null,
            "width": null
          }
        },
        "0fbfcdb69a99489a870c71f0cd0abe07": {
          "model_module": "@jupyter-widgets/base",
          "model_name": "LayoutModel",
          "model_module_version": "1.2.0",
          "state": {
            "_model_module": "@jupyter-widgets/base",
            "_model_module_version": "1.2.0",
            "_model_name": "LayoutModel",
            "_view_count": null,
            "_view_module": "@jupyter-widgets/base",
            "_view_module_version": "1.2.0",
            "_view_name": "LayoutView",
            "align_content": null,
            "align_items": null,
            "align_self": null,
            "border": null,
            "bottom": null,
            "display": null,
            "flex": null,
            "flex_flow": null,
            "grid_area": null,
            "grid_auto_columns": null,
            "grid_auto_flow": null,
            "grid_auto_rows": null,
            "grid_column": null,
            "grid_gap": null,
            "grid_row": null,
            "grid_template_areas": null,
            "grid_template_columns": null,
            "grid_template_rows": null,
            "height": null,
            "justify_content": null,
            "justify_items": null,
            "left": null,
            "margin": null,
            "max_height": null,
            "max_width": null,
            "min_height": null,
            "min_width": null,
            "object_fit": null,
            "object_position": null,
            "order": null,
            "overflow": null,
            "overflow_x": null,
            "overflow_y": null,
            "padding": null,
            "right": null,
            "top": null,
            "visibility": null,
            "width": null
          }
        },
        "4d6b8150658a431689b153fa685d6871": {
          "model_module": "@jupyter-widgets/controls",
          "model_name": "DescriptionStyleModel",
          "model_module_version": "1.5.0",
          "state": {
            "_model_module": "@jupyter-widgets/controls",
            "_model_module_version": "1.5.0",
            "_model_name": "DescriptionStyleModel",
            "_view_count": null,
            "_view_module": "@jupyter-widgets/base",
            "_view_module_version": "1.2.0",
            "_view_name": "StyleView",
            "description_width": ""
          }
        },
        "d919c382e0294570b896db7b8b89e45d": {
          "model_module": "@jupyter-widgets/base",
          "model_name": "LayoutModel",
          "model_module_version": "1.2.0",
          "state": {
            "_model_module": "@jupyter-widgets/base",
            "_model_module_version": "1.2.0",
            "_model_name": "LayoutModel",
            "_view_count": null,
            "_view_module": "@jupyter-widgets/base",
            "_view_module_version": "1.2.0",
            "_view_name": "LayoutView",
            "align_content": null,
            "align_items": null,
            "align_self": null,
            "border": null,
            "bottom": null,
            "display": null,
            "flex": null,
            "flex_flow": null,
            "grid_area": null,
            "grid_auto_columns": null,
            "grid_auto_flow": null,
            "grid_auto_rows": null,
            "grid_column": null,
            "grid_gap": null,
            "grid_row": null,
            "grid_template_areas": null,
            "grid_template_columns": null,
            "grid_template_rows": null,
            "height": null,
            "justify_content": null,
            "justify_items": null,
            "left": null,
            "margin": null,
            "max_height": null,
            "max_width": null,
            "min_height": null,
            "min_width": null,
            "object_fit": null,
            "object_position": null,
            "order": null,
            "overflow": null,
            "overflow_x": null,
            "overflow_y": null,
            "padding": null,
            "right": null,
            "top": null,
            "visibility": null,
            "width": null
          }
        },
        "e5b3aa1230e4490395b99c51e0f92ca4": {
          "model_module": "@jupyter-widgets/controls",
          "model_name": "ProgressStyleModel",
          "model_module_version": "1.5.0",
          "state": {
            "_model_module": "@jupyter-widgets/controls",
            "_model_module_version": "1.5.0",
            "_model_name": "ProgressStyleModel",
            "_view_count": null,
            "_view_module": "@jupyter-widgets/base",
            "_view_module_version": "1.2.0",
            "_view_name": "StyleView",
            "bar_color": null,
            "description_width": ""
          }
        },
        "cd1cb6ff0f0a49c9a79c1a712ca597a0": {
          "model_module": "@jupyter-widgets/base",
          "model_name": "LayoutModel",
          "model_module_version": "1.2.0",
          "state": {
            "_model_module": "@jupyter-widgets/base",
            "_model_module_version": "1.2.0",
            "_model_name": "LayoutModel",
            "_view_count": null,
            "_view_module": "@jupyter-widgets/base",
            "_view_module_version": "1.2.0",
            "_view_name": "LayoutView",
            "align_content": null,
            "align_items": null,
            "align_self": null,
            "border": null,
            "bottom": null,
            "display": null,
            "flex": null,
            "flex_flow": null,
            "grid_area": null,
            "grid_auto_columns": null,
            "grid_auto_flow": null,
            "grid_auto_rows": null,
            "grid_column": null,
            "grid_gap": null,
            "grid_row": null,
            "grid_template_areas": null,
            "grid_template_columns": null,
            "grid_template_rows": null,
            "height": null,
            "justify_content": null,
            "justify_items": null,
            "left": null,
            "margin": null,
            "max_height": null,
            "max_width": null,
            "min_height": null,
            "min_width": null,
            "object_fit": null,
            "object_position": null,
            "order": null,
            "overflow": null,
            "overflow_x": null,
            "overflow_y": null,
            "padding": null,
            "right": null,
            "top": null,
            "visibility": null,
            "width": null
          }
        },
        "97e7baf8b55f444c812f44d333fd64c6": {
          "model_module": "@jupyter-widgets/controls",
          "model_name": "DescriptionStyleModel",
          "model_module_version": "1.5.0",
          "state": {
            "_model_module": "@jupyter-widgets/controls",
            "_model_module_version": "1.5.0",
            "_model_name": "DescriptionStyleModel",
            "_view_count": null,
            "_view_module": "@jupyter-widgets/base",
            "_view_module_version": "1.2.0",
            "_view_name": "StyleView",
            "description_width": ""
          }
        },
        "327f0b6ce4e942ad9c15080b08f04305": {
          "model_module": "@jupyter-widgets/controls",
          "model_name": "HBoxModel",
          "model_module_version": "1.5.0",
          "state": {
            "_dom_classes": [],
            "_model_module": "@jupyter-widgets/controls",
            "_model_module_version": "1.5.0",
            "_model_name": "HBoxModel",
            "_view_count": null,
            "_view_module": "@jupyter-widgets/controls",
            "_view_module_version": "1.5.0",
            "_view_name": "HBoxView",
            "box_style": "",
            "children": [
              "IPY_MODEL_b122aa977ca449b0b2eeb17eb379cbdf",
              "IPY_MODEL_9c2d4a9d52204cf3910a683fdeb23f2b",
              "IPY_MODEL_3eb13800e92747abb02ab5eb10cdcf6b"
            ],
            "layout": "IPY_MODEL_d6f42ba8a2f94352ad5843d54a4f4c31"
          }
        },
        "b122aa977ca449b0b2eeb17eb379cbdf": {
          "model_module": "@jupyter-widgets/controls",
          "model_name": "HTMLModel",
          "model_module_version": "1.5.0",
          "state": {
            "_dom_classes": [],
            "_model_module": "@jupyter-widgets/controls",
            "_model_module_version": "1.5.0",
            "_model_name": "HTMLModel",
            "_view_count": null,
            "_view_module": "@jupyter-widgets/controls",
            "_view_module_version": "1.5.0",
            "_view_name": "HTMLView",
            "description": "",
            "description_tooltip": null,
            "layout": "IPY_MODEL_ba4f5e0f1b0748ee9843132fe2baeb85",
            "placeholder": "​",
            "style": "IPY_MODEL_f019826e7a3649ee90c2f254cc1a6a52",
            "value": "generation_config.json: 100%"
          }
        },
        "9c2d4a9d52204cf3910a683fdeb23f2b": {
          "model_module": "@jupyter-widgets/controls",
          "model_name": "FloatProgressModel",
          "model_module_version": "1.5.0",
          "state": {
            "_dom_classes": [],
            "_model_module": "@jupyter-widgets/controls",
            "_model_module_version": "1.5.0",
            "_model_name": "FloatProgressModel",
            "_view_count": null,
            "_view_module": "@jupyter-widgets/controls",
            "_view_module_version": "1.5.0",
            "_view_name": "ProgressView",
            "bar_style": "success",
            "description": "",
            "description_tooltip": null,
            "layout": "IPY_MODEL_3027468ad6e64906a93b953bc61d20ef",
            "max": 124,
            "min": 0,
            "orientation": "horizontal",
            "style": "IPY_MODEL_90960b4f5d4f4a8f905686bcdca6d740",
            "value": 124
          }
        },
        "3eb13800e92747abb02ab5eb10cdcf6b": {
          "model_module": "@jupyter-widgets/controls",
          "model_name": "HTMLModel",
          "model_module_version": "1.5.0",
          "state": {
            "_dom_classes": [],
            "_model_module": "@jupyter-widgets/controls",
            "_model_module_version": "1.5.0",
            "_model_name": "HTMLModel",
            "_view_count": null,
            "_view_module": "@jupyter-widgets/controls",
            "_view_module_version": "1.5.0",
            "_view_name": "HTMLView",
            "description": "",
            "description_tooltip": null,
            "layout": "IPY_MODEL_75221bcf887b4fe3841b01497576c7f8",
            "placeholder": "​",
            "style": "IPY_MODEL_15e26f31bdfe469db0eb32ae0b556f13",
            "value": " 124/124 [00:00&lt;00:00, 2.84kB/s]"
          }
        },
        "d6f42ba8a2f94352ad5843d54a4f4c31": {
          "model_module": "@jupyter-widgets/base",
          "model_name": "LayoutModel",
          "model_module_version": "1.2.0",
          "state": {
            "_model_module": "@jupyter-widgets/base",
            "_model_module_version": "1.2.0",
            "_model_name": "LayoutModel",
            "_view_count": null,
            "_view_module": "@jupyter-widgets/base",
            "_view_module_version": "1.2.0",
            "_view_name": "LayoutView",
            "align_content": null,
            "align_items": null,
            "align_self": null,
            "border": null,
            "bottom": null,
            "display": null,
            "flex": null,
            "flex_flow": null,
            "grid_area": null,
            "grid_auto_columns": null,
            "grid_auto_flow": null,
            "grid_auto_rows": null,
            "grid_column": null,
            "grid_gap": null,
            "grid_row": null,
            "grid_template_areas": null,
            "grid_template_columns": null,
            "grid_template_rows": null,
            "height": null,
            "justify_content": null,
            "justify_items": null,
            "left": null,
            "margin": null,
            "max_height": null,
            "max_width": null,
            "min_height": null,
            "min_width": null,
            "object_fit": null,
            "object_position": null,
            "order": null,
            "overflow": null,
            "overflow_x": null,
            "overflow_y": null,
            "padding": null,
            "right": null,
            "top": null,
            "visibility": null,
            "width": null
          }
        },
        "ba4f5e0f1b0748ee9843132fe2baeb85": {
          "model_module": "@jupyter-widgets/base",
          "model_name": "LayoutModel",
          "model_module_version": "1.2.0",
          "state": {
            "_model_module": "@jupyter-widgets/base",
            "_model_module_version": "1.2.0",
            "_model_name": "LayoutModel",
            "_view_count": null,
            "_view_module": "@jupyter-widgets/base",
            "_view_module_version": "1.2.0",
            "_view_name": "LayoutView",
            "align_content": null,
            "align_items": null,
            "align_self": null,
            "border": null,
            "bottom": null,
            "display": null,
            "flex": null,
            "flex_flow": null,
            "grid_area": null,
            "grid_auto_columns": null,
            "grid_auto_flow": null,
            "grid_auto_rows": null,
            "grid_column": null,
            "grid_gap": null,
            "grid_row": null,
            "grid_template_areas": null,
            "grid_template_columns": null,
            "grid_template_rows": null,
            "height": null,
            "justify_content": null,
            "justify_items": null,
            "left": null,
            "margin": null,
            "max_height": null,
            "max_width": null,
            "min_height": null,
            "min_width": null,
            "object_fit": null,
            "object_position": null,
            "order": null,
            "overflow": null,
            "overflow_x": null,
            "overflow_y": null,
            "padding": null,
            "right": null,
            "top": null,
            "visibility": null,
            "width": null
          }
        },
        "f019826e7a3649ee90c2f254cc1a6a52": {
          "model_module": "@jupyter-widgets/controls",
          "model_name": "DescriptionStyleModel",
          "model_module_version": "1.5.0",
          "state": {
            "_model_module": "@jupyter-widgets/controls",
            "_model_module_version": "1.5.0",
            "_model_name": "DescriptionStyleModel",
            "_view_count": null,
            "_view_module": "@jupyter-widgets/base",
            "_view_module_version": "1.2.0",
            "_view_name": "StyleView",
            "description_width": ""
          }
        },
        "3027468ad6e64906a93b953bc61d20ef": {
          "model_module": "@jupyter-widgets/base",
          "model_name": "LayoutModel",
          "model_module_version": "1.2.0",
          "state": {
            "_model_module": "@jupyter-widgets/base",
            "_model_module_version": "1.2.0",
            "_model_name": "LayoutModel",
            "_view_count": null,
            "_view_module": "@jupyter-widgets/base",
            "_view_module_version": "1.2.0",
            "_view_name": "LayoutView",
            "align_content": null,
            "align_items": null,
            "align_self": null,
            "border": null,
            "bottom": null,
            "display": null,
            "flex": null,
            "flex_flow": null,
            "grid_area": null,
            "grid_auto_columns": null,
            "grid_auto_flow": null,
            "grid_auto_rows": null,
            "grid_column": null,
            "grid_gap": null,
            "grid_row": null,
            "grid_template_areas": null,
            "grid_template_columns": null,
            "grid_template_rows": null,
            "height": null,
            "justify_content": null,
            "justify_items": null,
            "left": null,
            "margin": null,
            "max_height": null,
            "max_width": null,
            "min_height": null,
            "min_width": null,
            "object_fit": null,
            "object_position": null,
            "order": null,
            "overflow": null,
            "overflow_x": null,
            "overflow_y": null,
            "padding": null,
            "right": null,
            "top": null,
            "visibility": null,
            "width": null
          }
        },
        "90960b4f5d4f4a8f905686bcdca6d740": {
          "model_module": "@jupyter-widgets/controls",
          "model_name": "ProgressStyleModel",
          "model_module_version": "1.5.0",
          "state": {
            "_model_module": "@jupyter-widgets/controls",
            "_model_module_version": "1.5.0",
            "_model_name": "ProgressStyleModel",
            "_view_count": null,
            "_view_module": "@jupyter-widgets/base",
            "_view_module_version": "1.2.0",
            "_view_name": "StyleView",
            "bar_color": null,
            "description_width": ""
          }
        },
        "75221bcf887b4fe3841b01497576c7f8": {
          "model_module": "@jupyter-widgets/base",
          "model_name": "LayoutModel",
          "model_module_version": "1.2.0",
          "state": {
            "_model_module": "@jupyter-widgets/base",
            "_model_module_version": "1.2.0",
            "_model_name": "LayoutModel",
            "_view_count": null,
            "_view_module": "@jupyter-widgets/base",
            "_view_module_version": "1.2.0",
            "_view_name": "LayoutView",
            "align_content": null,
            "align_items": null,
            "align_self": null,
            "border": null,
            "bottom": null,
            "display": null,
            "flex": null,
            "flex_flow": null,
            "grid_area": null,
            "grid_auto_columns": null,
            "grid_auto_flow": null,
            "grid_auto_rows": null,
            "grid_column": null,
            "grid_gap": null,
            "grid_row": null,
            "grid_template_areas": null,
            "grid_template_columns": null,
            "grid_template_rows": null,
            "height": null,
            "justify_content": null,
            "justify_items": null,
            "left": null,
            "margin": null,
            "max_height": null,
            "max_width": null,
            "min_height": null,
            "min_width": null,
            "object_fit": null,
            "object_position": null,
            "order": null,
            "overflow": null,
            "overflow_x": null,
            "overflow_y": null,
            "padding": null,
            "right": null,
            "top": null,
            "visibility": null,
            "width": null
          }
        },
        "15e26f31bdfe469db0eb32ae0b556f13": {
          "model_module": "@jupyter-widgets/controls",
          "model_name": "DescriptionStyleModel",
          "model_module_version": "1.5.0",
          "state": {
            "_model_module": "@jupyter-widgets/controls",
            "_model_module_version": "1.5.0",
            "_model_name": "DescriptionStyleModel",
            "_view_count": null,
            "_view_module": "@jupyter-widgets/base",
            "_view_module_version": "1.2.0",
            "_view_name": "StyleView",
            "description_width": ""
          }
        },
        "28f67b67ef4e4941a67a5e70b5cc9aac": {
          "model_module": "@jupyter-widgets/controls",
          "model_name": "HBoxModel",
          "model_module_version": "1.5.0",
          "state": {
            "_dom_classes": [],
            "_model_module": "@jupyter-widgets/controls",
            "_model_module_version": "1.5.0",
            "_model_name": "HBoxModel",
            "_view_count": null,
            "_view_module": "@jupyter-widgets/controls",
            "_view_module_version": "1.5.0",
            "_view_name": "HBoxView",
            "box_style": "",
            "children": [
              "IPY_MODEL_8cabb4f10633486f9033a4f5276e0e42",
              "IPY_MODEL_4bdb8ff8cf7b40fc9e7259d82129b038",
              "IPY_MODEL_1b7d32b8c98c4b3099c53b066f238a63"
            ],
            "layout": "IPY_MODEL_f69502e4971f459680157e524aa639a5"
          }
        },
        "8cabb4f10633486f9033a4f5276e0e42": {
          "model_module": "@jupyter-widgets/controls",
          "model_name": "HTMLModel",
          "model_module_version": "1.5.0",
          "state": {
            "_dom_classes": [],
            "_model_module": "@jupyter-widgets/controls",
            "_model_module_version": "1.5.0",
            "_model_name": "HTMLModel",
            "_view_count": null,
            "_view_module": "@jupyter-widgets/controls",
            "_view_module_version": "1.5.0",
            "_view_name": "HTMLView",
            "description": "",
            "description_tooltip": null,
            "layout": "IPY_MODEL_f33c31b4315349ada630a3b352d3a4da",
            "placeholder": "​",
            "style": "IPY_MODEL_8016b3a499b540ac9649d9a636edcac8",
            "value": "vocab.json: 100%"
          }
        },
        "4bdb8ff8cf7b40fc9e7259d82129b038": {
          "model_module": "@jupyter-widgets/controls",
          "model_name": "FloatProgressModel",
          "model_module_version": "1.5.0",
          "state": {
            "_dom_classes": [],
            "_model_module": "@jupyter-widgets/controls",
            "_model_module_version": "1.5.0",
            "_model_name": "FloatProgressModel",
            "_view_count": null,
            "_view_module": "@jupyter-widgets/controls",
            "_view_module_version": "1.5.0",
            "_view_name": "ProgressView",
            "bar_style": "success",
            "description": "",
            "description_tooltip": null,
            "layout": "IPY_MODEL_a0443be60cd546c7ac58a8349e3be333",
            "max": 1042301,
            "min": 0,
            "orientation": "horizontal",
            "style": "IPY_MODEL_351ce093d0d34339808c6109672eb9f3",
            "value": 1042301
          }
        },
        "1b7d32b8c98c4b3099c53b066f238a63": {
          "model_module": "@jupyter-widgets/controls",
          "model_name": "HTMLModel",
          "model_module_version": "1.5.0",
          "state": {
            "_dom_classes": [],
            "_model_module": "@jupyter-widgets/controls",
            "_model_module_version": "1.5.0",
            "_model_name": "HTMLModel",
            "_view_count": null,
            "_view_module": "@jupyter-widgets/controls",
            "_view_module_version": "1.5.0",
            "_view_name": "HTMLView",
            "description": "",
            "description_tooltip": null,
            "layout": "IPY_MODEL_a1a48aca4ef743f6b80af3e51e3ca4b5",
            "placeholder": "​",
            "style": "IPY_MODEL_c08413196e4b4a4daff7b194f8e53430",
            "value": " 1.04M/1.04M [00:00&lt;00:00, 6.73MB/s]"
          }
        },
        "f69502e4971f459680157e524aa639a5": {
          "model_module": "@jupyter-widgets/base",
          "model_name": "LayoutModel",
          "model_module_version": "1.2.0",
          "state": {
            "_model_module": "@jupyter-widgets/base",
            "_model_module_version": "1.2.0",
            "_model_name": "LayoutModel",
            "_view_count": null,
            "_view_module": "@jupyter-widgets/base",
            "_view_module_version": "1.2.0",
            "_view_name": "LayoutView",
            "align_content": null,
            "align_items": null,
            "align_self": null,
            "border": null,
            "bottom": null,
            "display": null,
            "flex": null,
            "flex_flow": null,
            "grid_area": null,
            "grid_auto_columns": null,
            "grid_auto_flow": null,
            "grid_auto_rows": null,
            "grid_column": null,
            "grid_gap": null,
            "grid_row": null,
            "grid_template_areas": null,
            "grid_template_columns": null,
            "grid_template_rows": null,
            "height": null,
            "justify_content": null,
            "justify_items": null,
            "left": null,
            "margin": null,
            "max_height": null,
            "max_width": null,
            "min_height": null,
            "min_width": null,
            "object_fit": null,
            "object_position": null,
            "order": null,
            "overflow": null,
            "overflow_x": null,
            "overflow_y": null,
            "padding": null,
            "right": null,
            "top": null,
            "visibility": null,
            "width": null
          }
        },
        "f33c31b4315349ada630a3b352d3a4da": {
          "model_module": "@jupyter-widgets/base",
          "model_name": "LayoutModel",
          "model_module_version": "1.2.0",
          "state": {
            "_model_module": "@jupyter-widgets/base",
            "_model_module_version": "1.2.0",
            "_model_name": "LayoutModel",
            "_view_count": null,
            "_view_module": "@jupyter-widgets/base",
            "_view_module_version": "1.2.0",
            "_view_name": "LayoutView",
            "align_content": null,
            "align_items": null,
            "align_self": null,
            "border": null,
            "bottom": null,
            "display": null,
            "flex": null,
            "flex_flow": null,
            "grid_area": null,
            "grid_auto_columns": null,
            "grid_auto_flow": null,
            "grid_auto_rows": null,
            "grid_column": null,
            "grid_gap": null,
            "grid_row": null,
            "grid_template_areas": null,
            "grid_template_columns": null,
            "grid_template_rows": null,
            "height": null,
            "justify_content": null,
            "justify_items": null,
            "left": null,
            "margin": null,
            "max_height": null,
            "max_width": null,
            "min_height": null,
            "min_width": null,
            "object_fit": null,
            "object_position": null,
            "order": null,
            "overflow": null,
            "overflow_x": null,
            "overflow_y": null,
            "padding": null,
            "right": null,
            "top": null,
            "visibility": null,
            "width": null
          }
        },
        "8016b3a499b540ac9649d9a636edcac8": {
          "model_module": "@jupyter-widgets/controls",
          "model_name": "DescriptionStyleModel",
          "model_module_version": "1.5.0",
          "state": {
            "_model_module": "@jupyter-widgets/controls",
            "_model_module_version": "1.5.0",
            "_model_name": "DescriptionStyleModel",
            "_view_count": null,
            "_view_module": "@jupyter-widgets/base",
            "_view_module_version": "1.2.0",
            "_view_name": "StyleView",
            "description_width": ""
          }
        },
        "a0443be60cd546c7ac58a8349e3be333": {
          "model_module": "@jupyter-widgets/base",
          "model_name": "LayoutModel",
          "model_module_version": "1.2.0",
          "state": {
            "_model_module": "@jupyter-widgets/base",
            "_model_module_version": "1.2.0",
            "_model_name": "LayoutModel",
            "_view_count": null,
            "_view_module": "@jupyter-widgets/base",
            "_view_module_version": "1.2.0",
            "_view_name": "LayoutView",
            "align_content": null,
            "align_items": null,
            "align_self": null,
            "border": null,
            "bottom": null,
            "display": null,
            "flex": null,
            "flex_flow": null,
            "grid_area": null,
            "grid_auto_columns": null,
            "grid_auto_flow": null,
            "grid_auto_rows": null,
            "grid_column": null,
            "grid_gap": null,
            "grid_row": null,
            "grid_template_areas": null,
            "grid_template_columns": null,
            "grid_template_rows": null,
            "height": null,
            "justify_content": null,
            "justify_items": null,
            "left": null,
            "margin": null,
            "max_height": null,
            "max_width": null,
            "min_height": null,
            "min_width": null,
            "object_fit": null,
            "object_position": null,
            "order": null,
            "overflow": null,
            "overflow_x": null,
            "overflow_y": null,
            "padding": null,
            "right": null,
            "top": null,
            "visibility": null,
            "width": null
          }
        },
        "351ce093d0d34339808c6109672eb9f3": {
          "model_module": "@jupyter-widgets/controls",
          "model_name": "ProgressStyleModel",
          "model_module_version": "1.5.0",
          "state": {
            "_model_module": "@jupyter-widgets/controls",
            "_model_module_version": "1.5.0",
            "_model_name": "ProgressStyleModel",
            "_view_count": null,
            "_view_module": "@jupyter-widgets/base",
            "_view_module_version": "1.2.0",
            "_view_name": "StyleView",
            "bar_color": null,
            "description_width": ""
          }
        },
        "a1a48aca4ef743f6b80af3e51e3ca4b5": {
          "model_module": "@jupyter-widgets/base",
          "model_name": "LayoutModel",
          "model_module_version": "1.2.0",
          "state": {
            "_model_module": "@jupyter-widgets/base",
            "_model_module_version": "1.2.0",
            "_model_name": "LayoutModel",
            "_view_count": null,
            "_view_module": "@jupyter-widgets/base",
            "_view_module_version": "1.2.0",
            "_view_name": "LayoutView",
            "align_content": null,
            "align_items": null,
            "align_self": null,
            "border": null,
            "bottom": null,
            "display": null,
            "flex": null,
            "flex_flow": null,
            "grid_area": null,
            "grid_auto_columns": null,
            "grid_auto_flow": null,
            "grid_auto_rows": null,
            "grid_column": null,
            "grid_gap": null,
            "grid_row": null,
            "grid_template_areas": null,
            "grid_template_columns": null,
            "grid_template_rows": null,
            "height": null,
            "justify_content": null,
            "justify_items": null,
            "left": null,
            "margin": null,
            "max_height": null,
            "max_width": null,
            "min_height": null,
            "min_width": null,
            "object_fit": null,
            "object_position": null,
            "order": null,
            "overflow": null,
            "overflow_x": null,
            "overflow_y": null,
            "padding": null,
            "right": null,
            "top": null,
            "visibility": null,
            "width": null
          }
        },
        "c08413196e4b4a4daff7b194f8e53430": {
          "model_module": "@jupyter-widgets/controls",
          "model_name": "DescriptionStyleModel",
          "model_module_version": "1.5.0",
          "state": {
            "_model_module": "@jupyter-widgets/controls",
            "_model_module_version": "1.5.0",
            "_model_name": "DescriptionStyleModel",
            "_view_count": null,
            "_view_module": "@jupyter-widgets/base",
            "_view_module_version": "1.2.0",
            "_view_name": "StyleView",
            "description_width": ""
          }
        },
        "adf4033d004546019ec8444a5d68542c": {
          "model_module": "@jupyter-widgets/controls",
          "model_name": "HBoxModel",
          "model_module_version": "1.5.0",
          "state": {
            "_dom_classes": [],
            "_model_module": "@jupyter-widgets/controls",
            "_model_module_version": "1.5.0",
            "_model_name": "HBoxModel",
            "_view_count": null,
            "_view_module": "@jupyter-widgets/controls",
            "_view_module_version": "1.5.0",
            "_view_name": "HBoxView",
            "box_style": "",
            "children": [
              "IPY_MODEL_10aa6ce91d8f45578dea9f40b08b2b63",
              "IPY_MODEL_d501b902d41240ca9a00d70306e1c1dd",
              "IPY_MODEL_9acaf8978f594c079aec53af4bbefa51"
            ],
            "layout": "IPY_MODEL_df6cdf2cb4b24008887d7b127e445eda"
          }
        },
        "10aa6ce91d8f45578dea9f40b08b2b63": {
          "model_module": "@jupyter-widgets/controls",
          "model_name": "HTMLModel",
          "model_module_version": "1.5.0",
          "state": {
            "_dom_classes": [],
            "_model_module": "@jupyter-widgets/controls",
            "_model_module_version": "1.5.0",
            "_model_name": "HTMLModel",
            "_view_count": null,
            "_view_module": "@jupyter-widgets/controls",
            "_view_module_version": "1.5.0",
            "_view_name": "HTMLView",
            "description": "",
            "description_tooltip": null,
            "layout": "IPY_MODEL_f41f5e6dd3de45739f6cb3a3f914db39",
            "placeholder": "​",
            "style": "IPY_MODEL_21454bc15ca8457d98187be8fd274e61",
            "value": "merges.txt: 100%"
          }
        },
        "d501b902d41240ca9a00d70306e1c1dd": {
          "model_module": "@jupyter-widgets/controls",
          "model_name": "FloatProgressModel",
          "model_module_version": "1.5.0",
          "state": {
            "_dom_classes": [],
            "_model_module": "@jupyter-widgets/controls",
            "_model_module_version": "1.5.0",
            "_model_name": "FloatProgressModel",
            "_view_count": null,
            "_view_module": "@jupyter-widgets/controls",
            "_view_module_version": "1.5.0",
            "_view_name": "ProgressView",
            "bar_style": "success",
            "description": "",
            "description_tooltip": null,
            "layout": "IPY_MODEL_1a4670efc9144a42be9080344a0320b3",
            "max": 456318,
            "min": 0,
            "orientation": "horizontal",
            "style": "IPY_MODEL_b6438a16c9ba4755aa2390792b06f5dc",
            "value": 456318
          }
        },
        "9acaf8978f594c079aec53af4bbefa51": {
          "model_module": "@jupyter-widgets/controls",
          "model_name": "HTMLModel",
          "model_module_version": "1.5.0",
          "state": {
            "_dom_classes": [],
            "_model_module": "@jupyter-widgets/controls",
            "_model_module_version": "1.5.0",
            "_model_name": "HTMLModel",
            "_view_count": null,
            "_view_module": "@jupyter-widgets/controls",
            "_view_module_version": "1.5.0",
            "_view_name": "HTMLView",
            "description": "",
            "description_tooltip": null,
            "layout": "IPY_MODEL_676e6823c7f64f788c0622b74f186ecd",
            "placeholder": "​",
            "style": "IPY_MODEL_a176189f56974a2d8907767c4d3a8483",
            "value": " 456k/456k [00:00&lt;00:00, 6.88MB/s]"
          }
        },
        "df6cdf2cb4b24008887d7b127e445eda": {
          "model_module": "@jupyter-widgets/base",
          "model_name": "LayoutModel",
          "model_module_version": "1.2.0",
          "state": {
            "_model_module": "@jupyter-widgets/base",
            "_model_module_version": "1.2.0",
            "_model_name": "LayoutModel",
            "_view_count": null,
            "_view_module": "@jupyter-widgets/base",
            "_view_module_version": "1.2.0",
            "_view_name": "LayoutView",
            "align_content": null,
            "align_items": null,
            "align_self": null,
            "border": null,
            "bottom": null,
            "display": null,
            "flex": null,
            "flex_flow": null,
            "grid_area": null,
            "grid_auto_columns": null,
            "grid_auto_flow": null,
            "grid_auto_rows": null,
            "grid_column": null,
            "grid_gap": null,
            "grid_row": null,
            "grid_template_areas": null,
            "grid_template_columns": null,
            "grid_template_rows": null,
            "height": null,
            "justify_content": null,
            "justify_items": null,
            "left": null,
            "margin": null,
            "max_height": null,
            "max_width": null,
            "min_height": null,
            "min_width": null,
            "object_fit": null,
            "object_position": null,
            "order": null,
            "overflow": null,
            "overflow_x": null,
            "overflow_y": null,
            "padding": null,
            "right": null,
            "top": null,
            "visibility": null,
            "width": null
          }
        },
        "f41f5e6dd3de45739f6cb3a3f914db39": {
          "model_module": "@jupyter-widgets/base",
          "model_name": "LayoutModel",
          "model_module_version": "1.2.0",
          "state": {
            "_model_module": "@jupyter-widgets/base",
            "_model_module_version": "1.2.0",
            "_model_name": "LayoutModel",
            "_view_count": null,
            "_view_module": "@jupyter-widgets/base",
            "_view_module_version": "1.2.0",
            "_view_name": "LayoutView",
            "align_content": null,
            "align_items": null,
            "align_self": null,
            "border": null,
            "bottom": null,
            "display": null,
            "flex": null,
            "flex_flow": null,
            "grid_area": null,
            "grid_auto_columns": null,
            "grid_auto_flow": null,
            "grid_auto_rows": null,
            "grid_column": null,
            "grid_gap": null,
            "grid_row": null,
            "grid_template_areas": null,
            "grid_template_columns": null,
            "grid_template_rows": null,
            "height": null,
            "justify_content": null,
            "justify_items": null,
            "left": null,
            "margin": null,
            "max_height": null,
            "max_width": null,
            "min_height": null,
            "min_width": null,
            "object_fit": null,
            "object_position": null,
            "order": null,
            "overflow": null,
            "overflow_x": null,
            "overflow_y": null,
            "padding": null,
            "right": null,
            "top": null,
            "visibility": null,
            "width": null
          }
        },
        "21454bc15ca8457d98187be8fd274e61": {
          "model_module": "@jupyter-widgets/controls",
          "model_name": "DescriptionStyleModel",
          "model_module_version": "1.5.0",
          "state": {
            "_model_module": "@jupyter-widgets/controls",
            "_model_module_version": "1.5.0",
            "_model_name": "DescriptionStyleModel",
            "_view_count": null,
            "_view_module": "@jupyter-widgets/base",
            "_view_module_version": "1.2.0",
            "_view_name": "StyleView",
            "description_width": ""
          }
        },
        "1a4670efc9144a42be9080344a0320b3": {
          "model_module": "@jupyter-widgets/base",
          "model_name": "LayoutModel",
          "model_module_version": "1.2.0",
          "state": {
            "_model_module": "@jupyter-widgets/base",
            "_model_module_version": "1.2.0",
            "_model_name": "LayoutModel",
            "_view_count": null,
            "_view_module": "@jupyter-widgets/base",
            "_view_module_version": "1.2.0",
            "_view_name": "LayoutView",
            "align_content": null,
            "align_items": null,
            "align_self": null,
            "border": null,
            "bottom": null,
            "display": null,
            "flex": null,
            "flex_flow": null,
            "grid_area": null,
            "grid_auto_columns": null,
            "grid_auto_flow": null,
            "grid_auto_rows": null,
            "grid_column": null,
            "grid_gap": null,
            "grid_row": null,
            "grid_template_areas": null,
            "grid_template_columns": null,
            "grid_template_rows": null,
            "height": null,
            "justify_content": null,
            "justify_items": null,
            "left": null,
            "margin": null,
            "max_height": null,
            "max_width": null,
            "min_height": null,
            "min_width": null,
            "object_fit": null,
            "object_position": null,
            "order": null,
            "overflow": null,
            "overflow_x": null,
            "overflow_y": null,
            "padding": null,
            "right": null,
            "top": null,
            "visibility": null,
            "width": null
          }
        },
        "b6438a16c9ba4755aa2390792b06f5dc": {
          "model_module": "@jupyter-widgets/controls",
          "model_name": "ProgressStyleModel",
          "model_module_version": "1.5.0",
          "state": {
            "_model_module": "@jupyter-widgets/controls",
            "_model_module_version": "1.5.0",
            "_model_name": "ProgressStyleModel",
            "_view_count": null,
            "_view_module": "@jupyter-widgets/base",
            "_view_module_version": "1.2.0",
            "_view_name": "StyleView",
            "bar_color": null,
            "description_width": ""
          }
        },
        "676e6823c7f64f788c0622b74f186ecd": {
          "model_module": "@jupyter-widgets/base",
          "model_name": "LayoutModel",
          "model_module_version": "1.2.0",
          "state": {
            "_model_module": "@jupyter-widgets/base",
            "_model_module_version": "1.2.0",
            "_model_name": "LayoutModel",
            "_view_count": null,
            "_view_module": "@jupyter-widgets/base",
            "_view_module_version": "1.2.0",
            "_view_name": "LayoutView",
            "align_content": null,
            "align_items": null,
            "align_self": null,
            "border": null,
            "bottom": null,
            "display": null,
            "flex": null,
            "flex_flow": null,
            "grid_area": null,
            "grid_auto_columns": null,
            "grid_auto_flow": null,
            "grid_auto_rows": null,
            "grid_column": null,
            "grid_gap": null,
            "grid_row": null,
            "grid_template_areas": null,
            "grid_template_columns": null,
            "grid_template_rows": null,
            "height": null,
            "justify_content": null,
            "justify_items": null,
            "left": null,
            "margin": null,
            "max_height": null,
            "max_width": null,
            "min_height": null,
            "min_width": null,
            "object_fit": null,
            "object_position": null,
            "order": null,
            "overflow": null,
            "overflow_x": null,
            "overflow_y": null,
            "padding": null,
            "right": null,
            "top": null,
            "visibility": null,
            "width": null
          }
        },
        "a176189f56974a2d8907767c4d3a8483": {
          "model_module": "@jupyter-widgets/controls",
          "model_name": "DescriptionStyleModel",
          "model_module_version": "1.5.0",
          "state": {
            "_model_module": "@jupyter-widgets/controls",
            "_model_module_version": "1.5.0",
            "_model_name": "DescriptionStyleModel",
            "_view_count": null,
            "_view_module": "@jupyter-widgets/base",
            "_view_module_version": "1.2.0",
            "_view_name": "StyleView",
            "description_width": ""
          }
        },
        "60896df635214706b5884bd1f0287259": {
          "model_module": "@jupyter-widgets/controls",
          "model_name": "HBoxModel",
          "model_module_version": "1.5.0",
          "state": {
            "_dom_classes": [],
            "_model_module": "@jupyter-widgets/controls",
            "_model_module_version": "1.5.0",
            "_model_name": "HBoxModel",
            "_view_count": null,
            "_view_module": "@jupyter-widgets/controls",
            "_view_module_version": "1.5.0",
            "_view_name": "HBoxView",
            "box_style": "",
            "children": [
              "IPY_MODEL_046a28e469e24f6d8c26dfee80c053f5",
              "IPY_MODEL_18f1f6eba4054fac882f7c44fc68bfc6",
              "IPY_MODEL_c2e31f479eaf44e58704915a305da682"
            ],
            "layout": "IPY_MODEL_4a939d10ef2f41ae95db22cab521737a"
          }
        },
        "046a28e469e24f6d8c26dfee80c053f5": {
          "model_module": "@jupyter-widgets/controls",
          "model_name": "HTMLModel",
          "model_module_version": "1.5.0",
          "state": {
            "_dom_classes": [],
            "_model_module": "@jupyter-widgets/controls",
            "_model_module_version": "1.5.0",
            "_model_name": "HTMLModel",
            "_view_count": null,
            "_view_module": "@jupyter-widgets/controls",
            "_view_module_version": "1.5.0",
            "_view_name": "HTMLView",
            "description": "",
            "description_tooltip": null,
            "layout": "IPY_MODEL_42bedd2f6f3f4297a6ec124b35165b8e",
            "placeholder": "​",
            "style": "IPY_MODEL_99eb0eee2dc248e5884c42a435a18371",
            "value": "tokenizer.json: 100%"
          }
        },
        "18f1f6eba4054fac882f7c44fc68bfc6": {
          "model_module": "@jupyter-widgets/controls",
          "model_name": "FloatProgressModel",
          "model_module_version": "1.5.0",
          "state": {
            "_dom_classes": [],
            "_model_module": "@jupyter-widgets/controls",
            "_model_module_version": "1.5.0",
            "_model_name": "FloatProgressModel",
            "_view_count": null,
            "_view_module": "@jupyter-widgets/controls",
            "_view_module_version": "1.5.0",
            "_view_name": "ProgressView",
            "bar_style": "success",
            "description": "",
            "description_tooltip": null,
            "layout": "IPY_MODEL_0fa34d92e3924e5b9ebbfe780d37b766",
            "max": 1355256,
            "min": 0,
            "orientation": "horizontal",
            "style": "IPY_MODEL_7b8e5581f08f41929fde517c3d446fdd",
            "value": 1355256
          }
        },
        "c2e31f479eaf44e58704915a305da682": {
          "model_module": "@jupyter-widgets/controls",
          "model_name": "HTMLModel",
          "model_module_version": "1.5.0",
          "state": {
            "_dom_classes": [],
            "_model_module": "@jupyter-widgets/controls",
            "_model_module_version": "1.5.0",
            "_model_name": "HTMLModel",
            "_view_count": null,
            "_view_module": "@jupyter-widgets/controls",
            "_view_module_version": "1.5.0",
            "_view_name": "HTMLView",
            "description": "",
            "description_tooltip": null,
            "layout": "IPY_MODEL_1707d982a10c4dd694cbe21e73b0f1b6",
            "placeholder": "​",
            "style": "IPY_MODEL_62a1f8b863214f8eb22ece035ab614d3",
            "value": " 1.36M/1.36M [00:00&lt;00:00, 21.6MB/s]"
          }
        },
        "4a939d10ef2f41ae95db22cab521737a": {
          "model_module": "@jupyter-widgets/base",
          "model_name": "LayoutModel",
          "model_module_version": "1.2.0",
          "state": {
            "_model_module": "@jupyter-widgets/base",
            "_model_module_version": "1.2.0",
            "_model_name": "LayoutModel",
            "_view_count": null,
            "_view_module": "@jupyter-widgets/base",
            "_view_module_version": "1.2.0",
            "_view_name": "LayoutView",
            "align_content": null,
            "align_items": null,
            "align_self": null,
            "border": null,
            "bottom": null,
            "display": null,
            "flex": null,
            "flex_flow": null,
            "grid_area": null,
            "grid_auto_columns": null,
            "grid_auto_flow": null,
            "grid_auto_rows": null,
            "grid_column": null,
            "grid_gap": null,
            "grid_row": null,
            "grid_template_areas": null,
            "grid_template_columns": null,
            "grid_template_rows": null,
            "height": null,
            "justify_content": null,
            "justify_items": null,
            "left": null,
            "margin": null,
            "max_height": null,
            "max_width": null,
            "min_height": null,
            "min_width": null,
            "object_fit": null,
            "object_position": null,
            "order": null,
            "overflow": null,
            "overflow_x": null,
            "overflow_y": null,
            "padding": null,
            "right": null,
            "top": null,
            "visibility": null,
            "width": null
          }
        },
        "42bedd2f6f3f4297a6ec124b35165b8e": {
          "model_module": "@jupyter-widgets/base",
          "model_name": "LayoutModel",
          "model_module_version": "1.2.0",
          "state": {
            "_model_module": "@jupyter-widgets/base",
            "_model_module_version": "1.2.0",
            "_model_name": "LayoutModel",
            "_view_count": null,
            "_view_module": "@jupyter-widgets/base",
            "_view_module_version": "1.2.0",
            "_view_name": "LayoutView",
            "align_content": null,
            "align_items": null,
            "align_self": null,
            "border": null,
            "bottom": null,
            "display": null,
            "flex": null,
            "flex_flow": null,
            "grid_area": null,
            "grid_auto_columns": null,
            "grid_auto_flow": null,
            "grid_auto_rows": null,
            "grid_column": null,
            "grid_gap": null,
            "grid_row": null,
            "grid_template_areas": null,
            "grid_template_columns": null,
            "grid_template_rows": null,
            "height": null,
            "justify_content": null,
            "justify_items": null,
            "left": null,
            "margin": null,
            "max_height": null,
            "max_width": null,
            "min_height": null,
            "min_width": null,
            "object_fit": null,
            "object_position": null,
            "order": null,
            "overflow": null,
            "overflow_x": null,
            "overflow_y": null,
            "padding": null,
            "right": null,
            "top": null,
            "visibility": null,
            "width": null
          }
        },
        "99eb0eee2dc248e5884c42a435a18371": {
          "model_module": "@jupyter-widgets/controls",
          "model_name": "DescriptionStyleModel",
          "model_module_version": "1.5.0",
          "state": {
            "_model_module": "@jupyter-widgets/controls",
            "_model_module_version": "1.5.0",
            "_model_name": "DescriptionStyleModel",
            "_view_count": null,
            "_view_module": "@jupyter-widgets/base",
            "_view_module_version": "1.2.0",
            "_view_name": "StyleView",
            "description_width": ""
          }
        },
        "0fa34d92e3924e5b9ebbfe780d37b766": {
          "model_module": "@jupyter-widgets/base",
          "model_name": "LayoutModel",
          "model_module_version": "1.2.0",
          "state": {
            "_model_module": "@jupyter-widgets/base",
            "_model_module_version": "1.2.0",
            "_model_name": "LayoutModel",
            "_view_count": null,
            "_view_module": "@jupyter-widgets/base",
            "_view_module_version": "1.2.0",
            "_view_name": "LayoutView",
            "align_content": null,
            "align_items": null,
            "align_self": null,
            "border": null,
            "bottom": null,
            "display": null,
            "flex": null,
            "flex_flow": null,
            "grid_area": null,
            "grid_auto_columns": null,
            "grid_auto_flow": null,
            "grid_auto_rows": null,
            "grid_column": null,
            "grid_gap": null,
            "grid_row": null,
            "grid_template_areas": null,
            "grid_template_columns": null,
            "grid_template_rows": null,
            "height": null,
            "justify_content": null,
            "justify_items": null,
            "left": null,
            "margin": null,
            "max_height": null,
            "max_width": null,
            "min_height": null,
            "min_width": null,
            "object_fit": null,
            "object_position": null,
            "order": null,
            "overflow": null,
            "overflow_x": null,
            "overflow_y": null,
            "padding": null,
            "right": null,
            "top": null,
            "visibility": null,
            "width": null
          }
        },
        "7b8e5581f08f41929fde517c3d446fdd": {
          "model_module": "@jupyter-widgets/controls",
          "model_name": "ProgressStyleModel",
          "model_module_version": "1.5.0",
          "state": {
            "_model_module": "@jupyter-widgets/controls",
            "_model_module_version": "1.5.0",
            "_model_name": "ProgressStyleModel",
            "_view_count": null,
            "_view_module": "@jupyter-widgets/base",
            "_view_module_version": "1.2.0",
            "_view_name": "StyleView",
            "bar_color": null,
            "description_width": ""
          }
        },
        "1707d982a10c4dd694cbe21e73b0f1b6": {
          "model_module": "@jupyter-widgets/base",
          "model_name": "LayoutModel",
          "model_module_version": "1.2.0",
          "state": {
            "_model_module": "@jupyter-widgets/base",
            "_model_module_version": "1.2.0",
            "_model_name": "LayoutModel",
            "_view_count": null,
            "_view_module": "@jupyter-widgets/base",
            "_view_module_version": "1.2.0",
            "_view_name": "LayoutView",
            "align_content": null,
            "align_items": null,
            "align_self": null,
            "border": null,
            "bottom": null,
            "display": null,
            "flex": null,
            "flex_flow": null,
            "grid_area": null,
            "grid_auto_columns": null,
            "grid_auto_flow": null,
            "grid_auto_rows": null,
            "grid_column": null,
            "grid_gap": null,
            "grid_row": null,
            "grid_template_areas": null,
            "grid_template_columns": null,
            "grid_template_rows": null,
            "height": null,
            "justify_content": null,
            "justify_items": null,
            "left": null,
            "margin": null,
            "max_height": null,
            "max_width": null,
            "min_height": null,
            "min_width": null,
            "object_fit": null,
            "object_position": null,
            "order": null,
            "overflow": null,
            "overflow_x": null,
            "overflow_y": null,
            "padding": null,
            "right": null,
            "top": null,
            "visibility": null,
            "width": null
          }
        },
        "62a1f8b863214f8eb22ece035ab614d3": {
          "model_module": "@jupyter-widgets/controls",
          "model_name": "DescriptionStyleModel",
          "model_module_version": "1.5.0",
          "state": {
            "_model_module": "@jupyter-widgets/controls",
            "_model_module_version": "1.5.0",
            "_model_name": "DescriptionStyleModel",
            "_view_count": null,
            "_view_module": "@jupyter-widgets/base",
            "_view_module_version": "1.2.0",
            "_view_name": "StyleView",
            "description_width": ""
          }
        }
      }
    }
  },
  "cells": [
    {
      "cell_type": "code",
      "execution_count": 4,
      "metadata": {
        "id": "VVpU-qzvPGnr"
      },
      "outputs": [],
      "source": [
        "# Structured Inverse Paraphraser\n",
        "# Very similar to DVP; except Dataset change"
      ]
    },
    {
      "cell_type": "code",
      "source": [
        "# ------------- IMP -------------\n",
        "# Run for dataset one-by-one in different kaggle account\n",
        "# While loading datasets make sure that label file has only 1 label\n",
        "# Remove +1 while calculating the average train loss from denominator\n",
        "# Remove global_step = 3 from saving the last model state"
      ],
      "metadata": {
        "id": "DzwSY6-NSdz9"
      },
      "execution_count": 58,
      "outputs": []
    },
    {
      "cell_type": "code",
      "source": [
        "# Desired Imports\n",
        "import torch\n",
        "import tqdm\n",
        "from tqdm import trange\n",
        "from transformers import (AdamW, GPT2Config, GPT2LMHeadModel, GPT2Tokenizer, get_linear_schedule_with_warmup)\n",
        "from torch.utils.data import Dataset\n",
        "import numpy as np\n",
        "from collections import defaultdict\n",
        "from torch.utils.data import DataLoader, RandomSampler, SequentialSampler\n",
        "import os\n",
        "import shutil\n",
        "import subprocess\n",
        "import json\n",
        "import torch.nn.utils as F\n",
        "from transformers import WEIGHTS_NAME"
      ],
      "metadata": {
        "id": "aqs53SOMPXrp"
      },
      "execution_count": 59,
      "outputs": []
    },
    {
      "cell_type": "code",
      "source": [
        "# Required directories\n",
        "invp_paraphrase_model_chkpts_dir =  \"/content/drive/MyDrive/IRE/INVP\"\n",
        "final_invp_paraphrase_model_dir = \"/content/drive/MyDrive/IRE/INVP/final_INVP\"\n",
        "input_output_dir = \"/content/drive/MyDrive/IRE/PSUEDO_PARALLEL\" # from DVP"
      ],
      "metadata": {
        "id": "BoSP4ybdP5ls"
      },
      "execution_count": 9,
      "outputs": []
    },
    {
      "cell_type": "code",
      "source": [
        "# Dataset for inverse paraphrasing\n",
        "database_config = {\n",
        "    \"shakespeare\" : \"shakespeare\",\n",
        "    \"poetry\" : \"poetry\",\n",
        "    \"bible\" : \"bible\"\n",
        "}"
      ],
      "metadata": {
        "id": "BXsqHq9iQUjK"
      },
      "execution_count": 10,
      "outputs": []
    },
    {
      "cell_type": "code",
      "source": [
        "# Arguments needed for training\n",
        "dataset_to_run =database_config[\"shakespeare\"]\n",
        "\n",
        "args_dir = {\n",
        "  \"save_steps\" : 20, # can be changed\n",
        "  \"num_epochs\" : 3,\n",
        "  \"gradient_accumulation_steps\" : 2,\n",
        "  \"adam_epsilon\" : 1e-8,\n",
        "  \"warmup_steps\" : 0,\n",
        "  \"learning_rt\" : 5e-5,\n",
        "  \"max_grad_norm\" : 1.0,\n",
        "  \"data_dir\" : input_output_dir + \"/\" + dataset_to_run + \"/BPE\",\n",
        "  \"model_type\" : \"gpt2\",\n",
        "  \"model_name\" : \"gpt2\",  # set to gtp2-large\n",
        "  \"train_batch_size\" : 5,\n",
        "  \"eval_batch_size\" : 5,\n",
        "  \"extra_embedding_dim\" : 768,\n",
        "  \"global_dense_feature_list\" : None # in file it will be saved with the value null; while reading take care of this thing\n",
        "}\n",
        "\n",
        "model_type = args_dir[\"model_type\"]\n",
        "model_name = args_dir[\"model_name\"]\n",
        "data_dir = args_dir[\"data_dir\"]\n",
        "save_steps = args_dir[\"save_steps\"]\n",
        "num_epochs = args_dir[\"num_epochs\"]\n",
        "gradient_accumulation_steps = args_dir[\"gradient_accumulation_steps\"]\n",
        "adam_epsilon = args_dir[\"adam_epsilon\"]\n",
        "warmup_steps = args_dir[\"warmup_steps\"]\n",
        "train_batch_size = args_dir[\"train_batch_size\"]\n",
        "eval_batch_size = args_dir[\"eval_batch_size\"]\n",
        "learning_rt = args_dir[\"learning_rt\"]\n",
        "extra_embedding_dim = args_dir[\"extra_embedding_dim\"] # Size of linear layer used for projecting extra embeddings.\n",
        "global_dense_feature_list = args_dir[\"global_dense_feature_list\"]\n",
        "max_grad_norm = args_dir[\"max_grad_norm\"]"
      ],
      "metadata": {
        "id": "L-MrCAwyROZc"
      },
      "execution_count": 12,
      "outputs": []
    },
    {
      "cell_type": "code",
      "source": [
        "# Choose device\n",
        "device = torch.device(\"cuda\" if torch.cuda.is_available() else \"cpu\")\n",
        "n_gpus = torch.cuda.device_count()\n",
        "\n",
        "print(device, n_gpus)"
      ],
      "metadata": {
        "colab": {
          "base_uri": "https://localhost:8080/"
        },
        "id": "rPctOF2fTeuK",
        "outputId": "c991df6a-1a77-422c-bfc6-1f2f20af680e"
      },
      "execution_count": 13,
      "outputs": [
        {
          "output_type": "stream",
          "name": "stdout",
          "text": [
            "cpu 0\n"
          ]
        }
      ]
    },
    {
      "cell_type": "code",
      "source": [
        "!pip install transformers"
      ],
      "metadata": {
        "colab": {
          "base_uri": "https://localhost:8080/"
        },
        "id": "NsDkXVlfTmLT",
        "outputId": "a98720a1-c140-4a80-9425-c02321c30bae"
      },
      "execution_count": 14,
      "outputs": [
        {
          "output_type": "stream",
          "name": "stdout",
          "text": [
            "Requirement already satisfied: transformers in /usr/local/lib/python3.10/dist-packages (4.35.2)\n",
            "Requirement already satisfied: filelock in /usr/local/lib/python3.10/dist-packages (from transformers) (3.13.1)\n",
            "Requirement already satisfied: huggingface-hub<1.0,>=0.16.4 in /usr/local/lib/python3.10/dist-packages (from transformers) (0.19.3)\n",
            "Requirement already satisfied: numpy>=1.17 in /usr/local/lib/python3.10/dist-packages (from transformers) (1.23.5)\n",
            "Requirement already satisfied: packaging>=20.0 in /usr/local/lib/python3.10/dist-packages (from transformers) (23.2)\n",
            "Requirement already satisfied: pyyaml>=5.1 in /usr/local/lib/python3.10/dist-packages (from transformers) (6.0.1)\n",
            "Requirement already satisfied: regex!=2019.12.17 in /usr/local/lib/python3.10/dist-packages (from transformers) (2023.6.3)\n",
            "Requirement already satisfied: requests in /usr/local/lib/python3.10/dist-packages (from transformers) (2.31.0)\n",
            "Requirement already satisfied: tokenizers<0.19,>=0.14 in /usr/local/lib/python3.10/dist-packages (from transformers) (0.15.0)\n",
            "Requirement already satisfied: safetensors>=0.3.1 in /usr/local/lib/python3.10/dist-packages (from transformers) (0.4.0)\n",
            "Requirement already satisfied: tqdm>=4.27 in /usr/local/lib/python3.10/dist-packages (from transformers) (4.66.1)\n",
            "Requirement already satisfied: fsspec>=2023.5.0 in /usr/local/lib/python3.10/dist-packages (from huggingface-hub<1.0,>=0.16.4->transformers) (2023.6.0)\n",
            "Requirement already satisfied: typing-extensions>=3.7.4.3 in /usr/local/lib/python3.10/dist-packages (from huggingface-hub<1.0,>=0.16.4->transformers) (4.5.0)\n",
            "Requirement already satisfied: charset-normalizer<4,>=2 in /usr/local/lib/python3.10/dist-packages (from requests->transformers) (3.3.2)\n",
            "Requirement already satisfied: idna<4,>=2.5 in /usr/local/lib/python3.10/dist-packages (from requests->transformers) (3.4)\n",
            "Requirement already satisfied: urllib3<3,>=1.21.1 in /usr/local/lib/python3.10/dist-packages (from requests->transformers) (2.0.7)\n",
            "Requirement already satisfied: certifi>=2017.4.17 in /usr/local/lib/python3.10/dist-packages (from requests->transformers) (2023.7.22)\n"
          ]
        }
      ]
    },
    {
      "cell_type": "code",
      "source": [
        "# Initialize model classes variables\n",
        "MODEL_CLASSES = {\n",
        "    'gpt2': (GPT2Config, GPT2LMHeadModel, GPT2Tokenizer),\n",
        "}\n",
        "config_class, model_class, tokenizer_class = MODEL_CLASSES[model_type]\n",
        "\n",
        "print(\"GPT2 Config class- \", config_class)\n",
        "print(\"GPT2 Model class- \", model_class)\n",
        "print(\"GPT2 Tokenizer class- \", tokenizer_class)"
      ],
      "metadata": {
        "colab": {
          "base_uri": "https://localhost:8080/"
        },
        "id": "-YNkKRstToYq",
        "outputId": "875ee22f-e000-4990-baee-2cb89e624fde"
      },
      "execution_count": 15,
      "outputs": [
        {
          "output_type": "stream",
          "name": "stdout",
          "text": [
            "GPT2 Config class-  <class 'transformers.models.gpt2.configuration_gpt2.GPT2Config'>\n",
            "GPT2 Model class-  <class 'transformers.models.gpt2.modeling_gpt2.GPT2LMHeadModel'>\n",
            "GPT2 Tokenizer class-  <class 'transformers.models.gpt2.tokenization_gpt2.GPT2Tokenizer'>\n"
          ]
        }
      ]
    },
    {
      "cell_type": "code",
      "source": [
        "# Init config\n",
        "config = config_class.from_pretrained(model_name)\n",
        "print(\"GPT2Config loaded\")\n",
        "\n",
        "# Init model\n",
        "model = model_class.from_pretrained(model_name, config = config)\n",
        "print(\"GPT2LMHeadModel loaded\")\n",
        "\n",
        "# Init tokenizer\n",
        "tokenizer = tokenizer_class.from_pretrained(model_name,do_lower_case = False)\n",
        "print(\"GPT2Tokenizer loaded\")"
      ],
      "metadata": {
        "colab": {
          "base_uri": "https://localhost:8080/",
          "height": 261,
          "referenced_widgets": [
            "e28dcfdba6124328a73a2d8b0fc3525b",
            "08244ab3de594ab697cac6ca757533b4",
            "724e3244ed194b57bcdf4ac22f479684",
            "248e0902b05d40348823fdeca64ccbc9",
            "9a2c305c80a94ee689342b92aa2c9989",
            "daf924f856fe40f886b8390fc686b5e8",
            "03ceca3e743542dca9f8e86b668588e3",
            "7500e839a6b14295b75cb65ee1705a98",
            "577e4e57418a43eba4f76e720480b090",
            "052be329c75b4c028aba6c07c8211174",
            "3063af51101547cfa45dfd392797fa08",
            "b3de5e9d13cc4805bf888f5259b785c7",
            "494fc1d1244842bb8983d48c1ab94532",
            "4c282c0eebfc42c398bfd20b4d7b9636",
            "364d4ecfd49841ab9776213011c4529a",
            "f12a90f294a24447957f9831aa9f3407",
            "0fbfcdb69a99489a870c71f0cd0abe07",
            "4d6b8150658a431689b153fa685d6871",
            "d919c382e0294570b896db7b8b89e45d",
            "e5b3aa1230e4490395b99c51e0f92ca4",
            "cd1cb6ff0f0a49c9a79c1a712ca597a0",
            "97e7baf8b55f444c812f44d333fd64c6",
            "327f0b6ce4e942ad9c15080b08f04305",
            "b122aa977ca449b0b2eeb17eb379cbdf",
            "9c2d4a9d52204cf3910a683fdeb23f2b",
            "3eb13800e92747abb02ab5eb10cdcf6b",
            "d6f42ba8a2f94352ad5843d54a4f4c31",
            "ba4f5e0f1b0748ee9843132fe2baeb85",
            "f019826e7a3649ee90c2f254cc1a6a52",
            "3027468ad6e64906a93b953bc61d20ef",
            "90960b4f5d4f4a8f905686bcdca6d740",
            "75221bcf887b4fe3841b01497576c7f8",
            "15e26f31bdfe469db0eb32ae0b556f13",
            "28f67b67ef4e4941a67a5e70b5cc9aac",
            "8cabb4f10633486f9033a4f5276e0e42",
            "4bdb8ff8cf7b40fc9e7259d82129b038",
            "1b7d32b8c98c4b3099c53b066f238a63",
            "f69502e4971f459680157e524aa639a5",
            "f33c31b4315349ada630a3b352d3a4da",
            "8016b3a499b540ac9649d9a636edcac8",
            "a0443be60cd546c7ac58a8349e3be333",
            "351ce093d0d34339808c6109672eb9f3",
            "a1a48aca4ef743f6b80af3e51e3ca4b5",
            "c08413196e4b4a4daff7b194f8e53430",
            "adf4033d004546019ec8444a5d68542c",
            "10aa6ce91d8f45578dea9f40b08b2b63",
            "d501b902d41240ca9a00d70306e1c1dd",
            "9acaf8978f594c079aec53af4bbefa51",
            "df6cdf2cb4b24008887d7b127e445eda",
            "f41f5e6dd3de45739f6cb3a3f914db39",
            "21454bc15ca8457d98187be8fd274e61",
            "1a4670efc9144a42be9080344a0320b3",
            "b6438a16c9ba4755aa2390792b06f5dc",
            "676e6823c7f64f788c0622b74f186ecd",
            "a176189f56974a2d8907767c4d3a8483",
            "60896df635214706b5884bd1f0287259",
            "046a28e469e24f6d8c26dfee80c053f5",
            "18f1f6eba4054fac882f7c44fc68bfc6",
            "c2e31f479eaf44e58704915a305da682",
            "4a939d10ef2f41ae95db22cab521737a",
            "42bedd2f6f3f4297a6ec124b35165b8e",
            "99eb0eee2dc248e5884c42a435a18371",
            "0fa34d92e3924e5b9ebbfe780d37b766",
            "7b8e5581f08f41929fde517c3d446fdd",
            "1707d982a10c4dd694cbe21e73b0f1b6",
            "62a1f8b863214f8eb22ece035ab614d3"
          ]
        },
        "id": "mSlelhYlU5x_",
        "outputId": "210f9343-a234-436b-f4f7-79f4a9db8d52"
      },
      "execution_count": 16,
      "outputs": [
        {
          "output_type": "display_data",
          "data": {
            "text/plain": [
              "config.json:   0%|          | 0.00/665 [00:00<?, ?B/s]"
            ],
            "application/vnd.jupyter.widget-view+json": {
              "version_major": 2,
              "version_minor": 0,
              "model_id": "e28dcfdba6124328a73a2d8b0fc3525b"
            }
          },
          "metadata": {}
        },
        {
          "output_type": "stream",
          "name": "stdout",
          "text": [
            "GPT2Config loaded\n"
          ]
        },
        {
          "output_type": "display_data",
          "data": {
            "text/plain": [
              "model.safetensors:   0%|          | 0.00/548M [00:00<?, ?B/s]"
            ],
            "application/vnd.jupyter.widget-view+json": {
              "version_major": 2,
              "version_minor": 0,
              "model_id": "b3de5e9d13cc4805bf888f5259b785c7"
            }
          },
          "metadata": {}
        },
        {
          "output_type": "display_data",
          "data": {
            "text/plain": [
              "generation_config.json:   0%|          | 0.00/124 [00:00<?, ?B/s]"
            ],
            "application/vnd.jupyter.widget-view+json": {
              "version_major": 2,
              "version_minor": 0,
              "model_id": "327f0b6ce4e942ad9c15080b08f04305"
            }
          },
          "metadata": {}
        },
        {
          "output_type": "stream",
          "name": "stdout",
          "text": [
            "GPT2LMHeadModel loaded\n"
          ]
        },
        {
          "output_type": "display_data",
          "data": {
            "text/plain": [
              "vocab.json:   0%|          | 0.00/1.04M [00:00<?, ?B/s]"
            ],
            "application/vnd.jupyter.widget-view+json": {
              "version_major": 2,
              "version_minor": 0,
              "model_id": "28f67b67ef4e4941a67a5e70b5cc9aac"
            }
          },
          "metadata": {}
        },
        {
          "output_type": "display_data",
          "data": {
            "text/plain": [
              "merges.txt:   0%|          | 0.00/456k [00:00<?, ?B/s]"
            ],
            "application/vnd.jupyter.widget-view+json": {
              "version_major": 2,
              "version_minor": 0,
              "model_id": "adf4033d004546019ec8444a5d68542c"
            }
          },
          "metadata": {}
        },
        {
          "output_type": "display_data",
          "data": {
            "text/plain": [
              "tokenizer.json:   0%|          | 0.00/1.36M [00:00<?, ?B/s]"
            ],
            "application/vnd.jupyter.widget-view+json": {
              "version_major": 2,
              "version_minor": 0,
              "model_id": "60896df635214706b5884bd1f0287259"
            }
          },
          "metadata": {}
        },
        {
          "output_type": "stream",
          "name": "stdout",
          "text": [
            "GPT2Tokenizer loaded\n"
          ]
        }
      ]
    },
    {
      "cell_type": "code",
      "source": [
        "# adding extra_dimension to config --- No need in DVP ---- Can be removed later\n",
        "config.extra_embedding_dim = extra_embedding_dim # don't know why we are using it; -- explore it"
      ],
      "metadata": {
        "id": "uXBOQCvCU88-"
      },
      "execution_count": 17,
      "outputs": []
    },
    {
      "cell_type": "code",
      "source": [
        "# Add special tokens to tokenizer\n",
        "SPECIAL_TOKENS = {\n",
        "    \"additional_special_tokens\": [\"<segment_1>\", \"<segment_2>\"],\n",
        "    \"pad_token\": \"<pad>\",\n",
        "    \"bos_token\": \"<bos>\",\n",
        "    \"eos_token\": \"<eos>\"\n",
        "}\n",
        "tokenizer.add_special_tokens(SPECIAL_TOKENS)\n",
        "print(\"Special Tokens addded to tokenizer\")\n",
        "\n",
        "print(\"Total tokens- \", len(tokenizer))"
      ],
      "metadata": {
        "colab": {
          "base_uri": "https://localhost:8080/"
        },
        "id": "Mq8YQ-phVAoy",
        "outputId": "2239aa9d-ee98-487d-e8bb-9a3b3e378b29"
      },
      "execution_count": 18,
      "outputs": [
        {
          "output_type": "stream",
          "name": "stdout",
          "text": [
            "Special Tokens addded to tokenizer\n",
            "Total tokens-  50262\n"
          ]
        }
      ]
    },
    {
      "cell_type": "code",
      "source": [
        "# resize token embedding matrix to take care of special tokens added\n",
        "model.resize_token_embeddings(len(tokenizer)) # each token of size-> 1280(gpt2-large), 768(gpt2)"
      ],
      "metadata": {
        "colab": {
          "base_uri": "https://localhost:8080/"
        },
        "id": "DkmyayHVVCxW",
        "outputId": "cbf87d6c-4441-4a21-eee0-934321428729"
      },
      "execution_count": 19,
      "outputs": [
        {
          "output_type": "execute_result",
          "data": {
            "text/plain": [
              "Embedding(50262, 768)"
            ]
          },
          "metadata": {},
          "execution_count": 19
        }
      ]
    },
    {
      "cell_type": "code",
      "source": [
        "# move model to device\n",
        "model.to(device)"
      ],
      "metadata": {
        "colab": {
          "base_uri": "https://localhost:8080/"
        },
        "id": "ksQybR3dVFd-",
        "outputId": "efa443d7-a289-4b7a-c9b7-75dd8210649e"
      },
      "execution_count": 20,
      "outputs": [
        {
          "output_type": "execute_result",
          "data": {
            "text/plain": [
              "GPT2LMHeadModel(\n",
              "  (transformer): GPT2Model(\n",
              "    (wte): Embedding(50262, 768)\n",
              "    (wpe): Embedding(1024, 768)\n",
              "    (drop): Dropout(p=0.1, inplace=False)\n",
              "    (h): ModuleList(\n",
              "      (0-11): 12 x GPT2Block(\n",
              "        (ln_1): LayerNorm((768,), eps=1e-05, elementwise_affine=True)\n",
              "        (attn): GPT2Attention(\n",
              "          (c_attn): Conv1D()\n",
              "          (c_proj): Conv1D()\n",
              "          (attn_dropout): Dropout(p=0.1, inplace=False)\n",
              "          (resid_dropout): Dropout(p=0.1, inplace=False)\n",
              "        )\n",
              "        (ln_2): LayerNorm((768,), eps=1e-05, elementwise_affine=True)\n",
              "        (mlp): GPT2MLP(\n",
              "          (c_fc): Conv1D()\n",
              "          (c_proj): Conv1D()\n",
              "          (act): NewGELUActivation()\n",
              "          (dropout): Dropout(p=0.1, inplace=False)\n",
              "        )\n",
              "      )\n",
              "    )\n",
              "    (ln_f): LayerNorm((768,), eps=1e-05, elementwise_affine=True)\n",
              "  )\n",
              "  (lm_head): Linear(in_features=768, out_features=50262, bias=False)\n",
              ")"
            ]
          },
          "metadata": {},
          "execution_count": 20
        }
      ]
    },
    {
      "cell_type": "code",
      "source": [
        "# Init configs\n",
        "\n",
        "MAX_PARAPHRASE_LEN = 100\n",
        "\n",
        "# mainly to handle input\n",
        "CONFIG = {\n",
        "    \"max_prefix_len\": int(MAX_PARAPHRASE_LEN / 2),\n",
        "    \"max_suffix_len\": int(MAX_PARAPHRASE_LEN / 2)\n",
        "}"
      ],
      "metadata": {
        "id": "7l76yR5ak32e"
      },
      "execution_count": 32,
      "outputs": []
    },
    {
      "cell_type": "code",
      "source": [
        "# Read label dictionary for input data\n",
        "def get_label_dict(data_dir):\n",
        "  label_dict = {}\n",
        "  with open(\"{}/dict.txt\".format(data_dir)) as f:\n",
        "      label_dict_lines = f.read().strip().split(\"\\n\")\n",
        "\n",
        "  for i, x in enumerate(label_dict_lines):\n",
        "      if x.startswith(\"madeupword\"):\n",
        "          continue\n",
        "      label_dict[x.split()[0]] = i\n",
        "  reverse_label_dict = {v: k for k, v in label_dict.items()}\n",
        "\n",
        "  return label_dict, reverse_label_dict"
      ],
      "metadata": {
        "id": "fJmzZvw8VJoe"
      },
      "execution_count": 21,
      "outputs": []
    },
    {
      "cell_type": "code",
      "source": [
        "# Preprocess input from paranmt\n",
        "def preprocess(exp, tokenizer, config):\n",
        "  MASK_TOKEN_ID = -100\n",
        "\n",
        "  max_prefix_len = config[\"max_prefix_len\"]\n",
        "  max_suffix_len = config[\"max_suffix_len\"]\n",
        "\n",
        "  sent1 = np.array(exp[\"prefix_sent\"])\n",
        "  sent2 = np.array(exp[\"actual_sent\"])\n",
        "\n",
        "  # truncate\n",
        "  if(len(sent1) > max_prefix_len):\n",
        "    sent1 = sent1[:max_prefix_len]\n",
        "\n",
        "  if(len(sent2) > max_suffix_len):\n",
        "    sent2 = sent2[:max_suffix_len]\n",
        "\n",
        "  # add padding; left padding to prefix and right padding to suffix\n",
        "  count_pad_tokens_prefix = max_prefix_len - len(sent1)\n",
        "  sent1 = np.pad(sent1, (count_pad_tokens_prefix, 0), constant_values = tokenizer.pad_token_id)\n",
        "\n",
        "  # add <eos> to suffix\n",
        "  sent2 = np.append(sent2, tokenizer.eos_token_id)\n",
        "\n",
        "  count_pad_tokens_suffix = (max_suffix_len + 1) - len(sent2)\n",
        "  sent2 = np.pad(sent2, (0, count_pad_tokens_suffix), constant_values = tokenizer.pad_token_id)\n",
        "\n",
        "  # sentence to input gpt2\n",
        "  sentence_to_input_gpt2 = np.concatenate([sent1, [tokenizer.bos_token_id], sent2]).astype(np.int64) # [sent1, <bos> sent2]\n",
        "\n",
        "  # label/gt to predict; -100 used for masking that input (in ground truth only)\n",
        "  gt = np.concatenate([\n",
        "      [MASK_TOKEN_ID for _ in sent1],\n",
        "      [MASK_TOKEN_ID],\n",
        "      [val if val != tokenizer.pad_token_id else MASK_TOKEN_ID for val in sent2]\n",
        "  ]).astype(np.int64)\n",
        "\n",
        "  # segment\n",
        "  segment = np.concatenate([\n",
        "      [tokenizer.additional_special_tokens_ids[0] for _ in sent1],\n",
        "      [tokenizer.additional_special_tokens_ids[1]],\n",
        "      [tokenizer.additional_special_tokens_ids[1] for _ in sent2]\n",
        "  ]).astype(np.int64)\n",
        "\n",
        "  exp[\"prefix_sent\"] = sent1\n",
        "  exp[\"suffix_sent\"] = sent2\n",
        "\n",
        "  exp[\"input\"] = sentence_to_input_gpt2\n",
        "  exp[\"label\"] = gt\n",
        "  exp[\"segment\"] = segment\n",
        "\n",
        "  return exp"
      ],
      "metadata": {
        "id": "XMn4DlmpXj7_"
      },
      "execution_count": 34,
      "outputs": []
    },
    {
      "cell_type": "code",
      "source": [
        "# INVP dataset\n",
        "class Inverse_Paraphraser_Dataset(Dataset):\n",
        "    def __init__(self, config, tokenizer, limit_examples = None, evaluate = False, split_type = \"train\"):\n",
        "      self.config = config\n",
        "      self.examples = []\n",
        "      self.label_dict, self.reverse_label_dict = get_label_dict(data_dir)\n",
        "\n",
        "      file_to_read = data_dir + \"/\" + split_type + \".input0.bpe\"\n",
        "      with open(file_to_read) as f:\n",
        "        author_input_data = f.read().strip().split(\"\\n\")\n",
        "\n",
        "      file_to_read = data_dir + \"/\" + split_type + \".label\"\n",
        "      with open(file_to_read) as f:\n",
        "        suffix_styles = f.read().strip().split(\"\\n\")\n",
        "\n",
        "      file_to_read = data_dir + \"/\" + split_type + \".paraphrase_250_input0.bpe\"\n",
        "      with open(file_to_read) as f:\n",
        "        prefix_data = f.read().strip().split(\"\\n\")\n",
        "\n",
        "      print(\"Actual data(BPE)- \", author_input_data[0])\n",
        "      print(\"Paraphrased data(BPE)- \", prefix_data[0])\n",
        "      print(\"Suffix style- \", suffix_styles[0])\n",
        "\n",
        "      self.examples = []\n",
        "      for i, (act_sent, suffix_style) in tqdm.tqdm(enumerate(zip(author_input_data, suffix_styles)), total=len(author_input_data)):\n",
        "        self.examples.append({\n",
        "            \"prefix_sent\": np.array([int(x) for x in prefix_data[i].split()], dtype = np.int32),  # from DVP\n",
        "            \"actual_sent\": np.array([int(x) for x in act_sent.split()], dtype = np.int32),        # from actual\n",
        "            \"suffix_style\": self.label_dict[suffix_style],\n",
        "        })\n",
        "\n",
        "      if(limit_examples != None):\n",
        "        self.examples = self.examples[:limit_examples]\n",
        "\n",
        "      print(self.examples[0])\n",
        "\n",
        "      for eg in self.examples:\n",
        "        eg[\"original_style\"] = eg[\"suffix_style\"]\n",
        "\n",
        "      # perform same preprocess as that of DVP\n",
        "      self.examples = [preprocess(exp, tokenizer, config) for exp in self.examples]\n",
        "\n",
        "\n",
        "    def __len__(self):\n",
        "        return len(self.examples)\n",
        "\n",
        "    def __getitem__(self, idx):\n",
        "      sentence = self.examples[idx][\"input\"]\n",
        "      label = self.examples[idx][\"label\"]\n",
        "      segment = self.examples[idx][\"segment\"]\n",
        "\n",
        "      return {\n",
        "          \"sample_number\": idx,\n",
        "          \"sentence\": torch.tensor(sentence),\n",
        "          \"label\": torch.tensor(label),\n",
        "          \"segment\": torch.tensor(segment)\n",
        "      }"
      ],
      "metadata": {
        "id": "oNYpPxDhaQRZ"
      },
      "execution_count": 39,
      "outputs": []
    },
    {
      "cell_type": "code",
      "source": [
        "# create DVP dataset\n",
        "train_dataset = Inverse_Paraphraser_Dataset(CONFIG,\n",
        "                                            tokenizer,\n",
        "                                            limit_examples = 10,\n",
        "                                            evaluate = False, split_type = \"train\")\n",
        "print(\"\\n\\n INVP Dataset created\")"
      ],
      "metadata": {
        "colab": {
          "base_uri": "https://localhost:8080/"
        },
        "id": "ujzW_OxalOkA",
        "outputId": "c40784e5-5a72-416e-e9c1-8f6da41e6f2a"
      },
      "execution_count": 40,
      "outputs": [
        {
          "output_type": "stream",
          "name": "stdout",
          "text": [
            "Actual data(BPE)-  40 423 257 2000 284 5587 17903 304 260 14210 2740 338 83 13\n",
            "Paraphrased data(BPE)-  40 1101 3612 286 9008 345 878 345 1561 13\n",
            "Suffix style-  original\n"
          ]
        },
        {
          "output_type": "stream",
          "name": "stderr",
          "text": [
            "100%|██████████| 36790/36790 [00:00<00:00, 52989.95it/s]\n"
          ]
        },
        {
          "output_type": "stream",
          "name": "stdout",
          "text": [
            "{'prefix_sent': array([  40, 1101, 3612,  286, 9008,  345,  878,  345, 1561,   13],\n",
            "      dtype=int32), 'actual_sent': array([   40,   423,   257,  2000,   284,  5587, 17903,   304,   260,\n",
            "       14210,  2740,   338,    83,    13], dtype=int32), 'suffix_style': 0}\n",
            "\n",
            "\n",
            " INVP Dataset created\n"
          ]
        }
      ]
    },
    {
      "cell_type": "code",
      "source": [
        "# create dataloader\n",
        "train_sampler = RandomSampler(train_dataset)\n",
        "train_dataloader = DataLoader(train_dataset, sampler = train_sampler, batch_size = train_batch_size)\n",
        "\n",
        "print(\"INVP train dataloader created\")"
      ],
      "metadata": {
        "colab": {
          "base_uri": "https://localhost:8080/"
        },
        "id": "fbDQJYywmkGU",
        "outputId": "d3ae7806-cf78-401a-aad7-2c3e65c4f348"
      },
      "execution_count": 37,
      "outputs": [
        {
          "output_type": "stream",
          "name": "stdout",
          "text": [
            "INVP train dataloader created\n"
          ]
        }
      ]
    },
    {
      "cell_type": "code",
      "source": [
        "next(iter(train_dataloader))"
      ],
      "metadata": {
        "colab": {
          "base_uri": "https://localhost:8080/"
        },
        "id": "UjrWWuiTnMWM",
        "outputId": "03e62acb-b8a8-4530-b251-701ecfdb2c56"
      },
      "execution_count": 38,
      "outputs": [
        {
          "output_type": "execute_result",
          "data": {
            "text/plain": [
              "{'sample_number': tensor([3, 8, 0, 7, 2]),\n",
              " 'sentence': tensor([[50259, 50259, 50259, 50259, 50259, 50259, 50259, 50259, 50259, 50259,\n",
              "          50259, 50259, 50259, 50259, 50259, 50259, 50259, 50259, 50259, 50259,\n",
              "          50259, 50259, 50259, 50259, 50259, 50259, 50259, 50259, 50259, 50259,\n",
              "          50259, 50259, 50259, 50259, 50259, 50259, 50259, 50259, 50259, 50259,\n",
              "          50259, 50259,    40,  1101,  1654,   345,   821,   826,   546,   326,\n",
              "          50260,  5779,   531,    13, 50261, 50259, 50259, 50259, 50259, 50259,\n",
              "          50259, 50259, 50259, 50259, 50259, 50259, 50259, 50259, 50259, 50259,\n",
              "          50259, 50259, 50259, 50259, 50259, 50259, 50259, 50259, 50259, 50259,\n",
              "          50259, 50259, 50259, 50259, 50259, 50259, 50259, 50259, 50259, 50259,\n",
              "          50259, 50259, 50259, 50259, 50259, 50259, 50259, 50259, 50259, 50259,\n",
              "          50259, 50259],\n",
              "         [50259, 50259, 50259, 50259, 50259, 50259, 50259, 50259, 50259, 50259,\n",
              "          50259, 50259, 50259, 50259, 50259, 50259, 50259, 50259, 50259, 50259,\n",
              "          50259, 50259, 50259, 50259, 50259, 50259, 50259, 50259, 50259, 50259,\n",
              "          50259, 50259, 50259, 50259, 50259, 50259, 50259, 50259, 50259,  4360,\n",
              "            314,  1101,   407,  3772,   351,   262,   366,  1537,  1865,   526,\n",
              "          50260,  1537,  1865,    11,  8805,   321,    11,   314,   466,   407,\n",
              "            588,   366,  1537,  1865,   526,   632,   857,   477,   323,   383,\n",
              "            922, 38177,    13, 50261, 50259, 50259, 50259, 50259, 50259, 50259,\n",
              "          50259, 50259, 50259, 50259, 50259, 50259, 50259, 50259, 50259, 50259,\n",
              "          50259, 50259, 50259, 50259, 50259, 50259, 50259, 50259, 50259, 50259,\n",
              "          50259, 50259],\n",
              "         [50259, 50259, 50259, 50259, 50259, 50259, 50259, 50259, 50259, 50259,\n",
              "          50259, 50259, 50259, 50259, 50259, 50259, 50259, 50259, 50259, 50259,\n",
              "          50259, 50259, 50259, 50259, 50259, 50259, 50259, 50259, 50259, 50259,\n",
              "          50259, 50259, 50259, 50259, 50259, 50259, 50259, 50259, 50259, 50259,\n",
              "             40,  1101,  3612,   286,  9008,   345,   878,   345,  1561,    13,\n",
              "          50260,    40,   423,   257,  2000,   284,  5587, 17903,   304,   260,\n",
              "          14210,  2740,   338,    83,    13, 50261, 50259, 50259, 50259, 50259,\n",
              "          50259, 50259, 50259, 50259, 50259, 50259, 50259, 50259, 50259, 50259,\n",
              "          50259, 50259, 50259, 50259, 50259, 50259, 50259, 50259, 50259, 50259,\n",
              "          50259, 50259, 50259, 50259, 50259, 50259, 50259, 50259, 50259, 50259,\n",
              "          50259, 50259],\n",
              "         [50259, 50259, 50259, 50259, 50259, 50259, 50259, 50259, 50259, 50259,\n",
              "          50259, 50259, 50259, 50259, 50259, 50259, 50259, 50259, 50259, 50259,\n",
              "          50259, 50259, 50259, 50259, 50259, 50259, 50259, 50259, 50259, 50259,\n",
              "          50259, 50259, 50259, 50259, 50259, 50259, 50259, 50259, 50259, 50259,\n",
              "          50259, 50259, 50259,  5832,  1183,   787,   502,   257, 15807,    13,\n",
              "          50260, 12050, 17903,   257, 15807,   422,   502,    13, 50261, 50259,\n",
              "          50259, 50259, 50259, 50259, 50259, 50259, 50259, 50259, 50259, 50259,\n",
              "          50259, 50259, 50259, 50259, 50259, 50259, 50259, 50259, 50259, 50259,\n",
              "          50259, 50259, 50259, 50259, 50259, 50259, 50259, 50259, 50259, 50259,\n",
              "          50259, 50259, 50259, 50259, 50259, 50259, 50259, 50259, 50259, 50259,\n",
              "          50259, 50259],\n",
              "         [50259, 50259, 50259, 50259, 50259, 50259, 50259, 50259, 50259, 50259,\n",
              "          50259, 50259, 50259, 50259, 50259, 50259, 50259, 50259, 50259, 50259,\n",
              "          50259, 50259, 50259, 50259, 50259, 50259, 50259, 50259, 50259, 50259,\n",
              "          50259, 50259, 50259, 50259, 50259, 50259, 50259, 50259, 50259, 50259,\n",
              "          50259, 50259, 50259, 18454,   321,    11,   339,   338,  3734,    13,\n",
              "          50260, 18454,   321,    11,   339,   338,   880,    13, 50261, 50259,\n",
              "          50259, 50259, 50259, 50259, 50259, 50259, 50259, 50259, 50259, 50259,\n",
              "          50259, 50259, 50259, 50259, 50259, 50259, 50259, 50259, 50259, 50259,\n",
              "          50259, 50259, 50259, 50259, 50259, 50259, 50259, 50259, 50259, 50259,\n",
              "          50259, 50259, 50259, 50259, 50259, 50259, 50259, 50259, 50259, 50259,\n",
              "          50259, 50259]]),\n",
              " 'label': tensor([[ -100,  -100,  -100,  -100,  -100,  -100,  -100,  -100,  -100,  -100,\n",
              "           -100,  -100,  -100,  -100,  -100,  -100,  -100,  -100,  -100,  -100,\n",
              "           -100,  -100,  -100,  -100,  -100,  -100,  -100,  -100,  -100,  -100,\n",
              "           -100,  -100,  -100,  -100,  -100,  -100,  -100,  -100,  -100,  -100,\n",
              "           -100,  -100,  -100,  -100,  -100,  -100,  -100,  -100,  -100,  -100,\n",
              "           -100,  5779,   531,    13, 50261,  -100,  -100,  -100,  -100,  -100,\n",
              "           -100,  -100,  -100,  -100,  -100,  -100,  -100,  -100,  -100,  -100,\n",
              "           -100,  -100,  -100,  -100,  -100,  -100,  -100,  -100,  -100,  -100,\n",
              "           -100,  -100,  -100,  -100,  -100,  -100,  -100,  -100,  -100,  -100,\n",
              "           -100,  -100,  -100,  -100,  -100,  -100,  -100,  -100,  -100,  -100,\n",
              "           -100,  -100],\n",
              "         [ -100,  -100,  -100,  -100,  -100,  -100,  -100,  -100,  -100,  -100,\n",
              "           -100,  -100,  -100,  -100,  -100,  -100,  -100,  -100,  -100,  -100,\n",
              "           -100,  -100,  -100,  -100,  -100,  -100,  -100,  -100,  -100,  -100,\n",
              "           -100,  -100,  -100,  -100,  -100,  -100,  -100,  -100,  -100,  -100,\n",
              "           -100,  -100,  -100,  -100,  -100,  -100,  -100,  -100,  -100,  -100,\n",
              "           -100,  1537,  1865,    11,  8805,   321,    11,   314,   466,   407,\n",
              "            588,   366,  1537,  1865,   526,   632,   857,   477,   323,   383,\n",
              "            922, 38177,    13, 50261,  -100,  -100,  -100,  -100,  -100,  -100,\n",
              "           -100,  -100,  -100,  -100,  -100,  -100,  -100,  -100,  -100,  -100,\n",
              "           -100,  -100,  -100,  -100,  -100,  -100,  -100,  -100,  -100,  -100,\n",
              "           -100,  -100],\n",
              "         [ -100,  -100,  -100,  -100,  -100,  -100,  -100,  -100,  -100,  -100,\n",
              "           -100,  -100,  -100,  -100,  -100,  -100,  -100,  -100,  -100,  -100,\n",
              "           -100,  -100,  -100,  -100,  -100,  -100,  -100,  -100,  -100,  -100,\n",
              "           -100,  -100,  -100,  -100,  -100,  -100,  -100,  -100,  -100,  -100,\n",
              "           -100,  -100,  -100,  -100,  -100,  -100,  -100,  -100,  -100,  -100,\n",
              "           -100,    40,   423,   257,  2000,   284,  5587, 17903,   304,   260,\n",
              "          14210,  2740,   338,    83,    13, 50261,  -100,  -100,  -100,  -100,\n",
              "           -100,  -100,  -100,  -100,  -100,  -100,  -100,  -100,  -100,  -100,\n",
              "           -100,  -100,  -100,  -100,  -100,  -100,  -100,  -100,  -100,  -100,\n",
              "           -100,  -100,  -100,  -100,  -100,  -100,  -100,  -100,  -100,  -100,\n",
              "           -100,  -100],\n",
              "         [ -100,  -100,  -100,  -100,  -100,  -100,  -100,  -100,  -100,  -100,\n",
              "           -100,  -100,  -100,  -100,  -100,  -100,  -100,  -100,  -100,  -100,\n",
              "           -100,  -100,  -100,  -100,  -100,  -100,  -100,  -100,  -100,  -100,\n",
              "           -100,  -100,  -100,  -100,  -100,  -100,  -100,  -100,  -100,  -100,\n",
              "           -100,  -100,  -100,  -100,  -100,  -100,  -100,  -100,  -100,  -100,\n",
              "           -100, 12050, 17903,   257, 15807,   422,   502,    13, 50261,  -100,\n",
              "           -100,  -100,  -100,  -100,  -100,  -100,  -100,  -100,  -100,  -100,\n",
              "           -100,  -100,  -100,  -100,  -100,  -100,  -100,  -100,  -100,  -100,\n",
              "           -100,  -100,  -100,  -100,  -100,  -100,  -100,  -100,  -100,  -100,\n",
              "           -100,  -100,  -100,  -100,  -100,  -100,  -100,  -100,  -100,  -100,\n",
              "           -100,  -100],\n",
              "         [ -100,  -100,  -100,  -100,  -100,  -100,  -100,  -100,  -100,  -100,\n",
              "           -100,  -100,  -100,  -100,  -100,  -100,  -100,  -100,  -100,  -100,\n",
              "           -100,  -100,  -100,  -100,  -100,  -100,  -100,  -100,  -100,  -100,\n",
              "           -100,  -100,  -100,  -100,  -100,  -100,  -100,  -100,  -100,  -100,\n",
              "           -100,  -100,  -100,  -100,  -100,  -100,  -100,  -100,  -100,  -100,\n",
              "           -100, 18454,   321,    11,   339,   338,   880,    13, 50261,  -100,\n",
              "           -100,  -100,  -100,  -100,  -100,  -100,  -100,  -100,  -100,  -100,\n",
              "           -100,  -100,  -100,  -100,  -100,  -100,  -100,  -100,  -100,  -100,\n",
              "           -100,  -100,  -100,  -100,  -100,  -100,  -100,  -100,  -100,  -100,\n",
              "           -100,  -100,  -100,  -100,  -100,  -100,  -100,  -100,  -100,  -100,\n",
              "           -100,  -100]]),\n",
              " 'segment': tensor([[50257, 50257, 50257, 50257, 50257, 50257, 50257, 50257, 50257, 50257,\n",
              "          50257, 50257, 50257, 50257, 50257, 50257, 50257, 50257, 50257, 50257,\n",
              "          50257, 50257, 50257, 50257, 50257, 50257, 50257, 50257, 50257, 50257,\n",
              "          50257, 50257, 50257, 50257, 50257, 50257, 50257, 50257, 50257, 50257,\n",
              "          50257, 50257, 50257, 50257, 50257, 50257, 50257, 50257, 50257, 50257,\n",
              "          50258, 50258, 50258, 50258, 50258, 50258, 50258, 50258, 50258, 50258,\n",
              "          50258, 50258, 50258, 50258, 50258, 50258, 50258, 50258, 50258, 50258,\n",
              "          50258, 50258, 50258, 50258, 50258, 50258, 50258, 50258, 50258, 50258,\n",
              "          50258, 50258, 50258, 50258, 50258, 50258, 50258, 50258, 50258, 50258,\n",
              "          50258, 50258, 50258, 50258, 50258, 50258, 50258, 50258, 50258, 50258,\n",
              "          50258, 50258],\n",
              "         [50257, 50257, 50257, 50257, 50257, 50257, 50257, 50257, 50257, 50257,\n",
              "          50257, 50257, 50257, 50257, 50257, 50257, 50257, 50257, 50257, 50257,\n",
              "          50257, 50257, 50257, 50257, 50257, 50257, 50257, 50257, 50257, 50257,\n",
              "          50257, 50257, 50257, 50257, 50257, 50257, 50257, 50257, 50257, 50257,\n",
              "          50257, 50257, 50257, 50257, 50257, 50257, 50257, 50257, 50257, 50257,\n",
              "          50258, 50258, 50258, 50258, 50258, 50258, 50258, 50258, 50258, 50258,\n",
              "          50258, 50258, 50258, 50258, 50258, 50258, 50258, 50258, 50258, 50258,\n",
              "          50258, 50258, 50258, 50258, 50258, 50258, 50258, 50258, 50258, 50258,\n",
              "          50258, 50258, 50258, 50258, 50258, 50258, 50258, 50258, 50258, 50258,\n",
              "          50258, 50258, 50258, 50258, 50258, 50258, 50258, 50258, 50258, 50258,\n",
              "          50258, 50258],\n",
              "         [50257, 50257, 50257, 50257, 50257, 50257, 50257, 50257, 50257, 50257,\n",
              "          50257, 50257, 50257, 50257, 50257, 50257, 50257, 50257, 50257, 50257,\n",
              "          50257, 50257, 50257, 50257, 50257, 50257, 50257, 50257, 50257, 50257,\n",
              "          50257, 50257, 50257, 50257, 50257, 50257, 50257, 50257, 50257, 50257,\n",
              "          50257, 50257, 50257, 50257, 50257, 50257, 50257, 50257, 50257, 50257,\n",
              "          50258, 50258, 50258, 50258, 50258, 50258, 50258, 50258, 50258, 50258,\n",
              "          50258, 50258, 50258, 50258, 50258, 50258, 50258, 50258, 50258, 50258,\n",
              "          50258, 50258, 50258, 50258, 50258, 50258, 50258, 50258, 50258, 50258,\n",
              "          50258, 50258, 50258, 50258, 50258, 50258, 50258, 50258, 50258, 50258,\n",
              "          50258, 50258, 50258, 50258, 50258, 50258, 50258, 50258, 50258, 50258,\n",
              "          50258, 50258],\n",
              "         [50257, 50257, 50257, 50257, 50257, 50257, 50257, 50257, 50257, 50257,\n",
              "          50257, 50257, 50257, 50257, 50257, 50257, 50257, 50257, 50257, 50257,\n",
              "          50257, 50257, 50257, 50257, 50257, 50257, 50257, 50257, 50257, 50257,\n",
              "          50257, 50257, 50257, 50257, 50257, 50257, 50257, 50257, 50257, 50257,\n",
              "          50257, 50257, 50257, 50257, 50257, 50257, 50257, 50257, 50257, 50257,\n",
              "          50258, 50258, 50258, 50258, 50258, 50258, 50258, 50258, 50258, 50258,\n",
              "          50258, 50258, 50258, 50258, 50258, 50258, 50258, 50258, 50258, 50258,\n",
              "          50258, 50258, 50258, 50258, 50258, 50258, 50258, 50258, 50258, 50258,\n",
              "          50258, 50258, 50258, 50258, 50258, 50258, 50258, 50258, 50258, 50258,\n",
              "          50258, 50258, 50258, 50258, 50258, 50258, 50258, 50258, 50258, 50258,\n",
              "          50258, 50258],\n",
              "         [50257, 50257, 50257, 50257, 50257, 50257, 50257, 50257, 50257, 50257,\n",
              "          50257, 50257, 50257, 50257, 50257, 50257, 50257, 50257, 50257, 50257,\n",
              "          50257, 50257, 50257, 50257, 50257, 50257, 50257, 50257, 50257, 50257,\n",
              "          50257, 50257, 50257, 50257, 50257, 50257, 50257, 50257, 50257, 50257,\n",
              "          50257, 50257, 50257, 50257, 50257, 50257, 50257, 50257, 50257, 50257,\n",
              "          50258, 50258, 50258, 50258, 50258, 50258, 50258, 50258, 50258, 50258,\n",
              "          50258, 50258, 50258, 50258, 50258, 50258, 50258, 50258, 50258, 50258,\n",
              "          50258, 50258, 50258, 50258, 50258, 50258, 50258, 50258, 50258, 50258,\n",
              "          50258, 50258, 50258, 50258, 50258, 50258, 50258, 50258, 50258, 50258,\n",
              "          50258, 50258, 50258, 50258, 50258, 50258, 50258, 50258, 50258, 50258,\n",
              "          50258, 50258]])}"
            ]
          },
          "metadata": {},
          "execution_count": 38
        }
      ]
    },
    {
      "cell_type": "code",
      "source": [
        "# Now follow the same as done in DVP"
      ],
      "metadata": {
        "id": "FO4NE9q7nUd6"
      },
      "execution_count": null,
      "outputs": []
    },
    {
      "cell_type": "code",
      "source": [
        "# Total steps needed\n",
        "t_total = len(train_dataloader) // gradient_accumulation_steps * num_epochs\n",
        "\n",
        "# setting up the optimizer & learning rate schedulers\n",
        "no_decay = ['bias', 'LayerNorm.weight', 'layer_norm.weight']\n",
        "grouped_parameters = [\n",
        "    {\n",
        "        'params': [p for n, p in model.named_parameters()],\n",
        "        'weight_decay': 0.0\n",
        "    }\n",
        "]\n",
        "\n",
        "optimizer = AdamW(grouped_parameters, lr = float(learning_rt), eps = adam_epsilon)\n",
        "scheduler = get_linear_schedule_with_warmup(optimizer, num_warmup_steps = warmup_steps, num_training_steps = t_total)\n",
        "\n",
        "print(\"Adam Optimizer and learning rate scheduler instantiated\")"
      ],
      "metadata": {
        "colab": {
          "base_uri": "https://localhost:8080/"
        },
        "id": "oYa_1EdHoNwd",
        "outputId": "a512bb02-972b-44bf-beb4-dd39975e56af"
      },
      "execution_count": 41,
      "outputs": [
        {
          "output_type": "stream",
          "name": "stderr",
          "text": [
            "/usr/local/lib/python3.10/dist-packages/transformers/optimization.py:411: FutureWarning: This implementation of AdamW is deprecated and will be removed in a future version. Use the PyTorch implementation torch.optim.AdamW instead, or set `no_deprecation_warning=True` to disable this warning\n",
            "  warnings.warn(\n"
          ]
        },
        {
          "output_type": "stream",
          "name": "stdout",
          "text": [
            "Adam Optimizer and learning rate scheduler instantiated\n"
          ]
        }
      ]
    },
    {
      "cell_type": "code",
      "source": [
        "# Training meta Information\n",
        "print(\"Num of examples- \", len(train_dataset))\n",
        "print(\"Num of epochs- \", num_epochs)\n",
        "print(\"Batch size- \", train_batch_size)\n",
        "print(\"Gradient acculmulation steps- \", gradient_accumulation_steps)\n",
        "print(\"Total optimization steps- \", t_total)"
      ],
      "metadata": {
        "colab": {
          "base_uri": "https://localhost:8080/"
        },
        "id": "o4ImlIyUoOTm",
        "outputId": "372bc23a-1ff0-4816-fa58-3356d92b7d3a"
      },
      "execution_count": 42,
      "outputs": [
        {
          "output_type": "stream",
          "name": "stdout",
          "text": [
            "Num of examples-  10\n",
            "Num of epochs-  3\n",
            "Batch size-  5\n",
            "Gradient acculmulation steps-  2\n",
            "Total optimization steps-  3\n"
          ]
        }
      ]
    },
    {
      "cell_type": "code",
      "source": [
        "# zero out all the gradients\n",
        "model.zero_grad()"
      ],
      "metadata": {
        "id": "A4qZ0jOOoQ1X"
      },
      "execution_count": 43,
      "outputs": []
    },
    {
      "cell_type": "code",
      "source": [
        "# Fn to save checkpoints\n",
        "def save_model(model, tokenizer, chkpt_dir, global_step, args_dir):\n",
        "  if not os.path.exists(chkpt_dir):\n",
        "    os.makedirs(chkpt_dir)\n",
        "  print(\"Directory created for new checkpt to save\")\n",
        "\n",
        "  model.save_pretrained(chkpt_dir)\n",
        "  tokenizer.save_pretrained(chkpt_dir)\n",
        "  print(\"Model and tokenizer saved\")\n",
        "\n",
        "  # save training arguments also\n",
        "  with open(chkpt_dir + \"/my_args.json\", \"w\") as json_file:\n",
        "    json.dump(args_dir, json_file)\n",
        "  print(\"Training arguments saved\")\n",
        "\n",
        "  with open(os.path.join(chkpt_dir, \"global_step.txt\"), \"w\") as f:\n",
        "    f.write(str(global_step) + \"\\n\")\n",
        "  print(\"Global step file saved\")\n",
        "\n",
        "  print(\"Checkpint saving process done..\")"
      ],
      "metadata": {
        "id": "bq5Dt3jnoTEX"
      },
      "execution_count": 44,
      "outputs": []
    },
    {
      "cell_type": "code",
      "source": [
        "from tqdm import tqdm\n",
        "\n",
        "global_step = 0\n",
        "train_loss_val = 0.0\n",
        "chkpts_dir_name = []\n",
        "\n",
        "# start training\n",
        "train_iterator = trange(int(num_epochs), desc = \"Epoch\")\n",
        "for epoch in train_iterator:\n",
        "    epoch_iterator = tqdm(train_dataloader)\n",
        "\n",
        "    for batch_idx, batch in enumerate(epoch_iterator):\n",
        "      sentences = batch[\"sentence\"].to(device)\n",
        "      labels = batch[\"label\"].to(device)\n",
        "      segments = batch[\"segment\"].to(device)\n",
        "      model.train()\n",
        "\n",
        "      outputs = model(input_ids=sentences, token_type_ids = segments, labels = labels)\n",
        "      # print(\"Got logits and loss\")\n",
        "\n",
        "      loss = outputs.loss\n",
        "      loss = loss / gradient_accumulation_steps\n",
        "      train_loss_val += loss.item()\n",
        "\n",
        "      loss.backward()\n",
        "\n",
        "      if (((batch_idx + 1) % gradient_accumulation_steps) == 0):\n",
        "        # print(\"Moved 1 step\")\n",
        "        F.clip_grad_norm_(model.parameters(), max_grad_norm)\n",
        "        optimizer.step()\n",
        "        scheduler.step()\n",
        "\n",
        "        model.zero_grad()\n",
        "        global_step += 1\n",
        "\n",
        "        if (global_step % save_steps == 0):\n",
        "          # save checkpoint here\n",
        "          print(\"Saving new checkpoint\")\n",
        "          chkpt_dir = invp_paraphrase_model_chkpts_dir + \"/\" + dataset_to_run + \"/invp_chkpt_\"+str(global_step)\n",
        "          chkpts_dir_name.append(\"invp_chkpt_\"+str(global_step))\n",
        "\n",
        "          save_model(model, tokenizer, chkpt_dir, global_step, args_dir)\n",
        "      break"
      ],
      "metadata": {
        "colab": {
          "base_uri": "https://localhost:8080/"
        },
        "id": "8WEG_uejoihQ",
        "outputId": "a390251a-264a-4823-ffd0-5cdbc1ff6849"
      },
      "execution_count": 45,
      "outputs": [
        {
          "output_type": "stream",
          "name": "stderr",
          "text": [
            "Epoch:   0%|          | 0/3 [00:00<?, ?it/s]\n",
            "  0%|          | 0/2 [00:19<?, ?it/s]\n",
            "Epoch:  33%|███▎      | 1/3 [00:19<00:38, 19.06s/it]\n",
            "  0%|          | 0/2 [00:17<?, ?it/s]\n",
            "Epoch:  67%|██████▋   | 2/3 [00:36<00:18, 18.36s/it]\n",
            "  0%|          | 0/2 [00:15<?, ?it/s]\n",
            "Epoch: 100%|██████████| 3/3 [00:52<00:00, 17.56s/it]\n"
          ]
        }
      ]
    },
    {
      "cell_type": "code",
      "source": [
        "# Average train_loss per step\n",
        "global_step, tr_loss = global_step, train_loss_val / (global_step + 1) # +1 only while testing\n",
        "print(\"Final Global step- \", global_step)\n",
        "print(\"Average training loss per step- \", tr_loss)"
      ],
      "metadata": {
        "colab": {
          "base_uri": "https://localhost:8080/"
        },
        "id": "5qclQkzmpo50",
        "outputId": "b219ba34-fe12-432c-bf63-753fcc307dbd"
      },
      "execution_count": 46,
      "outputs": [
        {
          "output_type": "stream",
          "name": "stdout",
          "text": [
            "Final Global step-  0\n",
            "Average training loss per step-  135.2339096069336\n"
          ]
        }
      ]
    },
    {
      "cell_type": "code",
      "source": [
        "# save the last model also\n",
        "global_step = 3  # remove this also; fetch the last global step value\n",
        "chkpt_dir = invp_paraphrase_model_chkpts_dir + \"/\" + dataset_to_run + \"/invp_chkpt_\"+str(global_step)\n",
        "chkpts_dir_name.append(\"invp_chkpt_\"+str(global_step))\n",
        "\n",
        "save_model(model, tokenizer, chkpt_dir, global_step, args_dir)\n",
        "\n",
        "print(\"Last model state saved\")"
      ],
      "metadata": {
        "colab": {
          "base_uri": "https://localhost:8080/"
        },
        "id": "NEkZaqmDpqY0",
        "outputId": "45c4e2de-d865-4884-b997-dd54c3269b63"
      },
      "execution_count": 47,
      "outputs": [
        {
          "output_type": "stream",
          "name": "stdout",
          "text": [
            "Directory created for new checkpt to save\n",
            "Model and tokenizer saved\n",
            "Training arguments saved\n",
            "Global step file saved\n",
            "Checkpint saving process done..\n",
            "Last model state saved\n"
          ]
        }
      ]
    },
    {
      "cell_type": "code",
      "source": [
        "# Till now,\n",
        "# INVP trained on chosen dataset -> checkpoints saved -> Last model state saved\n",
        "print(\"Checkpoints saved with the name- \", chkpts_dir_name)"
      ],
      "metadata": {
        "colab": {
          "base_uri": "https://localhost:8080/"
        },
        "id": "2ucYD9kGpsS-",
        "outputId": "e56d8806-6dff-4be6-b391-902fabede537"
      },
      "execution_count": 48,
      "outputs": [
        {
          "output_type": "stream",
          "name": "stdout",
          "text": [
            "Checkpoints saved with the name-  ['invp_chkpt_3']\n"
          ]
        }
      ]
    },
    {
      "cell_type": "code",
      "source": [
        "# Start Evaluation\n",
        "print(\"Starting Evaluation of INVP on dev data based on perplexity\")"
      ],
      "metadata": {
        "id": "U6-rHZ27p9vS"
      },
      "execution_count": null,
      "outputs": []
    },
    {
      "cell_type": "code",
      "source": [
        "# Get validation dataset and dataloader\n",
        "import tqdm\n",
        "val_dataset = Inverse_Paraphraser_Dataset(CONFIG,\n",
        "                                          tokenizer,\n",
        "                                          limit_examples = 10,\n",
        "                                          evaluate = True, split_type = \"dev\")\n",
        "\n",
        "val_sampler = SequentialSampler(val_dataset)\n",
        "val_dataloader = DataLoader(val_dataset, sampler = val_sampler, batch_size = eval_batch_size)\n",
        "\n",
        "print(\"Validation dataset and dataloader created\")"
      ],
      "metadata": {
        "colab": {
          "base_uri": "https://localhost:8080/"
        },
        "id": "Vn76Wfj9qAZJ",
        "outputId": "222ab429-0af6-460f-ed9a-f688e9fd05f7"
      },
      "execution_count": 50,
      "outputs": [
        {
          "output_type": "stream",
          "name": "stdout",
          "text": [
            "Actual data(BPE)-  40 423 257 2000 284 5587 17903 304 260 14210 2740 338 83 13\n",
            "Paraphrased data(BPE)-  40 1101 3612 286 9008 345 878 345 1561 13\n",
            "Suffix style-  original\n"
          ]
        },
        {
          "output_type": "stream",
          "name": "stderr",
          "text": [
            "100%|██████████| 36790/36790 [00:00<00:00, 47680.72it/s]"
          ]
        },
        {
          "output_type": "stream",
          "name": "stdout",
          "text": [
            "{'prefix_sent': array([  40, 1101, 3612,  286, 9008,  345,  878,  345, 1561,   13],\n",
            "      dtype=int32), 'actual_sent': array([   40,   423,   257,  2000,   284,  5587, 17903,   304,   260,\n",
            "       14210,  2740,   338,    83,    13], dtype=int32), 'suffix_style': 0}\n",
            "Validation dataset and dataloader created\n"
          ]
        },
        {
          "output_type": "stream",
          "name": "stderr",
          "text": [
            "\n"
          ]
        }
      ]
    },
    {
      "cell_type": "code",
      "source": [
        "# Validation meta Information\n",
        "print(\"Num of examples- \", len(val_dataset))\n",
        "print(\"Batch size- \", eval_batch_size)"
      ],
      "metadata": {
        "colab": {
          "base_uri": "https://localhost:8080/"
        },
        "id": "Tn-BsWSBqXCu",
        "outputId": "1e23ca01-8134-434b-ea3e-5f69076445a7"
      },
      "execution_count": 51,
      "outputs": [
        {
          "output_type": "stream",
          "name": "stdout",
          "text": [
            "Num of examples-  10\n",
            "Batch size-  5\n"
          ]
        }
      ]
    },
    {
      "cell_type": "code",
      "source": [
        "# Fn to evaluate on a DVP checkpoint\n",
        "def evaluate(model, tokenizer, chkpt_dir_name, val_dataloader):\n",
        "  val_loss = 0.0\n",
        "  model.eval()\n",
        "\n",
        "  for i, batch in enumerate(val_dataloader):\n",
        "    sentences = batch[\"sentence\"].to(device)\n",
        "    labels = batch[\"label\"].to(device)\n",
        "    segments = batch[\"segment\"].to(device)\n",
        "\n",
        "    with torch.no_grad():\n",
        "      op = model(input_ids=sentences, token_type_ids=segments, labels=labels)\n",
        "      loss_val = op.loss.item()\n",
        "\n",
        "    val_loss += loss_val\n",
        "    # break\n",
        "\n",
        "  avg_val_loss = val_loss / (i + 1) # per batch average loss\n",
        "  perplexity = torch.exp(torch.tensor(avg_val_loss)) # perplexity of exp(avg_loss)\n",
        "\n",
        "  return perplexity"
      ],
      "metadata": {
        "id": "6y_EzEJfqZwa"
      },
      "execution_count": 52,
      "outputs": []
    },
    {
      "cell_type": "code",
      "source": [
        "chkpts_dir_name"
      ],
      "metadata": {
        "colab": {
          "base_uri": "https://localhost:8080/"
        },
        "id": "i2-EFGHkqys7",
        "outputId": "3469420e-e342-43f1-db0c-e278f01e9f4a"
      },
      "execution_count": 53,
      "outputs": [
        {
          "output_type": "execute_result",
          "data": {
            "text/plain": [
              "['invp_chkpt_3']"
            ]
          },
          "metadata": {},
          "execution_count": 53
        }
      ]
    },
    {
      "cell_type": "code",
      "source": [
        "# Start evaluating the checkpoints on dev data and using perplexity as a measure\n",
        "perplexity_list = []\n",
        "\n",
        "for chkpt_name in chkpts_dir_name:\n",
        "  # load chkpoint\n",
        "  chkpt_to_load = invp_paraphrase_model_chkpts_dir + \"/\" + dataset_to_run + \"/\" + chkpt_name\n",
        "  model = model_class.from_pretrained(chkpt_to_load)\n",
        "  tokenizer = tokenizer_class.from_pretrained(chkpt_to_load, do_lower_case = True)\n",
        "  model.to(device)\n",
        "  print(\"Checkpoint- \" + chkpt_name + \" loaded\")\n",
        "\n",
        "  # evaluate loaded\n",
        "  print(\"Evaluating on loaded checkpoint\")\n",
        "  perplexity = evaluate(model, tokenizer, chkpt_dir, val_dataloader)\n",
        "  perplexity_list.append((chkpt_name, perplexity))\n",
        "\n",
        "print(\"INVP evaluated on all the saved checkpoints\")"
      ],
      "metadata": {
        "colab": {
          "base_uri": "https://localhost:8080/"
        },
        "id": "_aQmUjhVqZ7h",
        "outputId": "e854d508-9d9d-47e7-9218-820c67efe7d6"
      },
      "execution_count": 54,
      "outputs": [
        {
          "output_type": "stream",
          "name": "stderr",
          "text": [
            "Special tokens have been added in the vocabulary, make sure the associated word embeddings are fine-tuned or trained.\n"
          ]
        },
        {
          "output_type": "stream",
          "name": "stdout",
          "text": [
            "Checkpoint- invp_chkpt_3 loaded\n",
            "Evaluating on loaded checkpoint\n",
            "INVP evaluated on all the saved checkpoints\n"
          ]
        }
      ]
    },
    {
      "cell_type": "code",
      "source": [
        "# Sort perplexity list in increasing order to get best model\n",
        "perplexity_list.sort(key=lambda x: x[1].item())\n",
        "top_chkpt_name = perplexity_list[0][0]\n",
        "\n",
        "print(\"Top performing checkpoint is- \", top_chkpt_name)"
      ],
      "metadata": {
        "colab": {
          "base_uri": "https://localhost:8080/"
        },
        "id": "S9ff8E0iqaGh",
        "outputId": "bf9f6246-9559-406f-98d7-d80b7bd1f53e"
      },
      "execution_count": 55,
      "outputs": [
        {
          "output_type": "stream",
          "name": "stdout",
          "text": [
            "Top performing checkpoint is-  invp_chkpt_3\n"
          ]
        }
      ]
    },
    {
      "cell_type": "code",
      "source": [
        "# Evaluation on dev data done"
      ],
      "metadata": {
        "id": "a_0bYHZiqaNj"
      },
      "execution_count": null,
      "outputs": []
    },
    {
      "cell_type": "code",
      "source": [
        "# move top performing checkpoint to other final_paraphrase_model dir\n",
        "copy_cmd = \"cp {}/* {}\".format(invp_paraphrase_model_chkpts_dir + \"/\" + dataset_to_run + \"/\" + top_chkpt_name,\n",
        "                               final_invp_paraphrase_model_dir + \"/\" + dataset_to_run)\n",
        "print(copy_cmd)\n",
        "\n",
        "# do copy to some other location\n",
        "subprocess.check_output(copy_cmd, shell=True)\n",
        "print(\"Copied successfully..!!\")"
      ],
      "metadata": {
        "colab": {
          "base_uri": "https://localhost:8080/"
        },
        "id": "bHkThHtRrAar",
        "outputId": "33d4ef22-8417-45c6-c9bf-aa39aad720f5"
      },
      "execution_count": 56,
      "outputs": [
        {
          "output_type": "stream",
          "name": "stdout",
          "text": [
            "cp /content/drive/MyDrive/IRE/INVP/shakespeare/invp_chkpt_3/* /content/drive/MyDrive/IRE/INVP/final_INVP/shakespeare\n",
            "Copied successfully..!!\n"
          ]
        }
      ]
    },
    {
      "cell_type": "code",
      "source": [
        "# just to verify that copied model is loading correctly or not\n",
        "chkpt_to_load = final_invp_paraphrase_model_dir + \"/\" + dataset_to_run\n",
        "model = model_class.from_pretrained(chkpt_to_load)\n",
        "tokenizer = tokenizer_class.from_pretrained(chkpt_to_load, do_lower_case = True)\n",
        "\n",
        "print(\"Model loaded successfully..!!\")"
      ],
      "metadata": {
        "colab": {
          "base_uri": "https://localhost:8080/"
        },
        "id": "4wn0HM9JrAfT",
        "outputId": "2c3ad8d3-0846-4f3a-cce4-cef3c81720d3"
      },
      "execution_count": 57,
      "outputs": [
        {
          "output_type": "stream",
          "name": "stderr",
          "text": [
            "Special tokens have been added in the vocabulary, make sure the associated word embeddings are fine-tuned or trained.\n"
          ]
        },
        {
          "output_type": "stream",
          "name": "stdout",
          "text": [
            "Model loaded successfully..!!\n"
          ]
        }
      ]
    },
    {
      "cell_type": "code",
      "source": [
        "# Finish Inverse Paraphraser"
      ],
      "metadata": {
        "id": "6w7VBsN9rAjJ"
      },
      "execution_count": null,
      "outputs": []
    }
  ]
}